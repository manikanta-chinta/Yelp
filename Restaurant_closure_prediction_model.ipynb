{
  "nbformat": 4,
  "nbformat_minor": 0,
  "metadata": {
    "colab": {
      "name": "Restaurant closure prediction.ipynb",
      "provenance": [],
      "collapsed_sections": [],
      "machine_shape": "hm"
    },
    "kernelspec": {
      "name": "python3",
      "display_name": "Python 3"
    },
    "accelerator": "TPU"
  },
  "cells": [
    {
      "cell_type": "code",
      "metadata": {
        "id": "VqFtXa82gxWu",
        "colab_type": "code",
        "outputId": "25d64fa4-d2a7-46fd-dea0-745102d4e1d3",
        "colab": {
          "base_uri": "https://localhost:8080/",
          "height": 121
        }
      },
      "source": [
        "from google.colab import drive\n",
        "drive.mount('/content/drive')"
      ],
      "execution_count": 1,
      "outputs": [
        {
          "output_type": "stream",
          "text": [
            "Go to this URL in a browser: https://accounts.google.com/o/oauth2/auth?client_id=947318989803-6bn6qk8qdgf4n4g3pfee6491hc0brc4i.apps.googleusercontent.com&redirect_uri=urn%3aietf%3awg%3aoauth%3a2.0%3aoob&response_type=code&scope=email%20https%3a%2f%2fwww.googleapis.com%2fauth%2fdocs.test%20https%3a%2f%2fwww.googleapis.com%2fauth%2fdrive%20https%3a%2f%2fwww.googleapis.com%2fauth%2fdrive.photos.readonly%20https%3a%2f%2fwww.googleapis.com%2fauth%2fpeopleapi.readonly\n",
            "\n",
            "Enter your authorization code:\n",
            "··········\n",
            "Mounted at /content/drive\n"
          ],
          "name": "stdout"
        }
      ]
    },
    {
      "cell_type": "code",
      "metadata": {
        "id": "a1fGglDwgxGF",
        "colab_type": "code",
        "outputId": "b30c8020-0f29-4a4f-85c0-2af644e81d24",
        "colab": {
          "base_uri": "https://localhost:8080/",
          "height": 151
        }
      },
      "source": [
        "!tar -xvf /content/drive/My\\ Drive/yelp_dataset.tar"
      ],
      "execution_count": 2,
      "outputs": [
        {
          "output_type": "stream",
          "text": [
            "business.json\n",
            "checkin.json\n",
            "review.json\n",
            "tip.json\n",
            "user.json\n",
            "photo.json\n",
            "Dataset_Challenge_Dataset_Agreement.pdf\n",
            "Yelp_Dataset_Challenge_Round_13.pdf\n"
          ],
          "name": "stdout"
        }
      ]
    },
    {
      "cell_type": "code",
      "metadata": {
        "id": "5QITZxG8gw9D",
        "colab_type": "code",
        "colab": {
          "base_uri": "https://localhost:8080/",
          "height": 70
        },
        "outputId": "0bd5b38c-e634-4507-8d4f-94022766e472"
      },
      "source": [
        "import pandas as pd\n",
        "import numpy as np\n",
        "import datetime\n",
        "import matplotlib.pyplot as plt\n",
        "import seaborn as sns\n",
        "import warnings\n",
        "warnings.filterwarnings('ignore')"
      ],
      "execution_count": 3,
      "outputs": [
        {
          "output_type": "stream",
          "text": [
            "/usr/local/lib/python3.6/dist-packages/statsmodels/tools/_testing.py:19: FutureWarning: pandas.util.testing is deprecated. Use the functions in the public API at pandas.testing instead.\n",
            "  import pandas.util.testing as tm\n"
          ],
          "name": "stderr"
        }
      ]
    },
    {
      "cell_type": "code",
      "metadata": {
        "id": "axiKuyCwgwuL",
        "colab_type": "code",
        "colab": {}
      },
      "source": [
        "business = pd.read_json('business.json',lines=True)"
      ],
      "execution_count": 0,
      "outputs": []
    },
    {
      "cell_type": "code",
      "metadata": {
        "id": "UXQUfQhzkRqC",
        "colab_type": "code",
        "outputId": "a5925121-64fe-41c9-b46f-4ef2473fa42e",
        "colab": {
          "base_uri": "https://localhost:8080/",
          "height": 224
        }
      },
      "source": [
        "business.head(2)"
      ],
      "execution_count": 5,
      "outputs": [
        {
          "output_type": "execute_result",
          "data": {
            "text/html": [
              "<div>\n",
              "<style scoped>\n",
              "    .dataframe tbody tr th:only-of-type {\n",
              "        vertical-align: middle;\n",
              "    }\n",
              "\n",
              "    .dataframe tbody tr th {\n",
              "        vertical-align: top;\n",
              "    }\n",
              "\n",
              "    .dataframe thead th {\n",
              "        text-align: right;\n",
              "    }\n",
              "</style>\n",
              "<table border=\"1\" class=\"dataframe\">\n",
              "  <thead>\n",
              "    <tr style=\"text-align: right;\">\n",
              "      <th></th>\n",
              "      <th>business_id</th>\n",
              "      <th>name</th>\n",
              "      <th>address</th>\n",
              "      <th>city</th>\n",
              "      <th>state</th>\n",
              "      <th>postal_code</th>\n",
              "      <th>latitude</th>\n",
              "      <th>longitude</th>\n",
              "      <th>stars</th>\n",
              "      <th>review_count</th>\n",
              "      <th>is_open</th>\n",
              "      <th>attributes</th>\n",
              "      <th>categories</th>\n",
              "      <th>hours</th>\n",
              "    </tr>\n",
              "  </thead>\n",
              "  <tbody>\n",
              "    <tr>\n",
              "      <th>0</th>\n",
              "      <td>1SWheh84yJXfytovILXOAQ</td>\n",
              "      <td>Arizona Biltmore Golf Club</td>\n",
              "      <td>2818 E Camino Acequia Drive</td>\n",
              "      <td>Phoenix</td>\n",
              "      <td>AZ</td>\n",
              "      <td>85016</td>\n",
              "      <td>33.522143</td>\n",
              "      <td>-112.018481</td>\n",
              "      <td>3.0</td>\n",
              "      <td>5</td>\n",
              "      <td>0</td>\n",
              "      <td>{'GoodForKids': 'False'}</td>\n",
              "      <td>Golf, Active Life</td>\n",
              "      <td>None</td>\n",
              "    </tr>\n",
              "    <tr>\n",
              "      <th>1</th>\n",
              "      <td>QXAEGFB4oINsVuTFxEYKFQ</td>\n",
              "      <td>Emerald Chinese Restaurant</td>\n",
              "      <td>30 Eglinton Avenue W</td>\n",
              "      <td>Mississauga</td>\n",
              "      <td>ON</td>\n",
              "      <td>L5R 3E7</td>\n",
              "      <td>43.605499</td>\n",
              "      <td>-79.652289</td>\n",
              "      <td>2.5</td>\n",
              "      <td>128</td>\n",
              "      <td>1</td>\n",
              "      <td>{'RestaurantsReservations': 'True', 'GoodForMe...</td>\n",
              "      <td>Specialty Food, Restaurants, Dim Sum, Imported...</td>\n",
              "      <td>{'Monday': '9:0-0:0', 'Tuesday': '9:0-0:0', 'W...</td>\n",
              "    </tr>\n",
              "  </tbody>\n",
              "</table>\n",
              "</div>"
            ],
            "text/plain": [
              "              business_id  ...                                              hours\n",
              "0  1SWheh84yJXfytovILXOAQ  ...                                               None\n",
              "1  QXAEGFB4oINsVuTFxEYKFQ  ...  {'Monday': '9:0-0:0', 'Tuesday': '9:0-0:0', 'W...\n",
              "\n",
              "[2 rows x 14 columns]"
            ]
          },
          "metadata": {
            "tags": []
          },
          "execution_count": 5
        }
      ]
    },
    {
      "cell_type": "code",
      "metadata": {
        "id": "81GLb1F0tG12",
        "colab_type": "code",
        "colab": {}
      },
      "source": [
        "business = business[['business_id','postal_code','stars','review_count','is_open','categories']]"
      ],
      "execution_count": 0,
      "outputs": []
    },
    {
      "cell_type": "code",
      "metadata": {
        "id": "CpcIC8itkWaf",
        "colab_type": "code",
        "colab": {}
      },
      "source": [
        "business = business[~business['categories'].isna()]"
      ],
      "execution_count": 0,
      "outputs": []
    },
    {
      "cell_type": "code",
      "metadata": {
        "id": "sE3tWPzdkoD_",
        "colab_type": "code",
        "colab": {}
      },
      "source": [
        "business = business[business['categories'].str.contains('Restaurants')]"
      ],
      "execution_count": 0,
      "outputs": []
    },
    {
      "cell_type": "code",
      "metadata": {
        "id": "l_AtjdEzlaeY",
        "colab_type": "code",
        "outputId": "ebb68d2a-cad4-445d-bf40-79c83aadaa74",
        "colab": {
          "base_uri": "https://localhost:8080/",
          "height": 106
        }
      },
      "source": [
        "business.head(2)"
      ],
      "execution_count": 9,
      "outputs": [
        {
          "output_type": "execute_result",
          "data": {
            "text/html": [
              "<div>\n",
              "<style scoped>\n",
              "    .dataframe tbody tr th:only-of-type {\n",
              "        vertical-align: middle;\n",
              "    }\n",
              "\n",
              "    .dataframe tbody tr th {\n",
              "        vertical-align: top;\n",
              "    }\n",
              "\n",
              "    .dataframe thead th {\n",
              "        text-align: right;\n",
              "    }\n",
              "</style>\n",
              "<table border=\"1\" class=\"dataframe\">\n",
              "  <thead>\n",
              "    <tr style=\"text-align: right;\">\n",
              "      <th></th>\n",
              "      <th>business_id</th>\n",
              "      <th>postal_code</th>\n",
              "      <th>stars</th>\n",
              "      <th>review_count</th>\n",
              "      <th>is_open</th>\n",
              "      <th>categories</th>\n",
              "    </tr>\n",
              "  </thead>\n",
              "  <tbody>\n",
              "    <tr>\n",
              "      <th>1</th>\n",
              "      <td>QXAEGFB4oINsVuTFxEYKFQ</td>\n",
              "      <td>L5R 3E7</td>\n",
              "      <td>2.5</td>\n",
              "      <td>128</td>\n",
              "      <td>1</td>\n",
              "      <td>Specialty Food, Restaurants, Dim Sum, Imported...</td>\n",
              "    </tr>\n",
              "    <tr>\n",
              "      <th>2</th>\n",
              "      <td>gnKjwL_1w79qoiV3IC_xQQ</td>\n",
              "      <td>28210</td>\n",
              "      <td>4.0</td>\n",
              "      <td>170</td>\n",
              "      <td>1</td>\n",
              "      <td>Sushi Bars, Restaurants, Japanese</td>\n",
              "    </tr>\n",
              "  </tbody>\n",
              "</table>\n",
              "</div>"
            ],
            "text/plain": [
              "              business_id  ...                                         categories\n",
              "1  QXAEGFB4oINsVuTFxEYKFQ  ...  Specialty Food, Restaurants, Dim Sum, Imported...\n",
              "2  gnKjwL_1w79qoiV3IC_xQQ  ...                  Sushi Bars, Restaurants, Japanese\n",
              "\n",
              "[2 rows x 6 columns]"
            ]
          },
          "metadata": {
            "tags": []
          },
          "execution_count": 9
        }
      ]
    },
    {
      "cell_type": "code",
      "metadata": {
        "id": "sXsP3m4D29pD",
        "colab_type": "code",
        "colab": {}
      },
      "source": [
        "user1 = pd.read_json('user.json',lines=True,chunksize=1000000)"
      ],
      "execution_count": 0,
      "outputs": []
    },
    {
      "cell_type": "code",
      "metadata": {
        "id": "vZL07n-CmAhb",
        "colab_type": "code",
        "colab": {}
      },
      "source": [
        "user = pd.DataFrame()"
      ],
      "execution_count": 0,
      "outputs": []
    },
    {
      "cell_type": "code",
      "metadata": {
        "id": "mV6yfJF4td1h",
        "colab_type": "code",
        "colab": {}
      },
      "source": [
        "for record in user1:\n",
        "    user = user.append(pd.DataFrame(record))"
      ],
      "execution_count": 0,
      "outputs": []
    },
    {
      "cell_type": "code",
      "metadata": {
        "id": "Bkj-pjpTtRd0",
        "colab_type": "code",
        "colab": {}
      },
      "source": [
        "user = user[['user_id','review_count','elite','fans']]"
      ],
      "execution_count": 0,
      "outputs": []
    },
    {
      "cell_type": "code",
      "metadata": {
        "colab_type": "code",
        "id": "zgPdj7t-hNnH",
        "colab": {}
      },
      "source": [
        "review = pd.read_json('review.json',lines=True,chunksize=1000000)"
      ],
      "execution_count": 0,
      "outputs": []
    },
    {
      "cell_type": "code",
      "metadata": {
        "id": "JtyqMzdqt1A3",
        "colab_type": "code",
        "colab": {}
      },
      "source": [
        "review1 = pd.DataFrame()"
      ],
      "execution_count": 0,
      "outputs": []
    },
    {
      "cell_type": "code",
      "metadata": {
        "id": "94K9O5LUt4Zl",
        "colab_type": "code",
        "colab": {}
      },
      "source": [
        "for record in review:\n",
        "    review1 = review1.append(pd.DataFrame(record))"
      ],
      "execution_count": 0,
      "outputs": []
    },
    {
      "cell_type": "code",
      "metadata": {
        "id": "ojUK3P3kqtWr",
        "colab_type": "code",
        "colab": {}
      },
      "source": [
        "review1 = review1[['review_id','user_id','business_id','stars']]"
      ],
      "execution_count": 0,
      "outputs": []
    },
    {
      "cell_type": "code",
      "metadata": {
        "id": "qg6nyZg-uQQz",
        "colab_type": "code",
        "colab": {}
      },
      "source": [
        "user_review = pd.merge(review1,user,how='left',on='user_id')"
      ],
      "execution_count": 0,
      "outputs": []
    },
    {
      "cell_type": "code",
      "metadata": {
        "id": "62-x_3UoxDmV",
        "colab_type": "code",
        "outputId": "831653cc-a2ca-4f71-9952-fc61e7b1a38b",
        "colab": {
          "base_uri": "https://localhost:8080/",
          "height": 195
        }
      },
      "source": [
        "user_review.head()"
      ],
      "execution_count": 19,
      "outputs": [
        {
          "output_type": "execute_result",
          "data": {
            "text/html": [
              "<div>\n",
              "<style scoped>\n",
              "    .dataframe tbody tr th:only-of-type {\n",
              "        vertical-align: middle;\n",
              "    }\n",
              "\n",
              "    .dataframe tbody tr th {\n",
              "        vertical-align: top;\n",
              "    }\n",
              "\n",
              "    .dataframe thead th {\n",
              "        text-align: right;\n",
              "    }\n",
              "</style>\n",
              "<table border=\"1\" class=\"dataframe\">\n",
              "  <thead>\n",
              "    <tr style=\"text-align: right;\">\n",
              "      <th></th>\n",
              "      <th>review_id</th>\n",
              "      <th>user_id</th>\n",
              "      <th>business_id</th>\n",
              "      <th>stars</th>\n",
              "      <th>review_count</th>\n",
              "      <th>elite</th>\n",
              "      <th>fans</th>\n",
              "    </tr>\n",
              "  </thead>\n",
              "  <tbody>\n",
              "    <tr>\n",
              "      <th>0</th>\n",
              "      <td>Q1sbwvVQXV2734tPgoKj4Q</td>\n",
              "      <td>hG7b0MtEbXx5QzbzE6C_VA</td>\n",
              "      <td>ujmEBvifdJM6h6RLv4wQIg</td>\n",
              "      <td>1</td>\n",
              "      <td>10</td>\n",
              "      <td></td>\n",
              "      <td>0</td>\n",
              "    </tr>\n",
              "    <tr>\n",
              "      <th>1</th>\n",
              "      <td>GJXCdrto3ASJOqKeVWPi6Q</td>\n",
              "      <td>yXQM5uF2jS6es16SJzNHfg</td>\n",
              "      <td>NZnhc2sEQy3RmzKTZnqtwQ</td>\n",
              "      <td>5</td>\n",
              "      <td>68</td>\n",
              "      <td>2009</td>\n",
              "      <td>3</td>\n",
              "    </tr>\n",
              "    <tr>\n",
              "      <th>2</th>\n",
              "      <td>2TzJjDVDEuAW6MR5Vuc1ug</td>\n",
              "      <td>n6-Gk65cPZL6Uz8qRm3NYw</td>\n",
              "      <td>WTqjgwHlXbSFevF32_DJVw</td>\n",
              "      <td>5</td>\n",
              "      <td>10</td>\n",
              "      <td></td>\n",
              "      <td>1</td>\n",
              "    </tr>\n",
              "    <tr>\n",
              "      <th>3</th>\n",
              "      <td>yi0R0Ugj_xUx_Nek0-_Qig</td>\n",
              "      <td>dacAIZ6fTM6mqwW5uxkskg</td>\n",
              "      <td>ikCg8xy5JIg_NGPx-MSIDA</td>\n",
              "      <td>5</td>\n",
              "      <td>4</td>\n",
              "      <td></td>\n",
              "      <td>0</td>\n",
              "    </tr>\n",
              "    <tr>\n",
              "      <th>4</th>\n",
              "      <td>11a8sVPMUFtaC7_ABRkmtw</td>\n",
              "      <td>ssoyf2_x0EQMed6fgHeMyQ</td>\n",
              "      <td>b1b1eb3uo-w561D0ZfCEiQ</td>\n",
              "      <td>1</td>\n",
              "      <td>2</td>\n",
              "      <td></td>\n",
              "      <td>0</td>\n",
              "    </tr>\n",
              "  </tbody>\n",
              "</table>\n",
              "</div>"
            ],
            "text/plain": [
              "                review_id                 user_id  ... elite  fans\n",
              "0  Q1sbwvVQXV2734tPgoKj4Q  hG7b0MtEbXx5QzbzE6C_VA  ...           0\n",
              "1  GJXCdrto3ASJOqKeVWPi6Q  yXQM5uF2jS6es16SJzNHfg  ...  2009     3\n",
              "2  2TzJjDVDEuAW6MR5Vuc1ug  n6-Gk65cPZL6Uz8qRm3NYw  ...           1\n",
              "3  yi0R0Ugj_xUx_Nek0-_Qig  dacAIZ6fTM6mqwW5uxkskg  ...           0\n",
              "4  11a8sVPMUFtaC7_ABRkmtw  ssoyf2_x0EQMed6fgHeMyQ  ...           0\n",
              "\n",
              "[5 rows x 7 columns]"
            ]
          },
          "metadata": {
            "tags": []
          },
          "execution_count": 19
        }
      ]
    },
    {
      "cell_type": "code",
      "metadata": {
        "id": "ybRTf84ixKcE",
        "colab_type": "code",
        "colab": {}
      },
      "source": [
        "user_review['elite_user'] = np.where(user_review['elite'] != '',1,0)"
      ],
      "execution_count": 0,
      "outputs": []
    },
    {
      "cell_type": "code",
      "metadata": {
        "id": "F7K2ps3_xVwl",
        "colab_type": "code",
        "colab": {}
      },
      "source": [
        "user_review = user_review.drop(['review_id','elite'],axis=1)"
      ],
      "execution_count": 0,
      "outputs": []
    },
    {
      "cell_type": "code",
      "metadata": {
        "id": "Rku1ZAGjxjvO",
        "colab_type": "code",
        "colab": {}
      },
      "source": [
        "user_review = user_review.groupby(['business_id','elite_user']).agg({'user_id':'count','stars':'mean','review_count':'sum','fans':'sum'})"
      ],
      "execution_count": 0,
      "outputs": []
    },
    {
      "cell_type": "code",
      "metadata": {
        "id": "pL-I0jnXy8sm",
        "colab_type": "code",
        "colab": {}
      },
      "source": [
        "user_review = user_review.rename(columns={'user_id':'reviews'})"
      ],
      "execution_count": 0,
      "outputs": []
    },
    {
      "cell_type": "code",
      "metadata": {
        "id": "PQOSa_zdxx2D",
        "colab_type": "code",
        "colab": {}
      },
      "source": [
        "user_review = user_review.reset_index()"
      ],
      "execution_count": 0,
      "outputs": []
    },
    {
      "cell_type": "code",
      "metadata": {
        "id": "bwiwjmVmx6yn",
        "colab_type": "code",
        "outputId": "e13ebfcc-208f-4278-a859-7bdcdfaea986",
        "colab": {
          "base_uri": "https://localhost:8080/",
          "height": 195
        }
      },
      "source": [
        "user_review.head()"
      ],
      "execution_count": 25,
      "outputs": [
        {
          "output_type": "execute_result",
          "data": {
            "text/html": [
              "<div>\n",
              "<style scoped>\n",
              "    .dataframe tbody tr th:only-of-type {\n",
              "        vertical-align: middle;\n",
              "    }\n",
              "\n",
              "    .dataframe tbody tr th {\n",
              "        vertical-align: top;\n",
              "    }\n",
              "\n",
              "    .dataframe thead th {\n",
              "        text-align: right;\n",
              "    }\n",
              "</style>\n",
              "<table border=\"1\" class=\"dataframe\">\n",
              "  <thead>\n",
              "    <tr style=\"text-align: right;\">\n",
              "      <th></th>\n",
              "      <th>business_id</th>\n",
              "      <th>elite_user</th>\n",
              "      <th>reviews</th>\n",
              "      <th>stars</th>\n",
              "      <th>review_count</th>\n",
              "      <th>fans</th>\n",
              "    </tr>\n",
              "  </thead>\n",
              "  <tbody>\n",
              "    <tr>\n",
              "      <th>0</th>\n",
              "      <td>--1UhMGODdWsrMastO9DZw</td>\n",
              "      <td>0</td>\n",
              "      <td>21</td>\n",
              "      <td>4.000000</td>\n",
              "      <td>446</td>\n",
              "      <td>9</td>\n",
              "    </tr>\n",
              "    <tr>\n",
              "      <th>1</th>\n",
              "      <td>--1UhMGODdWsrMastO9DZw</td>\n",
              "      <td>1</td>\n",
              "      <td>5</td>\n",
              "      <td>4.400000</td>\n",
              "      <td>1021</td>\n",
              "      <td>38</td>\n",
              "    </tr>\n",
              "    <tr>\n",
              "      <th>2</th>\n",
              "      <td>--6MefnULPED_I942VcFNA</td>\n",
              "      <td>0</td>\n",
              "      <td>22</td>\n",
              "      <td>2.636364</td>\n",
              "      <td>1618</td>\n",
              "      <td>48</td>\n",
              "    </tr>\n",
              "    <tr>\n",
              "      <th>3</th>\n",
              "      <td>--6MefnULPED_I942VcFNA</td>\n",
              "      <td>1</td>\n",
              "      <td>24</td>\n",
              "      <td>3.666667</td>\n",
              "      <td>12567</td>\n",
              "      <td>1968</td>\n",
              "    </tr>\n",
              "    <tr>\n",
              "      <th>4</th>\n",
              "      <td>--7zmmkVg-IMGaXbuVd0SQ</td>\n",
              "      <td>0</td>\n",
              "      <td>33</td>\n",
              "      <td>3.909091</td>\n",
              "      <td>592</td>\n",
              "      <td>17</td>\n",
              "    </tr>\n",
              "  </tbody>\n",
              "</table>\n",
              "</div>"
            ],
            "text/plain": [
              "              business_id  elite_user  reviews     stars  review_count  fans\n",
              "0  --1UhMGODdWsrMastO9DZw           0       21  4.000000           446     9\n",
              "1  --1UhMGODdWsrMastO9DZw           1        5  4.400000          1021    38\n",
              "2  --6MefnULPED_I942VcFNA           0       22  2.636364          1618    48\n",
              "3  --6MefnULPED_I942VcFNA           1       24  3.666667         12567  1968\n",
              "4  --7zmmkVg-IMGaXbuVd0SQ           0       33  3.909091           592    17"
            ]
          },
          "metadata": {
            "tags": []
          },
          "execution_count": 25
        }
      ]
    },
    {
      "cell_type": "code",
      "metadata": {
        "id": "00jO3JMZ0O0I",
        "colab_type": "code",
        "colab": {}
      },
      "source": [
        "user_review = pd.pivot_table(user_review,values = ['reviews','stars','review_count','fans'],index='business_id',columns='elite_user')"
      ],
      "execution_count": 0,
      "outputs": []
    },
    {
      "cell_type": "code",
      "metadata": {
        "id": "65gQto2h0t7J",
        "colab_type": "code",
        "outputId": "b9b92728-4935-40a6-d844-009b00a70a74",
        "colab": {
          "base_uri": "https://localhost:8080/",
          "height": 254
        }
      },
      "source": [
        "user_review.head()"
      ],
      "execution_count": 27,
      "outputs": [
        {
          "output_type": "execute_result",
          "data": {
            "text/html": [
              "<div>\n",
              "<style scoped>\n",
              "    .dataframe tbody tr th:only-of-type {\n",
              "        vertical-align: middle;\n",
              "    }\n",
              "\n",
              "    .dataframe tbody tr th {\n",
              "        vertical-align: top;\n",
              "    }\n",
              "\n",
              "    .dataframe thead tr th {\n",
              "        text-align: left;\n",
              "    }\n",
              "\n",
              "    .dataframe thead tr:last-of-type th {\n",
              "        text-align: right;\n",
              "    }\n",
              "</style>\n",
              "<table border=\"1\" class=\"dataframe\">\n",
              "  <thead>\n",
              "    <tr>\n",
              "      <th></th>\n",
              "      <th colspan=\"2\" halign=\"left\">fans</th>\n",
              "      <th colspan=\"2\" halign=\"left\">review_count</th>\n",
              "      <th colspan=\"2\" halign=\"left\">reviews</th>\n",
              "      <th colspan=\"2\" halign=\"left\">stars</th>\n",
              "    </tr>\n",
              "    <tr>\n",
              "      <th>elite_user</th>\n",
              "      <th>0</th>\n",
              "      <th>1</th>\n",
              "      <th>0</th>\n",
              "      <th>1</th>\n",
              "      <th>0</th>\n",
              "      <th>1</th>\n",
              "      <th>0</th>\n",
              "      <th>1</th>\n",
              "    </tr>\n",
              "    <tr>\n",
              "      <th>business_id</th>\n",
              "      <th></th>\n",
              "      <th></th>\n",
              "      <th></th>\n",
              "      <th></th>\n",
              "      <th></th>\n",
              "      <th></th>\n",
              "      <th></th>\n",
              "      <th></th>\n",
              "    </tr>\n",
              "  </thead>\n",
              "  <tbody>\n",
              "    <tr>\n",
              "      <th>--1UhMGODdWsrMastO9DZw</th>\n",
              "      <td>9.0</td>\n",
              "      <td>38.0</td>\n",
              "      <td>446.0</td>\n",
              "      <td>1021.0</td>\n",
              "      <td>21.0</td>\n",
              "      <td>5.0</td>\n",
              "      <td>4.000000</td>\n",
              "      <td>4.400000</td>\n",
              "    </tr>\n",
              "    <tr>\n",
              "      <th>--6MefnULPED_I942VcFNA</th>\n",
              "      <td>48.0</td>\n",
              "      <td>1968.0</td>\n",
              "      <td>1618.0</td>\n",
              "      <td>12567.0</td>\n",
              "      <td>22.0</td>\n",
              "      <td>24.0</td>\n",
              "      <td>2.636364</td>\n",
              "      <td>3.666667</td>\n",
              "    </tr>\n",
              "    <tr>\n",
              "      <th>--7zmmkVg-IMGaXbuVd0SQ</th>\n",
              "      <td>17.0</td>\n",
              "      <td>1150.0</td>\n",
              "      <td>592.0</td>\n",
              "      <td>11518.0</td>\n",
              "      <td>33.0</td>\n",
              "      <td>26.0</td>\n",
              "      <td>3.909091</td>\n",
              "      <td>3.884615</td>\n",
              "    </tr>\n",
              "    <tr>\n",
              "      <th>--8LPVSo5i0Oo61X01sV9A</th>\n",
              "      <td>2.0</td>\n",
              "      <td>NaN</td>\n",
              "      <td>30.0</td>\n",
              "      <td>NaN</td>\n",
              "      <td>4.0</td>\n",
              "      <td>NaN</td>\n",
              "      <td>3.500000</td>\n",
              "      <td>NaN</td>\n",
              "    </tr>\n",
              "    <tr>\n",
              "      <th>--9QQLMTbFzLJ_oT-ON3Xw</th>\n",
              "      <td>8.0</td>\n",
              "      <td>5.0</td>\n",
              "      <td>328.0</td>\n",
              "      <td>139.0</td>\n",
              "      <td>12.0</td>\n",
              "      <td>1.0</td>\n",
              "      <td>3.250000</td>\n",
              "      <td>4.000000</td>\n",
              "    </tr>\n",
              "  </tbody>\n",
              "</table>\n",
              "</div>"
            ],
            "text/plain": [
              "                        fans         review_count  ... reviews     stars          \n",
              "elite_user                 0       1            0  ...       1         0         1\n",
              "business_id                                        ...                            \n",
              "--1UhMGODdWsrMastO9DZw   9.0    38.0        446.0  ...     5.0  4.000000  4.400000\n",
              "--6MefnULPED_I942VcFNA  48.0  1968.0       1618.0  ...    24.0  2.636364  3.666667\n",
              "--7zmmkVg-IMGaXbuVd0SQ  17.0  1150.0        592.0  ...    26.0  3.909091  3.884615\n",
              "--8LPVSo5i0Oo61X01sV9A   2.0     NaN         30.0  ...     NaN  3.500000       NaN\n",
              "--9QQLMTbFzLJ_oT-ON3Xw   8.0     5.0        328.0  ...     1.0  3.250000  4.000000\n",
              "\n",
              "[5 rows x 8 columns]"
            ]
          },
          "metadata": {
            "tags": []
          },
          "execution_count": 27
        }
      ]
    },
    {
      "cell_type": "code",
      "metadata": {
        "id": "ROVGJOAR1nvL",
        "colab_type": "code",
        "colab": {}
      },
      "source": [
        "user_review = user_review.reset_index()"
      ],
      "execution_count": 0,
      "outputs": []
    },
    {
      "cell_type": "code",
      "metadata": {
        "id": "FnncSnw775-5",
        "colab_type": "code",
        "colab": {}
      },
      "source": [
        "user_review.columns = ['business_id','Non_elite_fans','elite_fans','Non_elite_total_reviews','elite_total_reviews','Non_elite_rest_reviews','elite_rest_reviews','Non_elite_rating','elite_rating']"
      ],
      "execution_count": 0,
      "outputs": []
    },
    {
      "cell_type": "code",
      "metadata": {
        "id": "qytsDhrvCQX1",
        "colab_type": "code",
        "outputId": "f469b6b0-2ea4-4ab6-c5f6-d3aafe2f248f",
        "colab": {
          "base_uri": "https://localhost:8080/",
          "height": 195
        }
      },
      "source": [
        "user_review.head()"
      ],
      "execution_count": 30,
      "outputs": [
        {
          "output_type": "execute_result",
          "data": {
            "text/html": [
              "<div>\n",
              "<style scoped>\n",
              "    .dataframe tbody tr th:only-of-type {\n",
              "        vertical-align: middle;\n",
              "    }\n",
              "\n",
              "    .dataframe tbody tr th {\n",
              "        vertical-align: top;\n",
              "    }\n",
              "\n",
              "    .dataframe thead th {\n",
              "        text-align: right;\n",
              "    }\n",
              "</style>\n",
              "<table border=\"1\" class=\"dataframe\">\n",
              "  <thead>\n",
              "    <tr style=\"text-align: right;\">\n",
              "      <th></th>\n",
              "      <th>business_id</th>\n",
              "      <th>Non_elite_fans</th>\n",
              "      <th>elite_fans</th>\n",
              "      <th>Non_elite_total_reviews</th>\n",
              "      <th>elite_total_reviews</th>\n",
              "      <th>Non_elite_rest_reviews</th>\n",
              "      <th>elite_rest_reviews</th>\n",
              "      <th>Non_elite_rating</th>\n",
              "      <th>elite_rating</th>\n",
              "    </tr>\n",
              "  </thead>\n",
              "  <tbody>\n",
              "    <tr>\n",
              "      <th>0</th>\n",
              "      <td>--1UhMGODdWsrMastO9DZw</td>\n",
              "      <td>9.0</td>\n",
              "      <td>38.0</td>\n",
              "      <td>446.0</td>\n",
              "      <td>1021.0</td>\n",
              "      <td>21.0</td>\n",
              "      <td>5.0</td>\n",
              "      <td>4.000000</td>\n",
              "      <td>4.400000</td>\n",
              "    </tr>\n",
              "    <tr>\n",
              "      <th>1</th>\n",
              "      <td>--6MefnULPED_I942VcFNA</td>\n",
              "      <td>48.0</td>\n",
              "      <td>1968.0</td>\n",
              "      <td>1618.0</td>\n",
              "      <td>12567.0</td>\n",
              "      <td>22.0</td>\n",
              "      <td>24.0</td>\n",
              "      <td>2.636364</td>\n",
              "      <td>3.666667</td>\n",
              "    </tr>\n",
              "    <tr>\n",
              "      <th>2</th>\n",
              "      <td>--7zmmkVg-IMGaXbuVd0SQ</td>\n",
              "      <td>17.0</td>\n",
              "      <td>1150.0</td>\n",
              "      <td>592.0</td>\n",
              "      <td>11518.0</td>\n",
              "      <td>33.0</td>\n",
              "      <td>26.0</td>\n",
              "      <td>3.909091</td>\n",
              "      <td>3.884615</td>\n",
              "    </tr>\n",
              "    <tr>\n",
              "      <th>3</th>\n",
              "      <td>--8LPVSo5i0Oo61X01sV9A</td>\n",
              "      <td>2.0</td>\n",
              "      <td>NaN</td>\n",
              "      <td>30.0</td>\n",
              "      <td>NaN</td>\n",
              "      <td>4.0</td>\n",
              "      <td>NaN</td>\n",
              "      <td>3.500000</td>\n",
              "      <td>NaN</td>\n",
              "    </tr>\n",
              "    <tr>\n",
              "      <th>4</th>\n",
              "      <td>--9QQLMTbFzLJ_oT-ON3Xw</td>\n",
              "      <td>8.0</td>\n",
              "      <td>5.0</td>\n",
              "      <td>328.0</td>\n",
              "      <td>139.0</td>\n",
              "      <td>12.0</td>\n",
              "      <td>1.0</td>\n",
              "      <td>3.250000</td>\n",
              "      <td>4.000000</td>\n",
              "    </tr>\n",
              "  </tbody>\n",
              "</table>\n",
              "</div>"
            ],
            "text/plain": [
              "              business_id  Non_elite_fans  ...  Non_elite_rating  elite_rating\n",
              "0  --1UhMGODdWsrMastO9DZw             9.0  ...          4.000000      4.400000\n",
              "1  --6MefnULPED_I942VcFNA            48.0  ...          2.636364      3.666667\n",
              "2  --7zmmkVg-IMGaXbuVd0SQ            17.0  ...          3.909091      3.884615\n",
              "3  --8LPVSo5i0Oo61X01sV9A             2.0  ...          3.500000           NaN\n",
              "4  --9QQLMTbFzLJ_oT-ON3Xw             8.0  ...          3.250000      4.000000\n",
              "\n",
              "[5 rows x 9 columns]"
            ]
          },
          "metadata": {
            "tags": []
          },
          "execution_count": 30
        }
      ]
    },
    {
      "cell_type": "code",
      "metadata": {
        "id": "Z09sWHWbhm8a",
        "colab_type": "code",
        "colab": {}
      },
      "source": [
        "checkin = pd.read_json('checkin.json',lines=True)"
      ],
      "execution_count": 0,
      "outputs": []
    },
    {
      "cell_type": "code",
      "metadata": {
        "id": "MNbWqKAEvT8d",
        "colab_type": "code",
        "outputId": "ef6ee99e-5876-47cd-be45-1b94a744151c",
        "colab": {
          "base_uri": "https://localhost:8080/",
          "height": 195
        }
      },
      "source": [
        "checkin.head()"
      ],
      "execution_count": 32,
      "outputs": [
        {
          "output_type": "execute_result",
          "data": {
            "text/html": [
              "<div>\n",
              "<style scoped>\n",
              "    .dataframe tbody tr th:only-of-type {\n",
              "        vertical-align: middle;\n",
              "    }\n",
              "\n",
              "    .dataframe tbody tr th {\n",
              "        vertical-align: top;\n",
              "    }\n",
              "\n",
              "    .dataframe thead th {\n",
              "        text-align: right;\n",
              "    }\n",
              "</style>\n",
              "<table border=\"1\" class=\"dataframe\">\n",
              "  <thead>\n",
              "    <tr style=\"text-align: right;\">\n",
              "      <th></th>\n",
              "      <th>business_id</th>\n",
              "      <th>date</th>\n",
              "    </tr>\n",
              "  </thead>\n",
              "  <tbody>\n",
              "    <tr>\n",
              "      <th>0</th>\n",
              "      <td>--1UhMGODdWsrMastO9DZw</td>\n",
              "      <td>2016-04-26 19:49:16, 2016-08-30 18:36:57, 2016...</td>\n",
              "    </tr>\n",
              "    <tr>\n",
              "      <th>1</th>\n",
              "      <td>--6MefnULPED_I942VcFNA</td>\n",
              "      <td>2011-06-04 18:22:23, 2011-07-23 23:51:33, 2012...</td>\n",
              "    </tr>\n",
              "    <tr>\n",
              "      <th>2</th>\n",
              "      <td>--7zmmkVg-IMGaXbuVd0SQ</td>\n",
              "      <td>2014-12-29 19:25:50, 2015-01-17 01:49:14, 2015...</td>\n",
              "    </tr>\n",
              "    <tr>\n",
              "      <th>3</th>\n",
              "      <td>--8LPVSo5i0Oo61X01sV9A</td>\n",
              "      <td>2016-07-08 16:43:30</td>\n",
              "    </tr>\n",
              "    <tr>\n",
              "      <th>4</th>\n",
              "      <td>--9QQLMTbFzLJ_oT-ON3Xw</td>\n",
              "      <td>2010-06-26 17:39:07, 2010-08-01 20:06:21, 2010...</td>\n",
              "    </tr>\n",
              "  </tbody>\n",
              "</table>\n",
              "</div>"
            ],
            "text/plain": [
              "              business_id                                               date\n",
              "0  --1UhMGODdWsrMastO9DZw  2016-04-26 19:49:16, 2016-08-30 18:36:57, 2016...\n",
              "1  --6MefnULPED_I942VcFNA  2011-06-04 18:22:23, 2011-07-23 23:51:33, 2012...\n",
              "2  --7zmmkVg-IMGaXbuVd0SQ  2014-12-29 19:25:50, 2015-01-17 01:49:14, 2015...\n",
              "3  --8LPVSo5i0Oo61X01sV9A                                2016-07-08 16:43:30\n",
              "4  --9QQLMTbFzLJ_oT-ON3Xw  2010-06-26 17:39:07, 2010-08-01 20:06:21, 2010..."
            ]
          },
          "metadata": {
            "tags": []
          },
          "execution_count": 32
        }
      ]
    },
    {
      "cell_type": "code",
      "metadata": {
        "colab_type": "code",
        "id": "SWvSF86qhNAE",
        "colab": {}
      },
      "source": [
        "checkin['date'] = checkin['date'].str.split(',').tolist()"
      ],
      "execution_count": 0,
      "outputs": []
    },
    {
      "cell_type": "code",
      "metadata": {
        "colab_type": "code",
        "id": "ZTuK64UGhMQC",
        "colab": {}
      },
      "source": [
        "checkin = checkin.explode('date')"
      ],
      "execution_count": 0,
      "outputs": []
    },
    {
      "cell_type": "code",
      "metadata": {
        "colab_type": "code",
        "id": "AXRbilzshLrU",
        "colab": {}
      },
      "source": [
        "checkin['date'] = pd.to_datetime(checkin['date'])\n",
        "checkin['year'] = pd.DatetimeIndex(checkin['date']).year"
      ],
      "execution_count": 0,
      "outputs": []
    },
    {
      "cell_type": "code",
      "metadata": {
        "id": "ULyTkxtQ9rmP",
        "colab_type": "code",
        "outputId": "139ef183-2ed1-4af7-d8ad-c49d0b976a5a",
        "colab": {
          "base_uri": "https://localhost:8080/",
          "height": 195
        }
      },
      "source": [
        "checkin.head()"
      ],
      "execution_count": 36,
      "outputs": [
        {
          "output_type": "execute_result",
          "data": {
            "text/html": [
              "<div>\n",
              "<style scoped>\n",
              "    .dataframe tbody tr th:only-of-type {\n",
              "        vertical-align: middle;\n",
              "    }\n",
              "\n",
              "    .dataframe tbody tr th {\n",
              "        vertical-align: top;\n",
              "    }\n",
              "\n",
              "    .dataframe thead th {\n",
              "        text-align: right;\n",
              "    }\n",
              "</style>\n",
              "<table border=\"1\" class=\"dataframe\">\n",
              "  <thead>\n",
              "    <tr style=\"text-align: right;\">\n",
              "      <th></th>\n",
              "      <th>business_id</th>\n",
              "      <th>date</th>\n",
              "      <th>year</th>\n",
              "    </tr>\n",
              "  </thead>\n",
              "  <tbody>\n",
              "    <tr>\n",
              "      <th>0</th>\n",
              "      <td>--1UhMGODdWsrMastO9DZw</td>\n",
              "      <td>2016-04-26 19:49:16</td>\n",
              "      <td>2016</td>\n",
              "    </tr>\n",
              "    <tr>\n",
              "      <th>0</th>\n",
              "      <td>--1UhMGODdWsrMastO9DZw</td>\n",
              "      <td>2016-08-30 18:36:57</td>\n",
              "      <td>2016</td>\n",
              "    </tr>\n",
              "    <tr>\n",
              "      <th>0</th>\n",
              "      <td>--1UhMGODdWsrMastO9DZw</td>\n",
              "      <td>2016-10-15 02:45:18</td>\n",
              "      <td>2016</td>\n",
              "    </tr>\n",
              "    <tr>\n",
              "      <th>0</th>\n",
              "      <td>--1UhMGODdWsrMastO9DZw</td>\n",
              "      <td>2016-11-18 01:54:50</td>\n",
              "      <td>2016</td>\n",
              "    </tr>\n",
              "    <tr>\n",
              "      <th>0</th>\n",
              "      <td>--1UhMGODdWsrMastO9DZw</td>\n",
              "      <td>2017-04-20 18:39:06</td>\n",
              "      <td>2017</td>\n",
              "    </tr>\n",
              "  </tbody>\n",
              "</table>\n",
              "</div>"
            ],
            "text/plain": [
              "              business_id                date  year\n",
              "0  --1UhMGODdWsrMastO9DZw 2016-04-26 19:49:16  2016\n",
              "0  --1UhMGODdWsrMastO9DZw 2016-08-30 18:36:57  2016\n",
              "0  --1UhMGODdWsrMastO9DZw 2016-10-15 02:45:18  2016\n",
              "0  --1UhMGODdWsrMastO9DZw 2016-11-18 01:54:50  2016\n",
              "0  --1UhMGODdWsrMastO9DZw 2017-04-20 18:39:06  2017"
            ]
          },
          "metadata": {
            "tags": []
          },
          "execution_count": 36
        }
      ]
    },
    {
      "cell_type": "code",
      "metadata": {
        "id": "j-GV8kHovheO",
        "colab_type": "code",
        "colab": {}
      },
      "source": [
        "checkin = checkin.groupby(['business_id','year']).count().reset_index()"
      ],
      "execution_count": 0,
      "outputs": []
    },
    {
      "cell_type": "code",
      "metadata": {
        "id": "5WNKNjz1voJM",
        "colab_type": "code",
        "colab": {}
      },
      "source": [
        "checkin = checkin.groupby('business_id').mean().reset_index()"
      ],
      "execution_count": 0,
      "outputs": []
    },
    {
      "cell_type": "code",
      "metadata": {
        "id": "mUMHv9Ipv_GJ",
        "colab_type": "code",
        "outputId": "8e844c59-647e-43dc-ce55-b0b66b292738",
        "colab": {
          "base_uri": "https://localhost:8080/",
          "height": 195
        }
      },
      "source": [
        "checkin.head()"
      ],
      "execution_count": 39,
      "outputs": [
        {
          "output_type": "execute_result",
          "data": {
            "text/html": [
              "<div>\n",
              "<style scoped>\n",
              "    .dataframe tbody tr th:only-of-type {\n",
              "        vertical-align: middle;\n",
              "    }\n",
              "\n",
              "    .dataframe tbody tr th {\n",
              "        vertical-align: top;\n",
              "    }\n",
              "\n",
              "    .dataframe thead th {\n",
              "        text-align: right;\n",
              "    }\n",
              "</style>\n",
              "<table border=\"1\" class=\"dataframe\">\n",
              "  <thead>\n",
              "    <tr style=\"text-align: right;\">\n",
              "      <th></th>\n",
              "      <th>business_id</th>\n",
              "      <th>year</th>\n",
              "      <th>date</th>\n",
              "    </tr>\n",
              "  </thead>\n",
              "  <tbody>\n",
              "    <tr>\n",
              "      <th>0</th>\n",
              "      <td>--1UhMGODdWsrMastO9DZw</td>\n",
              "      <td>2016.5</td>\n",
              "      <td>3.000000</td>\n",
              "    </tr>\n",
              "    <tr>\n",
              "      <th>1</th>\n",
              "      <td>--6MefnULPED_I942VcFNA</td>\n",
              "      <td>2014.5</td>\n",
              "      <td>20.875000</td>\n",
              "    </tr>\n",
              "    <tr>\n",
              "      <th>2</th>\n",
              "      <td>--7zmmkVg-IMGaXbuVd0SQ</td>\n",
              "      <td>2016.0</td>\n",
              "      <td>36.000000</td>\n",
              "    </tr>\n",
              "    <tr>\n",
              "      <th>3</th>\n",
              "      <td>--8LPVSo5i0Oo61X01sV9A</td>\n",
              "      <td>2016.0</td>\n",
              "      <td>1.000000</td>\n",
              "    </tr>\n",
              "    <tr>\n",
              "      <th>4</th>\n",
              "      <td>--9QQLMTbFzLJ_oT-ON3Xw</td>\n",
              "      <td>2014.0</td>\n",
              "      <td>4.111111</td>\n",
              "    </tr>\n",
              "  </tbody>\n",
              "</table>\n",
              "</div>"
            ],
            "text/plain": [
              "              business_id    year       date\n",
              "0  --1UhMGODdWsrMastO9DZw  2016.5   3.000000\n",
              "1  --6MefnULPED_I942VcFNA  2014.5  20.875000\n",
              "2  --7zmmkVg-IMGaXbuVd0SQ  2016.0  36.000000\n",
              "3  --8LPVSo5i0Oo61X01sV9A  2016.0   1.000000\n",
              "4  --9QQLMTbFzLJ_oT-ON3Xw  2014.0   4.111111"
            ]
          },
          "metadata": {
            "tags": []
          },
          "execution_count": 39
        }
      ]
    },
    {
      "cell_type": "code",
      "metadata": {
        "id": "nmDOIQu51G1_",
        "colab_type": "code",
        "colab": {}
      },
      "source": [
        "checkin = checkin.rename(columns={'date':'avg_checkins_peryear'})"
      ],
      "execution_count": 0,
      "outputs": []
    },
    {
      "cell_type": "code",
      "metadata": {
        "id": "yQDvSPTywIYs",
        "colab_type": "code",
        "colab": {}
      },
      "source": [
        "checkin = checkin.drop('year',axis=1)"
      ],
      "execution_count": 0,
      "outputs": []
    },
    {
      "cell_type": "code",
      "metadata": {
        "id": "XS4xYkZw9sij",
        "colab_type": "code",
        "outputId": "258c6dfc-bd58-4734-8eb8-ab1256bbf6a4",
        "colab": {
          "base_uri": "https://localhost:8080/",
          "height": 195
        }
      },
      "source": [
        "checkin.head()"
      ],
      "execution_count": 42,
      "outputs": [
        {
          "output_type": "execute_result",
          "data": {
            "text/html": [
              "<div>\n",
              "<style scoped>\n",
              "    .dataframe tbody tr th:only-of-type {\n",
              "        vertical-align: middle;\n",
              "    }\n",
              "\n",
              "    .dataframe tbody tr th {\n",
              "        vertical-align: top;\n",
              "    }\n",
              "\n",
              "    .dataframe thead th {\n",
              "        text-align: right;\n",
              "    }\n",
              "</style>\n",
              "<table border=\"1\" class=\"dataframe\">\n",
              "  <thead>\n",
              "    <tr style=\"text-align: right;\">\n",
              "      <th></th>\n",
              "      <th>business_id</th>\n",
              "      <th>avg_checkins_peryear</th>\n",
              "    </tr>\n",
              "  </thead>\n",
              "  <tbody>\n",
              "    <tr>\n",
              "      <th>0</th>\n",
              "      <td>--1UhMGODdWsrMastO9DZw</td>\n",
              "      <td>3.000000</td>\n",
              "    </tr>\n",
              "    <tr>\n",
              "      <th>1</th>\n",
              "      <td>--6MefnULPED_I942VcFNA</td>\n",
              "      <td>20.875000</td>\n",
              "    </tr>\n",
              "    <tr>\n",
              "      <th>2</th>\n",
              "      <td>--7zmmkVg-IMGaXbuVd0SQ</td>\n",
              "      <td>36.000000</td>\n",
              "    </tr>\n",
              "    <tr>\n",
              "      <th>3</th>\n",
              "      <td>--8LPVSo5i0Oo61X01sV9A</td>\n",
              "      <td>1.000000</td>\n",
              "    </tr>\n",
              "    <tr>\n",
              "      <th>4</th>\n",
              "      <td>--9QQLMTbFzLJ_oT-ON3Xw</td>\n",
              "      <td>4.111111</td>\n",
              "    </tr>\n",
              "  </tbody>\n",
              "</table>\n",
              "</div>"
            ],
            "text/plain": [
              "              business_id  avg_checkins_peryear\n",
              "0  --1UhMGODdWsrMastO9DZw              3.000000\n",
              "1  --6MefnULPED_I942VcFNA             20.875000\n",
              "2  --7zmmkVg-IMGaXbuVd0SQ             36.000000\n",
              "3  --8LPVSo5i0Oo61X01sV9A              1.000000\n",
              "4  --9QQLMTbFzLJ_oT-ON3Xw              4.111111"
            ]
          },
          "metadata": {
            "tags": []
          },
          "execution_count": 42
        }
      ]
    },
    {
      "cell_type": "code",
      "metadata": {
        "id": "d_AxN23FFieb",
        "colab_type": "code",
        "colab": {}
      },
      "source": [
        "restaurants_postal = business[business['postal_code'].notnull()]"
      ],
      "execution_count": 0,
      "outputs": []
    },
    {
      "cell_type": "code",
      "metadata": {
        "id": "yBjo4rW8B6zd",
        "colab_type": "code",
        "outputId": "749870fb-ae62-451d-ee27-8015e24e356d",
        "colab": {
          "base_uri": "https://localhost:8080/",
          "height": 195
        }
      },
      "source": [
        "restaurants_postal.head()"
      ],
      "execution_count": 44,
      "outputs": [
        {
          "output_type": "execute_result",
          "data": {
            "text/html": [
              "<div>\n",
              "<style scoped>\n",
              "    .dataframe tbody tr th:only-of-type {\n",
              "        vertical-align: middle;\n",
              "    }\n",
              "\n",
              "    .dataframe tbody tr th {\n",
              "        vertical-align: top;\n",
              "    }\n",
              "\n",
              "    .dataframe thead th {\n",
              "        text-align: right;\n",
              "    }\n",
              "</style>\n",
              "<table border=\"1\" class=\"dataframe\">\n",
              "  <thead>\n",
              "    <tr style=\"text-align: right;\">\n",
              "      <th></th>\n",
              "      <th>business_id</th>\n",
              "      <th>postal_code</th>\n",
              "      <th>stars</th>\n",
              "      <th>review_count</th>\n",
              "      <th>is_open</th>\n",
              "      <th>categories</th>\n",
              "    </tr>\n",
              "  </thead>\n",
              "  <tbody>\n",
              "    <tr>\n",
              "      <th>1</th>\n",
              "      <td>QXAEGFB4oINsVuTFxEYKFQ</td>\n",
              "      <td>L5R 3E7</td>\n",
              "      <td>2.5</td>\n",
              "      <td>128</td>\n",
              "      <td>1</td>\n",
              "      <td>Specialty Food, Restaurants, Dim Sum, Imported...</td>\n",
              "    </tr>\n",
              "    <tr>\n",
              "      <th>2</th>\n",
              "      <td>gnKjwL_1w79qoiV3IC_xQQ</td>\n",
              "      <td>28210</td>\n",
              "      <td>4.0</td>\n",
              "      <td>170</td>\n",
              "      <td>1</td>\n",
              "      <td>Sushi Bars, Restaurants, Japanese</td>\n",
              "    </tr>\n",
              "    <tr>\n",
              "      <th>11</th>\n",
              "      <td>1Dfx3zM-rW4n-31KeC8sJg</td>\n",
              "      <td>85016</td>\n",
              "      <td>3.0</td>\n",
              "      <td>18</td>\n",
              "      <td>1</td>\n",
              "      <td>Restaurants, Breakfast &amp; Brunch, Mexican, Taco...</td>\n",
              "    </tr>\n",
              "    <tr>\n",
              "      <th>13</th>\n",
              "      <td>fweCYi8FmbJXHCqLnwuk8w</td>\n",
              "      <td>44060</td>\n",
              "      <td>4.0</td>\n",
              "      <td>16</td>\n",
              "      <td>1</td>\n",
              "      <td>Italian, Restaurants, Pizza, Chicken Wings</td>\n",
              "    </tr>\n",
              "    <tr>\n",
              "      <th>17</th>\n",
              "      <td>PZ-LZzSlhSe9utkQYU8pFg</td>\n",
              "      <td>89119</td>\n",
              "      <td>4.0</td>\n",
              "      <td>40</td>\n",
              "      <td>0</td>\n",
              "      <td>Restaurants, Italian</td>\n",
              "    </tr>\n",
              "  </tbody>\n",
              "</table>\n",
              "</div>"
            ],
            "text/plain": [
              "               business_id  ...                                         categories\n",
              "1   QXAEGFB4oINsVuTFxEYKFQ  ...  Specialty Food, Restaurants, Dim Sum, Imported...\n",
              "2   gnKjwL_1w79qoiV3IC_xQQ  ...                  Sushi Bars, Restaurants, Japanese\n",
              "11  1Dfx3zM-rW4n-31KeC8sJg  ...  Restaurants, Breakfast & Brunch, Mexican, Taco...\n",
              "13  fweCYi8FmbJXHCqLnwuk8w  ...         Italian, Restaurants, Pizza, Chicken Wings\n",
              "17  PZ-LZzSlhSe9utkQYU8pFg  ...                               Restaurants, Italian\n",
              "\n",
              "[5 rows x 6 columns]"
            ]
          },
          "metadata": {
            "tags": []
          },
          "execution_count": 44
        }
      ]
    },
    {
      "cell_type": "code",
      "metadata": {
        "id": "KtGFY00fEuIg",
        "colab_type": "code",
        "colab": {}
      },
      "source": [
        "restaurants_postal = restaurants_postal.groupby(['postal_code'])['business_id'].count()"
      ],
      "execution_count": 0,
      "outputs": []
    },
    {
      "cell_type": "code",
      "metadata": {
        "id": "_ZpynnfeE8FH",
        "colab_type": "code",
        "colab": {}
      },
      "source": [
        "restaurants_postal = restaurants_postal.reset_index()"
      ],
      "execution_count": 0,
      "outputs": []
    },
    {
      "cell_type": "code",
      "metadata": {
        "id": "RrwF6OR7CTgS",
        "colab_type": "code",
        "colab": {}
      },
      "source": [
        "restaurants_postal = restaurants_postal.rename(columns={'business_id':'total_restaurants'})"
      ],
      "execution_count": 0,
      "outputs": []
    },
    {
      "cell_type": "code",
      "metadata": {
        "id": "ZSZx5OLsBlhf",
        "colab_type": "code",
        "outputId": "dbef9151-af37-4595-f464-7dc9519311e7",
        "colab": {
          "base_uri": "https://localhost:8080/",
          "height": 195
        }
      },
      "source": [
        "restaurants_postal.head()"
      ],
      "execution_count": 48,
      "outputs": [
        {
          "output_type": "execute_result",
          "data": {
            "text/html": [
              "<div>\n",
              "<style scoped>\n",
              "    .dataframe tbody tr th:only-of-type {\n",
              "        vertical-align: middle;\n",
              "    }\n",
              "\n",
              "    .dataframe tbody tr th {\n",
              "        vertical-align: top;\n",
              "    }\n",
              "\n",
              "    .dataframe thead th {\n",
              "        text-align: right;\n",
              "    }\n",
              "</style>\n",
              "<table border=\"1\" class=\"dataframe\">\n",
              "  <thead>\n",
              "    <tr style=\"text-align: right;\">\n",
              "      <th></th>\n",
              "      <th>postal_code</th>\n",
              "      <th>total_restaurants</th>\n",
              "    </tr>\n",
              "  </thead>\n",
              "  <tbody>\n",
              "    <tr>\n",
              "      <th>0</th>\n",
              "      <td></td>\n",
              "      <td>102</td>\n",
              "    </tr>\n",
              "    <tr>\n",
              "      <th>1</th>\n",
              "      <td>05440</td>\n",
              "      <td>1</td>\n",
              "    </tr>\n",
              "    <tr>\n",
              "      <th>2</th>\n",
              "      <td>12919</td>\n",
              "      <td>5</td>\n",
              "    </tr>\n",
              "    <tr>\n",
              "      <th>3</th>\n",
              "      <td>12958</td>\n",
              "      <td>1</td>\n",
              "    </tr>\n",
              "    <tr>\n",
              "      <th>4</th>\n",
              "      <td>12979</td>\n",
              "      <td>6</td>\n",
              "    </tr>\n",
              "  </tbody>\n",
              "</table>\n",
              "</div>"
            ],
            "text/plain": [
              "  postal_code  total_restaurants\n",
              "0                            102\n",
              "1       05440                  1\n",
              "2       12919                  5\n",
              "3       12958                  1\n",
              "4       12979                  6"
            ]
          },
          "metadata": {
            "tags": []
          },
          "execution_count": 48
        }
      ]
    },
    {
      "cell_type": "code",
      "metadata": {
        "id": "1hY1DDlfMQt5",
        "colab_type": "code",
        "colab": {}
      },
      "source": [
        "photo = pd.read_json('photo.json',lines=True)"
      ],
      "execution_count": 0,
      "outputs": []
    },
    {
      "cell_type": "code",
      "metadata": {
        "id": "tDxYN1GkMV2r",
        "colab_type": "code",
        "colab": {}
      },
      "source": [
        "photo = photo.groupby(['business_id','label'])['photo_id'].count()"
      ],
      "execution_count": 0,
      "outputs": []
    },
    {
      "cell_type": "code",
      "metadata": {
        "id": "4R3-W_lsMk-_",
        "colab_type": "code",
        "colab": {}
      },
      "source": [
        "photo = photo.reset_index()"
      ],
      "execution_count": 0,
      "outputs": []
    },
    {
      "cell_type": "code",
      "metadata": {
        "id": "Qm0dhlWnM7mr",
        "colab_type": "code",
        "outputId": "14ddb2ae-4e79-4822-d88c-71e104abdfeb",
        "colab": {
          "base_uri": "https://localhost:8080/",
          "height": 195
        }
      },
      "source": [
        "photo.head()"
      ],
      "execution_count": 52,
      "outputs": [
        {
          "output_type": "execute_result",
          "data": {
            "text/html": [
              "<div>\n",
              "<style scoped>\n",
              "    .dataframe tbody tr th:only-of-type {\n",
              "        vertical-align: middle;\n",
              "    }\n",
              "\n",
              "    .dataframe tbody tr th {\n",
              "        vertical-align: top;\n",
              "    }\n",
              "\n",
              "    .dataframe thead th {\n",
              "        text-align: right;\n",
              "    }\n",
              "</style>\n",
              "<table border=\"1\" class=\"dataframe\">\n",
              "  <thead>\n",
              "    <tr style=\"text-align: right;\">\n",
              "      <th></th>\n",
              "      <th>business_id</th>\n",
              "      <th>label</th>\n",
              "      <th>photo_id</th>\n",
              "    </tr>\n",
              "  </thead>\n",
              "  <tbody>\n",
              "    <tr>\n",
              "      <th>0</th>\n",
              "      <td>--6MefnULPED_I942VcFNA</td>\n",
              "      <td>food</td>\n",
              "      <td>3</td>\n",
              "    </tr>\n",
              "    <tr>\n",
              "      <th>1</th>\n",
              "      <td>--9e1ONYQuAa-CB_Rrw7Tw</td>\n",
              "      <td>drink</td>\n",
              "      <td>5</td>\n",
              "    </tr>\n",
              "    <tr>\n",
              "      <th>2</th>\n",
              "      <td>--9e1ONYQuAa-CB_Rrw7Tw</td>\n",
              "      <td>food</td>\n",
              "      <td>59</td>\n",
              "    </tr>\n",
              "    <tr>\n",
              "      <th>3</th>\n",
              "      <td>--9e1ONYQuAa-CB_Rrw7Tw</td>\n",
              "      <td>inside</td>\n",
              "      <td>7</td>\n",
              "    </tr>\n",
              "    <tr>\n",
              "      <th>4</th>\n",
              "      <td>--9e1ONYQuAa-CB_Rrw7Tw</td>\n",
              "      <td>menu</td>\n",
              "      <td>1</td>\n",
              "    </tr>\n",
              "  </tbody>\n",
              "</table>\n",
              "</div>"
            ],
            "text/plain": [
              "              business_id   label  photo_id\n",
              "0  --6MefnULPED_I942VcFNA    food         3\n",
              "1  --9e1ONYQuAa-CB_Rrw7Tw   drink         5\n",
              "2  --9e1ONYQuAa-CB_Rrw7Tw    food        59\n",
              "3  --9e1ONYQuAa-CB_Rrw7Tw  inside         7\n",
              "4  --9e1ONYQuAa-CB_Rrw7Tw    menu         1"
            ]
          },
          "metadata": {
            "tags": []
          },
          "execution_count": 52
        }
      ]
    },
    {
      "cell_type": "code",
      "metadata": {
        "id": "h6weRxWBNRvZ",
        "colab_type": "code",
        "colab": {}
      },
      "source": [
        "photo = photo.pivot(index='business_id',columns='label',values='photo_id')"
      ],
      "execution_count": 0,
      "outputs": []
    },
    {
      "cell_type": "code",
      "metadata": {
        "id": "cQn4PKBgNboQ",
        "colab_type": "code",
        "outputId": "a30699dd-e5bd-4bdb-c177-1ad589a02ffd",
        "colab": {
          "base_uri": "https://localhost:8080/",
          "height": 225
        }
      },
      "source": [
        "photo.head()"
      ],
      "execution_count": 54,
      "outputs": [
        {
          "output_type": "execute_result",
          "data": {
            "text/html": [
              "<div>\n",
              "<style scoped>\n",
              "    .dataframe tbody tr th:only-of-type {\n",
              "        vertical-align: middle;\n",
              "    }\n",
              "\n",
              "    .dataframe tbody tr th {\n",
              "        vertical-align: top;\n",
              "    }\n",
              "\n",
              "    .dataframe thead th {\n",
              "        text-align: right;\n",
              "    }\n",
              "</style>\n",
              "<table border=\"1\" class=\"dataframe\">\n",
              "  <thead>\n",
              "    <tr style=\"text-align: right;\">\n",
              "      <th>label</th>\n",
              "      <th>drink</th>\n",
              "      <th>food</th>\n",
              "      <th>inside</th>\n",
              "      <th>menu</th>\n",
              "      <th>outside</th>\n",
              "    </tr>\n",
              "    <tr>\n",
              "      <th>business_id</th>\n",
              "      <th></th>\n",
              "      <th></th>\n",
              "      <th></th>\n",
              "      <th></th>\n",
              "      <th></th>\n",
              "    </tr>\n",
              "  </thead>\n",
              "  <tbody>\n",
              "    <tr>\n",
              "      <th>--6MefnULPED_I942VcFNA</th>\n",
              "      <td>NaN</td>\n",
              "      <td>3.0</td>\n",
              "      <td>NaN</td>\n",
              "      <td>NaN</td>\n",
              "      <td>NaN</td>\n",
              "    </tr>\n",
              "    <tr>\n",
              "      <th>--9e1ONYQuAa-CB_Rrw7Tw</th>\n",
              "      <td>5.0</td>\n",
              "      <td>59.0</td>\n",
              "      <td>7.0</td>\n",
              "      <td>1.0</td>\n",
              "      <td>2.0</td>\n",
              "    </tr>\n",
              "    <tr>\n",
              "      <th>--DaPTJW3-tB1vP-PfdTEg</th>\n",
              "      <td>NaN</td>\n",
              "      <td>NaN</td>\n",
              "      <td>NaN</td>\n",
              "      <td>NaN</td>\n",
              "      <td>1.0</td>\n",
              "    </tr>\n",
              "    <tr>\n",
              "      <th>--FBCX-N37CMYDfs790Bnw</th>\n",
              "      <td>NaN</td>\n",
              "      <td>1.0</td>\n",
              "      <td>NaN</td>\n",
              "      <td>NaN</td>\n",
              "      <td>NaN</td>\n",
              "    </tr>\n",
              "    <tr>\n",
              "      <th>--KCl2FvVQpvjzmZSPyviA</th>\n",
              "      <td>NaN</td>\n",
              "      <td>2.0</td>\n",
              "      <td>NaN</td>\n",
              "      <td>NaN</td>\n",
              "      <td>NaN</td>\n",
              "    </tr>\n",
              "  </tbody>\n",
              "</table>\n",
              "</div>"
            ],
            "text/plain": [
              "label                   drink  food  inside  menu  outside\n",
              "business_id                                               \n",
              "--6MefnULPED_I942VcFNA    NaN   3.0     NaN   NaN      NaN\n",
              "--9e1ONYQuAa-CB_Rrw7Tw    5.0  59.0     7.0   1.0      2.0\n",
              "--DaPTJW3-tB1vP-PfdTEg    NaN   NaN     NaN   NaN      1.0\n",
              "--FBCX-N37CMYDfs790Bnw    NaN   1.0     NaN   NaN      NaN\n",
              "--KCl2FvVQpvjzmZSPyviA    NaN   2.0     NaN   NaN      NaN"
            ]
          },
          "metadata": {
            "tags": []
          },
          "execution_count": 54
        }
      ]
    },
    {
      "cell_type": "code",
      "metadata": {
        "id": "VSaUU3YiNry6",
        "colab_type": "code",
        "colab": {}
      },
      "source": [
        "photo = photo.replace(np.nan,0)"
      ],
      "execution_count": 0,
      "outputs": []
    },
    {
      "cell_type": "code",
      "metadata": {
        "id": "o-XUhlRGN9_J",
        "colab_type": "code",
        "colab": {}
      },
      "source": [
        "photo = photo.reset_index()"
      ],
      "execution_count": 0,
      "outputs": []
    },
    {
      "cell_type": "code",
      "metadata": {
        "id": "x--pistxBHW3",
        "colab_type": "code",
        "outputId": "a22ad2a9-11b9-4285-cdea-568b7f4acc56",
        "colab": {
          "base_uri": "https://localhost:8080/",
          "height": 195
        }
      },
      "source": [
        "photo.head()"
      ],
      "execution_count": 57,
      "outputs": [
        {
          "output_type": "execute_result",
          "data": {
            "text/html": [
              "<div>\n",
              "<style scoped>\n",
              "    .dataframe tbody tr th:only-of-type {\n",
              "        vertical-align: middle;\n",
              "    }\n",
              "\n",
              "    .dataframe tbody tr th {\n",
              "        vertical-align: top;\n",
              "    }\n",
              "\n",
              "    .dataframe thead th {\n",
              "        text-align: right;\n",
              "    }\n",
              "</style>\n",
              "<table border=\"1\" class=\"dataframe\">\n",
              "  <thead>\n",
              "    <tr style=\"text-align: right;\">\n",
              "      <th>label</th>\n",
              "      <th>business_id</th>\n",
              "      <th>drink</th>\n",
              "      <th>food</th>\n",
              "      <th>inside</th>\n",
              "      <th>menu</th>\n",
              "      <th>outside</th>\n",
              "    </tr>\n",
              "  </thead>\n",
              "  <tbody>\n",
              "    <tr>\n",
              "      <th>0</th>\n",
              "      <td>--6MefnULPED_I942VcFNA</td>\n",
              "      <td>0.0</td>\n",
              "      <td>3.0</td>\n",
              "      <td>0.0</td>\n",
              "      <td>0.0</td>\n",
              "      <td>0.0</td>\n",
              "    </tr>\n",
              "    <tr>\n",
              "      <th>1</th>\n",
              "      <td>--9e1ONYQuAa-CB_Rrw7Tw</td>\n",
              "      <td>5.0</td>\n",
              "      <td>59.0</td>\n",
              "      <td>7.0</td>\n",
              "      <td>1.0</td>\n",
              "      <td>2.0</td>\n",
              "    </tr>\n",
              "    <tr>\n",
              "      <th>2</th>\n",
              "      <td>--DaPTJW3-tB1vP-PfdTEg</td>\n",
              "      <td>0.0</td>\n",
              "      <td>0.0</td>\n",
              "      <td>0.0</td>\n",
              "      <td>0.0</td>\n",
              "      <td>1.0</td>\n",
              "    </tr>\n",
              "    <tr>\n",
              "      <th>3</th>\n",
              "      <td>--FBCX-N37CMYDfs790Bnw</td>\n",
              "      <td>0.0</td>\n",
              "      <td>1.0</td>\n",
              "      <td>0.0</td>\n",
              "      <td>0.0</td>\n",
              "      <td>0.0</td>\n",
              "    </tr>\n",
              "    <tr>\n",
              "      <th>4</th>\n",
              "      <td>--KCl2FvVQpvjzmZSPyviA</td>\n",
              "      <td>0.0</td>\n",
              "      <td>2.0</td>\n",
              "      <td>0.0</td>\n",
              "      <td>0.0</td>\n",
              "      <td>0.0</td>\n",
              "    </tr>\n",
              "  </tbody>\n",
              "</table>\n",
              "</div>"
            ],
            "text/plain": [
              "label             business_id  drink  food  inside  menu  outside\n",
              "0      --6MefnULPED_I942VcFNA    0.0   3.0     0.0   0.0      0.0\n",
              "1      --9e1ONYQuAa-CB_Rrw7Tw    5.0  59.0     7.0   1.0      2.0\n",
              "2      --DaPTJW3-tB1vP-PfdTEg    0.0   0.0     0.0   0.0      1.0\n",
              "3      --FBCX-N37CMYDfs790Bnw    0.0   1.0     0.0   0.0      0.0\n",
              "4      --KCl2FvVQpvjzmZSPyviA    0.0   2.0     0.0   0.0      0.0"
            ]
          },
          "metadata": {
            "tags": []
          },
          "execution_count": 57
        }
      ]
    },
    {
      "cell_type": "markdown",
      "metadata": {
        "id": "vJRUTdmG9M86",
        "colab_type": "text"
      },
      "source": [
        "Need to merge all the datasets together with the main business file\n",
        "\n",
        "1) user_review\n",
        "\n",
        "2) restaurants_postal\n",
        "\n",
        "3) checkin\n",
        "\n",
        "4) photo"
      ]
    },
    {
      "cell_type": "code",
      "metadata": {
        "id": "y6aBeoKxBLhf",
        "colab_type": "code",
        "colab": {}
      },
      "source": [
        "final = pd.merge(business, restaurants_postal, how='left',on='postal_code')"
      ],
      "execution_count": 0,
      "outputs": []
    },
    {
      "cell_type": "code",
      "metadata": {
        "id": "Njy5Y2oWBs_5",
        "colab_type": "code",
        "colab": {}
      },
      "source": [
        "final = pd.merge(final,user_review,how='left',on='business_id')"
      ],
      "execution_count": 0,
      "outputs": []
    },
    {
      "cell_type": "code",
      "metadata": {
        "id": "IWq-yo5r9mBB",
        "colab_type": "code",
        "colab": {}
      },
      "source": [
        "final = pd.merge(final,checkin,how='left',on='business_id')"
      ],
      "execution_count": 0,
      "outputs": []
    },
    {
      "cell_type": "code",
      "metadata": {
        "id": "G9eKW5U6Chq0",
        "colab_type": "code",
        "colab": {}
      },
      "source": [
        "final = pd.merge(final,photo,how='left',on='business_id')"
      ],
      "execution_count": 0,
      "outputs": []
    },
    {
      "cell_type": "code",
      "metadata": {
        "id": "5-h7CeKECklp",
        "colab_type": "code",
        "outputId": "339d6ff5-6622-43f0-8d1f-d9c9ca9cfcd3",
        "colab": {
          "base_uri": "https://localhost:8080/",
          "height": 467
        }
      },
      "source": [
        "final.head()"
      ],
      "execution_count": 62,
      "outputs": [
        {
          "output_type": "execute_result",
          "data": {
            "text/html": [
              "<div>\n",
              "<style scoped>\n",
              "    .dataframe tbody tr th:only-of-type {\n",
              "        vertical-align: middle;\n",
              "    }\n",
              "\n",
              "    .dataframe tbody tr th {\n",
              "        vertical-align: top;\n",
              "    }\n",
              "\n",
              "    .dataframe thead th {\n",
              "        text-align: right;\n",
              "    }\n",
              "</style>\n",
              "<table border=\"1\" class=\"dataframe\">\n",
              "  <thead>\n",
              "    <tr style=\"text-align: right;\">\n",
              "      <th></th>\n",
              "      <th>business_id</th>\n",
              "      <th>postal_code</th>\n",
              "      <th>stars</th>\n",
              "      <th>review_count</th>\n",
              "      <th>is_open</th>\n",
              "      <th>categories</th>\n",
              "      <th>total_restaurants</th>\n",
              "      <th>Non_elite_fans</th>\n",
              "      <th>elite_fans</th>\n",
              "      <th>Non_elite_total_reviews</th>\n",
              "      <th>elite_total_reviews</th>\n",
              "      <th>Non_elite_rest_reviews</th>\n",
              "      <th>elite_rest_reviews</th>\n",
              "      <th>Non_elite_rating</th>\n",
              "      <th>elite_rating</th>\n",
              "      <th>avg_checkins_peryear</th>\n",
              "      <th>drink</th>\n",
              "      <th>food</th>\n",
              "      <th>inside</th>\n",
              "      <th>menu</th>\n",
              "      <th>outside</th>\n",
              "    </tr>\n",
              "  </thead>\n",
              "  <tbody>\n",
              "    <tr>\n",
              "      <th>0</th>\n",
              "      <td>QXAEGFB4oINsVuTFxEYKFQ</td>\n",
              "      <td>L5R 3E7</td>\n",
              "      <td>2.5</td>\n",
              "      <td>128</td>\n",
              "      <td>1</td>\n",
              "      <td>Specialty Food, Restaurants, Dim Sum, Imported...</td>\n",
              "      <td>6</td>\n",
              "      <td>37.0</td>\n",
              "      <td>1654.0</td>\n",
              "      <td>2287.0</td>\n",
              "      <td>16991.0</td>\n",
              "      <td>72.0</td>\n",
              "      <td>62.0</td>\n",
              "      <td>2.444444</td>\n",
              "      <td>3.080645</td>\n",
              "      <td>50.555556</td>\n",
              "      <td>0.0</td>\n",
              "      <td>1.0</td>\n",
              "      <td>1.0</td>\n",
              "      <td>0.0</td>\n",
              "      <td>1.0</td>\n",
              "    </tr>\n",
              "    <tr>\n",
              "      <th>1</th>\n",
              "      <td>gnKjwL_1w79qoiV3IC_xQQ</td>\n",
              "      <td>28210</td>\n",
              "      <td>4.0</td>\n",
              "      <td>170</td>\n",
              "      <td>1</td>\n",
              "      <td>Sushi Bars, Restaurants, Japanese</td>\n",
              "      <td>88</td>\n",
              "      <td>119.0</td>\n",
              "      <td>1072.0</td>\n",
              "      <td>4428.0</td>\n",
              "      <td>12168.0</td>\n",
              "      <td>135.0</td>\n",
              "      <td>43.0</td>\n",
              "      <td>4.140741</td>\n",
              "      <td>3.860465</td>\n",
              "      <td>80.111111</td>\n",
              "      <td>0.0</td>\n",
              "      <td>6.0</td>\n",
              "      <td>2.0</td>\n",
              "      <td>0.0</td>\n",
              "      <td>0.0</td>\n",
              "    </tr>\n",
              "    <tr>\n",
              "      <th>2</th>\n",
              "      <td>1Dfx3zM-rW4n-31KeC8sJg</td>\n",
              "      <td>85016</td>\n",
              "      <td>3.0</td>\n",
              "      <td>18</td>\n",
              "      <td>1</td>\n",
              "      <td>Restaurants, Breakfast &amp; Brunch, Mexican, Taco...</td>\n",
              "      <td>294</td>\n",
              "      <td>78.0</td>\n",
              "      <td>167.0</td>\n",
              "      <td>1152.0</td>\n",
              "      <td>920.0</td>\n",
              "      <td>15.0</td>\n",
              "      <td>4.0</td>\n",
              "      <td>2.600000</td>\n",
              "      <td>4.000000</td>\n",
              "      <td>10.000000</td>\n",
              "      <td>NaN</td>\n",
              "      <td>NaN</td>\n",
              "      <td>NaN</td>\n",
              "      <td>NaN</td>\n",
              "      <td>NaN</td>\n",
              "    </tr>\n",
              "    <tr>\n",
              "      <th>3</th>\n",
              "      <td>fweCYi8FmbJXHCqLnwuk8w</td>\n",
              "      <td>44060</td>\n",
              "      <td>4.0</td>\n",
              "      <td>16</td>\n",
              "      <td>1</td>\n",
              "      <td>Italian, Restaurants, Pizza, Chicken Wings</td>\n",
              "      <td>199</td>\n",
              "      <td>6.0</td>\n",
              "      <td>232.0</td>\n",
              "      <td>255.0</td>\n",
              "      <td>883.0</td>\n",
              "      <td>15.0</td>\n",
              "      <td>3.0</td>\n",
              "      <td>4.533333</td>\n",
              "      <td>3.333333</td>\n",
              "      <td>1.666667</td>\n",
              "      <td>NaN</td>\n",
              "      <td>NaN</td>\n",
              "      <td>NaN</td>\n",
              "      <td>NaN</td>\n",
              "      <td>NaN</td>\n",
              "    </tr>\n",
              "    <tr>\n",
              "      <th>4</th>\n",
              "      <td>PZ-LZzSlhSe9utkQYU8pFg</td>\n",
              "      <td>89119</td>\n",
              "      <td>4.0</td>\n",
              "      <td>40</td>\n",
              "      <td>0</td>\n",
              "      <td>Restaurants, Italian</td>\n",
              "      <td>470</td>\n",
              "      <td>165.0</td>\n",
              "      <td>301.0</td>\n",
              "      <td>3436.0</td>\n",
              "      <td>4646.0</td>\n",
              "      <td>31.0</td>\n",
              "      <td>10.0</td>\n",
              "      <td>3.967742</td>\n",
              "      <td>4.500000</td>\n",
              "      <td>8.500000</td>\n",
              "      <td>0.0</td>\n",
              "      <td>0.0</td>\n",
              "      <td>1.0</td>\n",
              "      <td>0.0</td>\n",
              "      <td>1.0</td>\n",
              "    </tr>\n",
              "  </tbody>\n",
              "</table>\n",
              "</div>"
            ],
            "text/plain": [
              "              business_id postal_code  stars  ...  inside  menu outside\n",
              "0  QXAEGFB4oINsVuTFxEYKFQ     L5R 3E7    2.5  ...     1.0   0.0     1.0\n",
              "1  gnKjwL_1w79qoiV3IC_xQQ       28210    4.0  ...     2.0   0.0     0.0\n",
              "2  1Dfx3zM-rW4n-31KeC8sJg       85016    3.0  ...     NaN   NaN     NaN\n",
              "3  fweCYi8FmbJXHCqLnwuk8w       44060    4.0  ...     NaN   NaN     NaN\n",
              "4  PZ-LZzSlhSe9utkQYU8pFg       89119    4.0  ...     1.0   0.0     1.0\n",
              "\n",
              "[5 rows x 21 columns]"
            ]
          },
          "metadata": {
            "tags": []
          },
          "execution_count": 62
        }
      ]
    },
    {
      "cell_type": "code",
      "metadata": {
        "id": "BOcFPmcICvjL",
        "colab_type": "code",
        "colab": {}
      },
      "source": [
        "final2 = final.drop(['business_id','postal_code','categories'],axis=1)"
      ],
      "execution_count": 0,
      "outputs": []
    },
    {
      "cell_type": "code",
      "metadata": {
        "id": "0PtcQaSG-Xls",
        "colab_type": "code",
        "colab": {}
      },
      "source": [
        "values = {'drink': 0, 'food': 0, 'inside': 0, 'menu': 0,'outside': 0,'Non_elite_fans':0,'elite_fans':0,'Non_elite_total_reviews':0,'elite_total_reviews':0, 'Non_elite_rest_reviews':0, 'elite_rest_reviews':0,'avg_checkins_peryear':0}\n",
        "final2 = final2.fillna(value=values)"
      ],
      "execution_count": 0,
      "outputs": []
    },
    {
      "cell_type": "code",
      "metadata": {
        "id": "gfbtBmhFDWGa",
        "colab_type": "code",
        "outputId": "453d74a1-d49d-4240-96df-9701da081cf8",
        "colab": {
          "base_uri": "https://localhost:8080/",
          "height": 304
        }
      },
      "source": [
        "final2.describe()"
      ],
      "execution_count": 65,
      "outputs": [
        {
          "output_type": "execute_result",
          "data": {
            "text/html": [
              "<div>\n",
              "<style scoped>\n",
              "    .dataframe tbody tr th:only-of-type {\n",
              "        vertical-align: middle;\n",
              "    }\n",
              "\n",
              "    .dataframe tbody tr th {\n",
              "        vertical-align: top;\n",
              "    }\n",
              "\n",
              "    .dataframe thead th {\n",
              "        text-align: right;\n",
              "    }\n",
              "</style>\n",
              "<table border=\"1\" class=\"dataframe\">\n",
              "  <thead>\n",
              "    <tr style=\"text-align: right;\">\n",
              "      <th></th>\n",
              "      <th>stars</th>\n",
              "      <th>review_count</th>\n",
              "      <th>is_open</th>\n",
              "      <th>total_restaurants</th>\n",
              "      <th>Non_elite_fans</th>\n",
              "      <th>elite_fans</th>\n",
              "      <th>Non_elite_total_reviews</th>\n",
              "      <th>elite_total_reviews</th>\n",
              "      <th>Non_elite_rest_reviews</th>\n",
              "      <th>elite_rest_reviews</th>\n",
              "      <th>Non_elite_rating</th>\n",
              "      <th>elite_rating</th>\n",
              "      <th>avg_checkins_peryear</th>\n",
              "      <th>drink</th>\n",
              "      <th>food</th>\n",
              "      <th>inside</th>\n",
              "      <th>menu</th>\n",
              "      <th>outside</th>\n",
              "    </tr>\n",
              "  </thead>\n",
              "  <tbody>\n",
              "    <tr>\n",
              "      <th>count</th>\n",
              "      <td>59371.000000</td>\n",
              "      <td>59371.000000</td>\n",
              "      <td>59371.000000</td>\n",
              "      <td>59371.000000</td>\n",
              "      <td>59371.000000</td>\n",
              "      <td>59371.000000</td>\n",
              "      <td>59371.000000</td>\n",
              "      <td>5.937100e+04</td>\n",
              "      <td>59371.000000</td>\n",
              "      <td>59371.000000</td>\n",
              "      <td>58947.000000</td>\n",
              "      <td>54463.000000</td>\n",
              "      <td>59371.000000</td>\n",
              "      <td>59371.000000</td>\n",
              "      <td>59371.000000</td>\n",
              "      <td>59371.000000</td>\n",
              "      <td>59371.000000</td>\n",
              "      <td>59371.000000</td>\n",
              "    </tr>\n",
              "    <tr>\n",
              "      <th>mean</th>\n",
              "      <td>3.441790</td>\n",
              "      <td>68.456452</td>\n",
              "      <td>0.711408</td>\n",
              "      <td>106.555979</td>\n",
              "      <td>80.445807</td>\n",
              "      <td>791.995250</td>\n",
              "      <td>2110.114467</td>\n",
              "      <td>6.793487e+03</td>\n",
              "      <td>52.515824</td>\n",
              "      <td>18.254148</td>\n",
              "      <td>3.404865</td>\n",
              "      <td>3.565957</td>\n",
              "      <td>32.346721</td>\n",
              "      <td>0.287379</td>\n",
              "      <td>1.927658</td>\n",
              "      <td>0.825133</td>\n",
              "      <td>0.050008</td>\n",
              "      <td>0.182985</td>\n",
              "    </tr>\n",
              "    <tr>\n",
              "      <th>std</th>\n",
              "      <td>0.803304</td>\n",
              "      <td>176.636132</td>\n",
              "      <td>0.453112</td>\n",
              "      <td>157.568255</td>\n",
              "      <td>276.481661</td>\n",
              "      <td>2894.959626</td>\n",
              "      <td>6620.529497</td>\n",
              "      <td>2.260784e+04</td>\n",
              "      <td>133.974232</td>\n",
              "      <td>52.624538</td>\n",
              "      <td>0.908476</td>\n",
              "      <td>0.770053</td>\n",
              "      <td>108.533152</td>\n",
              "      <td>1.246594</td>\n",
              "      <td>6.514746</td>\n",
              "      <td>3.541126</td>\n",
              "      <td>0.374002</td>\n",
              "      <td>0.820099</td>\n",
              "    </tr>\n",
              "    <tr>\n",
              "      <th>min</th>\n",
              "      <td>1.000000</td>\n",
              "      <td>3.000000</td>\n",
              "      <td>0.000000</td>\n",
              "      <td>1.000000</td>\n",
              "      <td>0.000000</td>\n",
              "      <td>0.000000</td>\n",
              "      <td>0.000000</td>\n",
              "      <td>0.000000e+00</td>\n",
              "      <td>0.000000</td>\n",
              "      <td>0.000000</td>\n",
              "      <td>1.000000</td>\n",
              "      <td>1.000000</td>\n",
              "      <td>0.000000</td>\n",
              "      <td>0.000000</td>\n",
              "      <td>0.000000</td>\n",
              "      <td>0.000000</td>\n",
              "      <td>0.000000</td>\n",
              "      <td>0.000000</td>\n",
              "    </tr>\n",
              "    <tr>\n",
              "      <th>25%</th>\n",
              "      <td>3.000000</td>\n",
              "      <td>7.000000</td>\n",
              "      <td>0.000000</td>\n",
              "      <td>5.000000</td>\n",
              "      <td>3.000000</td>\n",
              "      <td>30.000000</td>\n",
              "      <td>134.000000</td>\n",
              "      <td>4.670000e+02</td>\n",
              "      <td>5.000000</td>\n",
              "      <td>2.000000</td>\n",
              "      <td>2.846154</td>\n",
              "      <td>3.087596</td>\n",
              "      <td>2.750000</td>\n",
              "      <td>0.000000</td>\n",
              "      <td>0.000000</td>\n",
              "      <td>0.000000</td>\n",
              "      <td>0.000000</td>\n",
              "      <td>0.000000</td>\n",
              "    </tr>\n",
              "    <tr>\n",
              "      <th>50%</th>\n",
              "      <td>3.500000</td>\n",
              "      <td>21.000000</td>\n",
              "      <td>1.000000</td>\n",
              "      <td>55.000000</td>\n",
              "      <td>14.000000</td>\n",
              "      <td>151.000000</td>\n",
              "      <td>510.000000</td>\n",
              "      <td>1.805000e+03</td>\n",
              "      <td>15.000000</td>\n",
              "      <td>5.000000</td>\n",
              "      <td>3.500000</td>\n",
              "      <td>3.666667</td>\n",
              "      <td>7.500000</td>\n",
              "      <td>0.000000</td>\n",
              "      <td>0.000000</td>\n",
              "      <td>0.000000</td>\n",
              "      <td>0.000000</td>\n",
              "      <td>0.000000</td>\n",
              "    </tr>\n",
              "    <tr>\n",
              "      <th>75%</th>\n",
              "      <td>4.000000</td>\n",
              "      <td>62.000000</td>\n",
              "      <td>1.000000</td>\n",
              "      <td>136.000000</td>\n",
              "      <td>56.000000</td>\n",
              "      <td>675.000000</td>\n",
              "      <td>1723.500000</td>\n",
              "      <td>6.228500e+03</td>\n",
              "      <td>47.000000</td>\n",
              "      <td>16.000000</td>\n",
              "      <td>4.050000</td>\n",
              "      <td>4.000000</td>\n",
              "      <td>24.250000</td>\n",
              "      <td>0.000000</td>\n",
              "      <td>2.000000</td>\n",
              "      <td>1.000000</td>\n",
              "      <td>0.000000</td>\n",
              "      <td>0.000000</td>\n",
              "    </tr>\n",
              "    <tr>\n",
              "      <th>max</th>\n",
              "      <td>5.000000</td>\n",
              "      <td>8348.000000</td>\n",
              "      <td>1.000000</td>\n",
              "      <td>965.000000</td>\n",
              "      <td>13130.000000</td>\n",
              "      <td>140212.000000</td>\n",
              "      <td>341940.000000</td>\n",
              "      <td>1.118966e+06</td>\n",
              "      <td>6005.000000</td>\n",
              "      <td>2707.000000</td>\n",
              "      <td>5.000000</td>\n",
              "      <td>5.000000</td>\n",
              "      <td>7655.400000</td>\n",
              "      <td>55.000000</td>\n",
              "      <td>590.000000</td>\n",
              "      <td>327.000000</td>\n",
              "      <td>32.000000</td>\n",
              "      <td>61.000000</td>\n",
              "    </tr>\n",
              "  </tbody>\n",
              "</table>\n",
              "</div>"
            ],
            "text/plain": [
              "              stars  review_count  ...          menu       outside\n",
              "count  59371.000000  59371.000000  ...  59371.000000  59371.000000\n",
              "mean       3.441790     68.456452  ...      0.050008      0.182985\n",
              "std        0.803304    176.636132  ...      0.374002      0.820099\n",
              "min        1.000000      3.000000  ...      0.000000      0.000000\n",
              "25%        3.000000      7.000000  ...      0.000000      0.000000\n",
              "50%        3.500000     21.000000  ...      0.000000      0.000000\n",
              "75%        4.000000     62.000000  ...      0.000000      0.000000\n",
              "max        5.000000   8348.000000  ...     32.000000     61.000000\n",
              "\n",
              "[8 rows x 18 columns]"
            ]
          },
          "metadata": {
            "tags": []
          },
          "execution_count": 65
        }
      ]
    },
    {
      "cell_type": "code",
      "metadata": {
        "id": "7qBbGrU5C9bh",
        "colab_type": "code",
        "outputId": "623ad44d-eee2-4d76-8759-e5dfa6a0c387",
        "colab": {
          "base_uri": "https://localhost:8080/",
          "height": 297
        }
      },
      "source": [
        "sns.distplot(final2['Non_elite_rating'])"
      ],
      "execution_count": 66,
      "outputs": [
        {
          "output_type": "execute_result",
          "data": {
            "text/plain": [
              "<matplotlib.axes._subplots.AxesSubplot at 0x7f4e445f2320>"
            ]
          },
          "metadata": {
            "tags": []
          },
          "execution_count": 66
        },
        {
          "output_type": "display_data",
          "data": {
            "image/png": "[encoded data removed]",
            "text/plain": [
              "<Figure size 432x288 with 1 Axes>"
            ]
          },
          "metadata": {
            "tags": []
          }
        }
      ]
    },
    {
      "cell_type": "code",
      "metadata": {
        "id": "AuwROe3oDlFk",
        "colab_type": "code",
        "colab": {}
      },
      "source": [
        "final2.loc[final2['Non_elite_rating'].isna(),'Non_elite_rating'] = final2['Non_elite_rating'].mean()"
      ],
      "execution_count": 0,
      "outputs": []
    },
    {
      "cell_type": "code",
      "metadata": {
        "id": "-8rKH6msDYC9",
        "colab_type": "code",
        "outputId": "28e42528-3279-487a-a30f-1098dd5c1c91",
        "colab": {
          "base_uri": "https://localhost:8080/",
          "height": 297
        }
      },
      "source": [
        "sns.distplot(final2['elite_rating'])"
      ],
      "execution_count": 68,
      "outputs": [
        {
          "output_type": "execute_result",
          "data": {
            "text/plain": [
              "<matplotlib.axes._subplots.AxesSubplot at 0x7f4e44657630>"
            ]
          },
          "metadata": {
            "tags": []
          },
          "execution_count": 68
        },
        {
          "output_type": "display_data",
          "data": {
            "image/png": "[encoded data removed]",
            "text/plain": [
              "<Figure size 432x288 with 1 Axes>"
            ]
          },
          "metadata": {
            "tags": []
          }
        }
      ]
    },
    {
      "cell_type": "code",
      "metadata": {
        "id": "KtTp9gJ1DzM_",
        "colab_type": "code",
        "colab": {}
      },
      "source": [
        "final2.loc[final2['elite_rating'].isna(),'elite_rating']= final2['elite_rating'].mean()"
      ],
      "execution_count": 0,
      "outputs": []
    },
    {
      "cell_type": "code",
      "metadata": {
        "id": "vOjMMavuD3TE",
        "colab_type": "code",
        "outputId": "e5f91109-05bc-4272-abd7-3cf51fb60ea4",
        "colab": {
          "base_uri": "https://localhost:8080/",
          "height": 304
        }
      },
      "source": [
        "final2.describe()"
      ],
      "execution_count": 70,
      "outputs": [
        {
          "output_type": "execute_result",
          "data": {
            "text/html": [
              "<div>\n",
              "<style scoped>\n",
              "    .dataframe tbody tr th:only-of-type {\n",
              "        vertical-align: middle;\n",
              "    }\n",
              "\n",
              "    .dataframe tbody tr th {\n",
              "        vertical-align: top;\n",
              "    }\n",
              "\n",
              "    .dataframe thead th {\n",
              "        text-align: right;\n",
              "    }\n",
              "</style>\n",
              "<table border=\"1\" class=\"dataframe\">\n",
              "  <thead>\n",
              "    <tr style=\"text-align: right;\">\n",
              "      <th></th>\n",
              "      <th>stars</th>\n",
              "      <th>review_count</th>\n",
              "      <th>is_open</th>\n",
              "      <th>total_restaurants</th>\n",
              "      <th>Non_elite_fans</th>\n",
              "      <th>elite_fans</th>\n",
              "      <th>Non_elite_total_reviews</th>\n",
              "      <th>elite_total_reviews</th>\n",
              "      <th>Non_elite_rest_reviews</th>\n",
              "      <th>elite_rest_reviews</th>\n",
              "      <th>Non_elite_rating</th>\n",
              "      <th>elite_rating</th>\n",
              "      <th>avg_checkins_peryear</th>\n",
              "      <th>drink</th>\n",
              "      <th>food</th>\n",
              "      <th>inside</th>\n",
              "      <th>menu</th>\n",
              "      <th>outside</th>\n",
              "    </tr>\n",
              "  </thead>\n",
              "  <tbody>\n",
              "    <tr>\n",
              "      <th>count</th>\n",
              "      <td>59371.000000</td>\n",
              "      <td>59371.000000</td>\n",
              "      <td>59371.000000</td>\n",
              "      <td>59371.000000</td>\n",
              "      <td>59371.000000</td>\n",
              "      <td>59371.000000</td>\n",
              "      <td>59371.000000</td>\n",
              "      <td>5.937100e+04</td>\n",
              "      <td>59371.000000</td>\n",
              "      <td>59371.000000</td>\n",
              "      <td>59371.000000</td>\n",
              "      <td>59371.000000</td>\n",
              "      <td>59371.000000</td>\n",
              "      <td>59371.000000</td>\n",
              "      <td>59371.000000</td>\n",
              "      <td>59371.000000</td>\n",
              "      <td>59371.000000</td>\n",
              "      <td>59371.000000</td>\n",
              "    </tr>\n",
              "    <tr>\n",
              "      <th>mean</th>\n",
              "      <td>3.441790</td>\n",
              "      <td>68.456452</td>\n",
              "      <td>0.711408</td>\n",
              "      <td>106.555979</td>\n",
              "      <td>80.445807</td>\n",
              "      <td>791.995250</td>\n",
              "      <td>2110.114467</td>\n",
              "      <td>6.793487e+03</td>\n",
              "      <td>52.515824</td>\n",
              "      <td>18.254148</td>\n",
              "      <td>3.404865</td>\n",
              "      <td>3.565957</td>\n",
              "      <td>32.346721</td>\n",
              "      <td>0.287379</td>\n",
              "      <td>1.927658</td>\n",
              "      <td>0.825133</td>\n",
              "      <td>0.050008</td>\n",
              "      <td>0.182985</td>\n",
              "    </tr>\n",
              "    <tr>\n",
              "      <th>std</th>\n",
              "      <td>0.803304</td>\n",
              "      <td>176.636132</td>\n",
              "      <td>0.453112</td>\n",
              "      <td>157.568255</td>\n",
              "      <td>276.481661</td>\n",
              "      <td>2894.959626</td>\n",
              "      <td>6620.529497</td>\n",
              "      <td>2.260784e+04</td>\n",
              "      <td>133.974232</td>\n",
              "      <td>52.624538</td>\n",
              "      <td>0.905226</td>\n",
              "      <td>0.737537</td>\n",
              "      <td>108.533152</td>\n",
              "      <td>1.246594</td>\n",
              "      <td>6.514746</td>\n",
              "      <td>3.541126</td>\n",
              "      <td>0.374002</td>\n",
              "      <td>0.820099</td>\n",
              "    </tr>\n",
              "    <tr>\n",
              "      <th>min</th>\n",
              "      <td>1.000000</td>\n",
              "      <td>3.000000</td>\n",
              "      <td>0.000000</td>\n",
              "      <td>1.000000</td>\n",
              "      <td>0.000000</td>\n",
              "      <td>0.000000</td>\n",
              "      <td>0.000000</td>\n",
              "      <td>0.000000e+00</td>\n",
              "      <td>0.000000</td>\n",
              "      <td>0.000000</td>\n",
              "      <td>1.000000</td>\n",
              "      <td>1.000000</td>\n",
              "      <td>0.000000</td>\n",
              "      <td>0.000000</td>\n",
              "      <td>0.000000</td>\n",
              "      <td>0.000000</td>\n",
              "      <td>0.000000</td>\n",
              "      <td>0.000000</td>\n",
              "    </tr>\n",
              "    <tr>\n",
              "      <th>25%</th>\n",
              "      <td>3.000000</td>\n",
              "      <td>7.000000</td>\n",
              "      <td>0.000000</td>\n",
              "      <td>5.000000</td>\n",
              "      <td>3.000000</td>\n",
              "      <td>30.000000</td>\n",
              "      <td>134.000000</td>\n",
              "      <td>4.670000e+02</td>\n",
              "      <td>5.000000</td>\n",
              "      <td>2.000000</td>\n",
              "      <td>2.857143</td>\n",
              "      <td>3.181818</td>\n",
              "      <td>2.750000</td>\n",
              "      <td>0.000000</td>\n",
              "      <td>0.000000</td>\n",
              "      <td>0.000000</td>\n",
              "      <td>0.000000</td>\n",
              "      <td>0.000000</td>\n",
              "    </tr>\n",
              "    <tr>\n",
              "      <th>50%</th>\n",
              "      <td>3.500000</td>\n",
              "      <td>21.000000</td>\n",
              "      <td>1.000000</td>\n",
              "      <td>55.000000</td>\n",
              "      <td>14.000000</td>\n",
              "      <td>151.000000</td>\n",
              "      <td>510.000000</td>\n",
              "      <td>1.805000e+03</td>\n",
              "      <td>15.000000</td>\n",
              "      <td>5.000000</td>\n",
              "      <td>3.500000</td>\n",
              "      <td>3.578947</td>\n",
              "      <td>7.500000</td>\n",
              "      <td>0.000000</td>\n",
              "      <td>0.000000</td>\n",
              "      <td>0.000000</td>\n",
              "      <td>0.000000</td>\n",
              "      <td>0.000000</td>\n",
              "    </tr>\n",
              "    <tr>\n",
              "      <th>75%</th>\n",
              "      <td>4.000000</td>\n",
              "      <td>62.000000</td>\n",
              "      <td>1.000000</td>\n",
              "      <td>136.000000</td>\n",
              "      <td>56.000000</td>\n",
              "      <td>675.000000</td>\n",
              "      <td>1723.500000</td>\n",
              "      <td>6.228500e+03</td>\n",
              "      <td>47.000000</td>\n",
              "      <td>16.000000</td>\n",
              "      <td>4.044346</td>\n",
              "      <td>4.000000</td>\n",
              "      <td>24.250000</td>\n",
              "      <td>0.000000</td>\n",
              "      <td>2.000000</td>\n",
              "      <td>1.000000</td>\n",
              "      <td>0.000000</td>\n",
              "      <td>0.000000</td>\n",
              "    </tr>\n",
              "    <tr>\n",
              "      <th>max</th>\n",
              "      <td>5.000000</td>\n",
              "      <td>8348.000000</td>\n",
              "      <td>1.000000</td>\n",
              "      <td>965.000000</td>\n",
              "      <td>13130.000000</td>\n",
              "      <td>140212.000000</td>\n",
              "      <td>341940.000000</td>\n",
              "      <td>1.118966e+06</td>\n",
              "      <td>6005.000000</td>\n",
              "      <td>2707.000000</td>\n",
              "      <td>5.000000</td>\n",
              "      <td>5.000000</td>\n",
              "      <td>7655.400000</td>\n",
              "      <td>55.000000</td>\n",
              "      <td>590.000000</td>\n",
              "      <td>327.000000</td>\n",
              "      <td>32.000000</td>\n",
              "      <td>61.000000</td>\n",
              "    </tr>\n",
              "  </tbody>\n",
              "</table>\n",
              "</div>"
            ],
            "text/plain": [
              "              stars  review_count  ...          menu       outside\n",
              "count  59371.000000  59371.000000  ...  59371.000000  59371.000000\n",
              "mean       3.441790     68.456452  ...      0.050008      0.182985\n",
              "std        0.803304    176.636132  ...      0.374002      0.820099\n",
              "min        1.000000      3.000000  ...      0.000000      0.000000\n",
              "25%        3.000000      7.000000  ...      0.000000      0.000000\n",
              "50%        3.500000     21.000000  ...      0.000000      0.000000\n",
              "75%        4.000000     62.000000  ...      0.000000      0.000000\n",
              "max        5.000000   8348.000000  ...     32.000000     61.000000\n",
              "\n",
              "[8 rows x 18 columns]"
            ]
          },
          "metadata": {
            "tags": []
          },
          "execution_count": 70
        }
      ]
    },
    {
      "cell_type": "code",
      "metadata": {
        "id": "LH1DhM-aDb_j",
        "colab_type": "code",
        "outputId": "5b50d68d-7947-4857-e69f-fd8aea2b2ec1",
        "colab": {
          "base_uri": "https://localhost:8080/",
          "height": 297
        }
      },
      "source": [
        "sns.distplot(final2['is_open'])"
      ],
      "execution_count": 71,
      "outputs": [
        {
          "output_type": "execute_result",
          "data": {
            "text/plain": [
              "<matplotlib.axes._subplots.AxesSubplot at 0x7f4e4448f7b8>"
            ]
          },
          "metadata": {
            "tags": []
          },
          "execution_count": 71
        },
        {
          "output_type": "display_data",
          "data": {
            "image/png": "[encoded data removed]",
            "text/plain": [
              "<Figure size 432x288 with 1 Axes>"
            ]
          },
          "metadata": {
            "tags": []
          }
        }
      ]
    },
    {
      "cell_type": "code",
      "metadata": {
        "id": "OtPRrZJID9eD",
        "colab_type": "code",
        "colab": {}
      },
      "source": [
        "Y = final2['is_open']\n",
        "X = final2.drop('is_open',axis=1)"
      ],
      "execution_count": 0,
      "outputs": []
    },
    {
      "cell_type": "code",
      "metadata": {
        "id": "Cb_pwsI2JVy5",
        "colab_type": "code",
        "colab": {}
      },
      "source": [
        "Y = pd.DataFrame(Y)"
      ],
      "execution_count": 0,
      "outputs": []
    },
    {
      "cell_type": "code",
      "metadata": {
        "id": "XrquoKV7Mgit",
        "colab_type": "code",
        "colab": {}
      },
      "source": [
        "Y.loc[Y['is_open']==1,'is_closed'] = 0\n",
        "Y.loc[Y['is_open']==0,'is_closed'] = 1"
      ],
      "execution_count": 0,
      "outputs": []
    },
    {
      "cell_type": "code",
      "metadata": {
        "id": "0fsRvL2OEH8G",
        "colab_type": "code",
        "colab": {}
      },
      "source": [
        "from sklearn.model_selection import cross_val_score, train_test_split, cross_val_predict, KFold\n",
        "from sklearn.model_selection import GridSearchCV\n",
        "from sklearn.metrics import accuracy_score,roc_curve, roc_auc_score,auc\n",
        "from sklearn.metrics import confusion_matrix, precision_recall_fscore_support\n",
        "from sklearn.metrics import precision_score, recall_score,classification_report"
      ],
      "execution_count": 0,
      "outputs": []
    },
    {
      "cell_type": "code",
      "metadata": {
        "id": "O2_1r3zREYna",
        "colab_type": "code",
        "colab": {}
      },
      "source": [
        "X_train, X_test, Y_train, Y_test = train_test_split(X,Y['is_closed'], test_size=0.1, random_state=42)\n",
        "\n",
        "\n",
        "Y_train=Y_train.astype('int')\n",
        "Y_test=Y_test.astype('int')"
      ],
      "execution_count": 0,
      "outputs": []
    },
    {
      "cell_type": "code",
      "metadata": {
        "id": "IQUxYnKOEd9-",
        "colab_type": "code",
        "outputId": "55382d05-96fe-4772-b185-ece121a6ddca",
        "colab": {
          "base_uri": "https://localhost:8080/",
          "height": 750
        }
      },
      "source": [
        "f = plt.figure(figsize=(12, 10))\n",
        "plt.matshow(final2.corr(), fignum=f.number)\n",
        "plt.xticks(range(final2.shape[1]), final2.columns, fontsize=14, rotation=90)\n",
        "plt.yticks(range(final2.shape[1]), final2.columns, fontsize=14)\n",
        "cb = plt.colorbar()\n",
        "cb.ax.tick_params(labelsize=14)\n",
        "plt.title('Correlation Matrix', fontsize=16);"
      ],
      "execution_count": 77,
      "outputs": [
        {
          "output_type": "display_data",
          "data": {
            "image/png": "[encoded data removed]",
            "text/plain": [
              "<Figure size 864x720 with 2 Axes>"
            ]
          },
          "metadata": {
            "tags": []
          }
        }
      ]
    },
    {
      "cell_type": "code",
      "metadata": {
        "id": "mMVSyrp7E5PR",
        "colab_type": "code",
        "colab": {}
      },
      "source": [
        "# standardizing the data\n",
        "from sklearn.preprocessing import StandardScaler\n",
        "scaler = StandardScaler()\n",
        "X_train_scaled = scaler.fit_transform(X_train)\n",
        "X_test_scaled = scaler.transform(X_test)"
      ],
      "execution_count": 0,
      "outputs": []
    },
    {
      "cell_type": "code",
      "metadata": {
        "id": "30Jx9Sd2_YOT",
        "colab_type": "code",
        "colab": {}
      },
      "source": [
        "import scikitplot as skplt\n",
        "from sklearn.metrics import accuracy_score,roc_curve, roc_auc_score,auc\n",
        "from sklearn.metrics import confusion_matrix, precision_recall_fscore_support\n",
        "from sklearn.metrics import precision_score, recall_score,classification_report\n",
        "import numpy as np\n",
        "from sklearn import neighbors\n",
        "from sklearn import linear_model\n",
        "from sklearn.tree import DecisionTreeClassifier\n",
        "from sklearn import ensemble\n",
        "from xgboost import XGBClassifier"
      ],
      "execution_count": 0,
      "outputs": []
    },
    {
      "cell_type": "code",
      "metadata": {
        "id": "YKg59KicE6yv",
        "colab_type": "code",
        "outputId": "0ec521f9-a586-4988-f137-87ec9cdc0f00",
        "colab": {
          "base_uri": "https://localhost:8080/",
          "height": 84
        }
      },
      "source": [
        "# knn\n",
        "\n",
        "param_grid_k = [{'n_neighbors': range(1,21),'weights': [\"uniform\", \"distance\"]}]\n",
        "\n",
        "knn_clf = neighbors.KNeighborsClassifier()\n",
        "\n",
        "k_clf = GridSearchCV(estimator=knn_clf, param_grid=param_grid_k, cv=3, n_jobs=-1,scoring='accuracy')\n",
        "k_clf.fit(X_train_scaled, Y_train)\n",
        "print('KNN best parameters: ',k_clf.best_params_)\n",
        "print('KNN best score: ', k_clf.best_score_)"
      ],
      "execution_count": 79,
      "outputs": [
        {
          "output_type": "stream",
          "text": [
            "KNN best parameters:  {'n_neighbors': 20, 'weights': 'uniform'}\n",
            "KNN best score:  0.7258435798102297\n",
            "Logistic best parameters:  {'C': 14, 'penalty': 'l2'}\n",
            "Logistic best score:  0.7209402429210413\n"
          ],
          "name": "stdout"
        }
      ]
    },
    {
      "cell_type": "code",
      "metadata": {
        "id": "Cj0juH0m7gr8",
        "colab_type": "code",
        "colab": {}
      },
      "source": [
        ""
      ],
      "execution_count": 0,
      "outputs": []
    },
    {
      "cell_type": "code",
      "metadata": {
        "id": "ZlIg4aqk6KPJ",
        "colab_type": "code",
        "colab": {
          "base_uri": "https://localhost:8080/",
          "height": 1000
        },
        "outputId": "fb54a5b6-85e0-4120-8a1c-67b5f5a84b5e"
      },
      "source": [
        "k_clf = neighbors.KNeighborsClassifier(n_neighbors=20, weights='uniform')\n",
        "y_pred = k_clf.fit(X_train_scaled, Y_train).predict(X_test_scaled)\n",
        "y_probas = k_clf.predict_proba(X_test_scaled)\n",
        "conf_mat = confusion_matrix(Y_test, y_pred)\n",
        "accuracy = accuracy_score(Y_test, y_pred)\n",
        "score = precision_recall_fscore_support(Y_test, y_pred, average='weighted')\n",
        "precision, recall, fscore, k = score\n",
        "skplt.metrics.plot_confusion_matrix(Y_test, y_pred)\n",
        "skplt.metrics.plot_precision_recall_curve(Y_test, y_probas)\n",
        "skplt.metrics.plot_roc(Y_test, y_probas)\n",
        "print(classification_report(Y_test, y_pred))\n",
        "print(\"Accuracy:\",accuracy)\n",
        "print(\"Precision:\",precision)\n",
        "print(\"Recall:\",recall)\n",
        "print(\"F score:\",fscore)"
      ],
      "execution_count": 96,
      "outputs": [
        {
          "output_type": "stream",
          "text": [
            "              precision    recall  f1-score   support\n",
            "\n",
            "           0       0.75      0.94      0.83      4219\n",
            "           1       0.60      0.21      0.31      1719\n",
            "\n",
            "    accuracy                           0.73      5938\n",
            "   macro avg       0.67      0.58      0.57      5938\n",
            "weighted avg       0.70      0.73      0.68      5938\n",
            "\n",
            "Accuracy: 0.7310542270124621\n",
            "Precision: 0.7041400778352597\n",
            "Recall: 0.7310542270124621\n",
            "F score: 0.6810231988878612\n"
          ],
          "name": "stdout"
        },
        {
          "output_type": "display_data",
          "data": {
            "image/png": "[encoded data removed]",
            "text/plain": [
              "<Figure size 432x288 with 2 Axes>"
            ]
          },
          "metadata": {
            "tags": []
          }
        },
        {
          "output_type": "display_data",
          "data": {
            "image/png": "[encoded data removed]",
            "text/plain": [
              "<Figure size 432x288 with 1 Axes>"
            ]
          },
          "metadata": {
            "tags": []
          }
        },
        {
          "output_type": "display_data",
          "data": {
            "image/png": "[encoded data removed]",
            "text/plain": [
              "<Figure size 432x288 with 1 Axes>"
            ]
          },
          "metadata": {
            "tags": []
          }
        }
      ]
    },
    {
      "cell_type": "code",
      "metadata": {
        "id": "tVYXtRt3-aFq",
        "colab_type": "code",
        "colab": {}
      },
      "source": [
        "# logit\n",
        "\n",
        "param_grid_l = [{'C': range(1,20),'penalty': ['l1', 'l2']}]\n",
        "\n",
        "Logit_clf = linear_model.LogisticRegression()\n",
        "\n",
        "l_clf = GridSearchCV(estimator=Logit_clf, param_grid=param_grid_l, cv=3,n_jobs=-1,scoring=\"accuracy\")\n",
        "l_clf.fit(X_train_scaled, Y_train)\n",
        "print('Logistic best parameters: ',l_clf.best_params_)\n",
        "print('Logistic best score: ',l_clf.best_score_)"
      ],
      "execution_count": 0,
      "outputs": []
    },
    {
      "cell_type": "code",
      "metadata": {
        "id": "3enLrQg69RXH",
        "colab_type": "code",
        "colab": {
          "base_uri": "https://localhost:8080/",
          "height": 1000
        },
        "outputId": "87c285ea-161b-44b2-90ac-cc27941e159d"
      },
      "source": [
        "l_clf = linear_model.LogisticRegression(C=14, penalty= 'l2')\n",
        "y_pred = l_clf.fit(X_train_scaled, Y_train).predict(X_test_scaled)\n",
        "y_probas = l_clf.predict_proba(X_test_scaled)\n",
        "conf_mat = confusion_matrix(Y_test, y_pred)\n",
        "accuracy = accuracy_score(Y_test, y_pred)\n",
        "score = precision_recall_fscore_support(Y_test, y_pred, average='weighted')\n",
        "precision, recall, fscore, k = score\n",
        "skplt.metrics.plot_confusion_matrix(Y_test, y_pred)\n",
        "skplt.metrics.plot_precision_recall_curve(Y_test, y_probas)\n",
        "skplt.metrics.plot_roc(Y_test, y_probas)\n",
        "print(classification_report(Y_test, y_pred))\n",
        "print(\"Accuracy:\",accuracy)\n",
        "print(\"Precision:\",precision)\n",
        "print(\"Recall:\",recall)\n",
        "print(\"F score:\",fscore)"
      ],
      "execution_count": 97,
      "outputs": [
        {
          "output_type": "stream",
          "text": [
            "              precision    recall  f1-score   support\n",
            "\n",
            "           0       0.73      0.98      0.83      4219\n",
            "           1       0.64      0.10      0.17      1719\n",
            "\n",
            "    accuracy                           0.72      5938\n",
            "   macro avg       0.68      0.54      0.50      5938\n",
            "weighted avg       0.70      0.72      0.64      5938\n",
            "\n",
            "Accuracy: 0.7226338834624453\n",
            "Precision: 0.700271327727329\n",
            "Recall: 0.7226338834624453\n",
            "F score: 0.6414919930355427\n"
          ],
          "name": "stdout"
        },
        {
          "output_type": "display_data",
          "data": {
            "image/png": "[encoded data removed]",
            "text/plain": [
              "<Figure size 432x288 with 2 Axes>"
            ]
          },
          "metadata": {
            "tags": []
          }
        },
        {
          "output_type": "display_data",
          "data": {
            "image/png": "[encoded data removed]",
            "text/plain": [
              "<Figure size 432x288 with 1 Axes>"
            ]
          },
          "metadata": {
            "tags": []
          }
        },
        {
          "output_type": "display_data",
          "data": {
            "image/png": "[encoded data removed]",
            "text/plain": [
              "<Figure size 432x288 with 1 Axes>"
            ]
          },
          "metadata": {
            "tags": []
          }
        }
      ]
    },
    {
      "cell_type": "code",
      "metadata": {
        "id": "G7LfDXoKG4EM",
        "colab_type": "code",
        "outputId": "2b85f8e5-ad05-46eb-a71a-3f10cd5707e1",
        "colab": {
          "base_uri": "https://localhost:8080/",
          "height": 50
        }
      },
      "source": [
        "# Decision Tree\n",
        "param_grid_t = [{'max_depth': range(1,20), 'min_samples_split': range(2,20)}]\n",
        "\n",
        "tree_clf = DecisionTreeClassifier()\n",
        "\n",
        "    # tree\n",
        "d_clf = GridSearchCV(estimator=tree_clf, param_grid=param_grid_t,n_jobs = -1, cv=3,scoring=\"accuracy\")\n",
        "d_clf.fit(X_train, Y_train)\n",
        "print('Decision Tree best parameters: ', d_clf.best_params_)\n",
        "print('Decision Tree best score: ',d_clf.best_score_)"
      ],
      "execution_count": 93,
      "outputs": [
        {
          "output_type": "stream",
          "text": [
            "Decision Tree best parameters:  {'max_depth': 7, 'min_samples_split': 17}\n",
            "Decision Tree best score:  0.7325997043025846\n"
          ],
          "name": "stdout"
        }
      ]
    },
    {
      "cell_type": "code",
      "metadata": {
        "id": "Dnix5Hoc-mQs",
        "colab_type": "code",
        "colab": {
          "base_uri": "https://localhost:8080/",
          "height": 1000
        },
        "outputId": "cbc823ec-1303-4874-8123-325f8c7ce9bc"
      },
      "source": [
        "d_clf = DecisionTreeClassifier(max_depth=7, min_samples_split=17)\n",
        "y_pred = d_clf.fit(X_train_scaled, Y_train).predict(X_test_scaled)\n",
        "y_probas = d_clf.predict_proba(X_test_scaled)\n",
        "conf_mat = confusion_matrix(Y_test, y_pred)\n",
        "accuracy = accuracy_score(Y_test, y_pred)\n",
        "score = precision_recall_fscore_support(Y_test, y_pred, average='weighted')\n",
        "precision, recall, fscore, k = score\n",
        "skplt.metrics.plot_confusion_matrix(Y_test, y_pred)\n",
        "skplt.metrics.plot_precision_recall_curve(Y_test, y_probas)\n",
        "skplt.metrics.plot_roc(Y_test, y_probas)\n",
        "print(classification_report(Y_test, y_pred))\n",
        "print(\"Accuracy:\",accuracy)\n",
        "print(\"Precision:\",precision)\n",
        "print(\"Recall:\",recall)\n",
        "print(\"F score:\",fscore)"
      ],
      "execution_count": 122,
      "outputs": [
        {
          "output_type": "stream",
          "text": [
            "              precision    recall  f1-score   support\n",
            "\n",
            "           0       0.75      0.91      0.82      4219\n",
            "           1       0.55      0.26      0.36      1719\n",
            "\n",
            "    accuracy                           0.72      5938\n",
            "   macro avg       0.65      0.59      0.59      5938\n",
            "weighted avg       0.69      0.72      0.69      5938\n",
            "\n",
            "Accuracy: 0.7246547659144493\n",
            "Precision: 0.6942583866702966\n",
            "Recall: 0.7246547659144493\n",
            "F score: 0.68940365957544\n"
          ],
          "name": "stdout"
        },
        {
          "output_type": "display_data",
          "data": {
            "image/png": "[encoded data removed]",
            "text/plain": [
              "<Figure size 432x288 with 2 Axes>"
            ]
          },
          "metadata": {
            "tags": []
          }
        },
        {
          "output_type": "display_data",
          "data": {
            "image/png": "[encoded data removed]",
            "text/plain": [
              "<Figure size 432x288 with 1 Axes>"
            ]
          },
          "metadata": {
            "tags": []
          }
        },
        {
          "output_type": "display_data",
          "data": {
            "image/png": "[encoded data removed]",
            "text/plain": [
              "<Figure size 432x288 with 1 Axes>"
            ]
          },
          "metadata": {
            "tags": []
          }
        }
      ]
    },
    {
      "cell_type": "code",
      "metadata": {
        "id": "FWWNaJUVHASt",
        "colab_type": "code",
        "outputId": "2a8f3996-67d1-4ea9-d818-4eae8c62e1b6",
        "colab": {
          "base_uri": "https://localhost:8080/",
          "height": 50
        }
      },
      "source": [
        "# Random Forrest\n",
        "\n",
        "param_grid_RF = [{'n_estimators': [500,750,1000], 'max_depth': range(1,10), 'min_samples_split': range(2,7)}]\n",
        "\n",
        "enm_RF = ensemble.RandomForestClassifier()\n",
        "\n",
        "clf = GridSearchCV(estimator=enm_RF, param_grid=param_grid_RF, cv=3, n_jobs=-1,scoring='accuracy')\n",
        "clf.fit(X_train, Y_train)\n",
        "print('Random Forrest best parameters: ',clf.best_params_)\n",
        "print('Random Forrest best score: ',clf.best_score_)"
      ],
      "execution_count": 98,
      "outputs": [
        {
          "output_type": "stream",
          "text": [
            "Random Forrest best parameters:  {'max_depth': 9, 'min_samples_split': 2, 'n_estimators': 500}\n",
            "Random Forrest best score:  0.7511462953605449\n"
          ],
          "name": "stdout"
        }
      ]
    },
    {
      "cell_type": "code",
      "metadata": {
        "id": "gPZxFqGS_qOD",
        "colab_type": "code",
        "colab": {
          "base_uri": "https://localhost:8080/",
          "height": 1000
        },
        "outputId": "837d33cb-4031-4e8d-e2b1-edae0d3820cb"
      },
      "source": [
        "RF_clf = ensemble.RandomForestClassifier(max_depth = 9,min_samples_split=2,n_estimators=500)\n",
        "y_pred = RF_clf.fit(X_train, Y_train).predict(X_test)\n",
        "y_probas = RF_clf.predict_proba(X_test)\n",
        "conf_mat = confusion_matrix(Y_test, y_pred)\n",
        "accuracy = accuracy_score(Y_test, y_pred)\n",
        "score = precision_recall_fscore_support(Y_test, y_pred, average='weighted')\n",
        "precision, recall, fscore, k = score\n",
        "skplt.metrics.plot_confusion_matrix(Y_test, y_pred)\n",
        "skplt.metrics.plot_precision_recall_curve(Y_test, y_probas)\n",
        "skplt.metrics.plot_roc(Y_test, y_probas)\n",
        "print(classification_report(Y_test, y_pred))\n",
        "print(\"Accuracy:\",accuracy)\n",
        "print(\"Precision:\",precision)\n",
        "print(\"Recall:\",recall)\n",
        "print(\"F score:\",fscore)"
      ],
      "execution_count": 99,
      "outputs": [
        {
          "output_type": "stream",
          "text": [
            "              precision    recall  f1-score   support\n",
            "\n",
            "           0       0.75      0.97      0.84      4219\n",
            "           1       0.72      0.20      0.32      1719\n",
            "\n",
            "    accuracy                           0.75      5938\n",
            "   macro avg       0.74      0.59      0.58      5938\n",
            "weighted avg       0.74      0.75      0.69      5938\n",
            "\n",
            "Accuracy: 0.7468844728864937\n",
            "Precision: 0.7417110915669803\n",
            "Recall: 0.7468844728864937\n",
            "F score: 0.6919379052302012\n"
          ],
          "name": "stdout"
        },
        {
          "output_type": "display_data",
          "data": {
            "image/png": "[encoded data removed]",
            "text/plain": [
              "<Figure size 432x288 with 2 Axes>"
            ]
          },
          "metadata": {
            "tags": []
          }
        },
        {
          "output_type": "display_data",
          "data": {
            "image/png": "[encoded data removed]",
            "text/plain": [
              "<Figure size 432x288 with 1 Axes>"
            ]
          },
          "metadata": {
            "tags": []
          }
        },
        {
          "output_type": "display_data",
          "data": {
            "image/png": "[encoded data removed]",
            "text/plain": [
              "<Figure size 432x288 with 1 Axes>"
            ]
          },
          "metadata": {
            "tags": []
          }
        }
      ]
    },
    {
      "cell_type": "code",
      "metadata": {
        "id": "WdxfsbhZK5Dw",
        "colab_type": "code",
        "colab": {}
      },
      "source": [
        "feature_importance = zip(X_train.columns,RF_clf.feature_importances_)\n",
        "feature_importance = pd.DataFrame(feature_importance, columns = ['feature','importance'])\n",
        "feature_importance = feature_importance.sort_values(by='importance')"
      ],
      "execution_count": 0,
      "outputs": []
    },
    {
      "cell_type": "code",
      "metadata": {
        "id": "LKnzcMe5ZemS",
        "colab_type": "code",
        "outputId": "af9acf62-c0ae-4198-f39c-a83789c7c5b6",
        "colab": {
          "base_uri": "https://localhost:8080/",
          "height": 296
        }
      },
      "source": [
        "sns.barplot(data = feature_importance, x='importance',y='feature')"
      ],
      "execution_count": 102,
      "outputs": [
        {
          "output_type": "execute_result",
          "data": {
            "text/plain": [
              "<matplotlib.axes._subplots.AxesSubplot at 0x7f4e43698438>"
            ]
          },
          "metadata": {
            "tags": []
          },
          "execution_count": 102
        },
        {
          "output_type": "display_data",
          "data": {
            "image/png": "[encoded data removed]",
            "text/plain": [
              "<Figure size 432x288 with 1 Axes>"
            ]
          },
          "metadata": {
            "tags": []
          }
        }
      ]
    },
    {
      "cell_type": "code",
      "metadata": {
        "id": "lHQJvo_AGY2h",
        "colab_type": "code",
        "outputId": "b8371dac-c83c-482a-cad2-88c159f03db7",
        "colab": {
          "base_uri": "https://localhost:8080/",
          "height": 50
        }
      },
      "source": [
        "# xgboost\n",
        "\n",
        "param_grid_XGB = {'n_estimators':[750,1000],'learning_rate':[0.001,0.01,0.1,0.2],'max_depth':[1,2,3,4,5,6]}\n",
        "\n",
        "xgb2 = XGBClassifier(objective='binary:logistic',random_state=42)\n",
        "\n",
        "\n",
        "    # XGBoost\n",
        "xgb_clf = GridSearchCV(estimator=xgb2, param_grid=param_grid_XGB, cv=3, n_jobs=-1,scoring='accuracy')\n",
        "xgb_clf.fit(X_train, Y_train)\n",
        "print('XGBoost best parameters: ',xgb_clf.best_params_)\n",
        "print('XGBoost best score: ',xgb_clf.best_score_)"
      ],
      "execution_count": 105,
      "outputs": [
        {
          "output_type": "stream",
          "text": [
            "XGBoost best parameters:  {'learning_rate': 0.1, 'max_depth': 4, 'n_estimators': 750}\n",
            "XGBoost best score:  0.7665113319484215\n"
          ],
          "name": "stdout"
        }
      ]
    },
    {
      "cell_type": "code",
      "metadata": {
        "id": "71xhhuJtkMPL",
        "colab_type": "code",
        "outputId": "d3e47793-2977-47c5-e895-9f829f8a1f32",
        "colab": {
          "base_uri": "https://localhost:8080/",
          "height": 1000
        }
      },
      "source": [
        "xgb_clf = XGBClassifier(objective='binary:logistic', max_depth = 4,learning_rate=0.1,n_estimators=750)\n",
        "y_pred = xgb_clf.fit(X_train, Y_train).predict(X_test)\n",
        "y_probas = xgb_clf.predict_proba(X_test)\n",
        "conf_mat = confusion_matrix(Y_test, y_pred)\n",
        "accuracy = accuracy_score(Y_test, y_pred)\n",
        "score = precision_recall_fscore_support(Y_test, y_pred, average='weighted')\n",
        "precision, recall, fscore, k = score\n",
        "skplt.metrics.plot_confusion_matrix(Y_test, y_pred)\n",
        "skplt.metrics.plot_precision_recall_curve(Y_test, y_probas)\n",
        "skplt.metrics.plot_roc(Y_test, y_probas)\n",
        "print(classification_report(Y_test, y_pred))\n",
        "print(\"Accuracy:\",accuracy)\n",
        "print(\"Precision:\",precision)\n",
        "print(\"Recall:\",recall)\n",
        "print(\"F score:\",fscore)"
      ],
      "execution_count": 106,
      "outputs": [
        {
          "output_type": "stream",
          "text": [
            "              precision    recall  f1-score   support\n",
            "\n",
            "           0       0.79      0.92      0.85      4219\n",
            "           1       0.67      0.39      0.49      1719\n",
            "\n",
            "    accuracy                           0.77      5938\n",
            "   macro avg       0.73      0.65      0.67      5938\n",
            "weighted avg       0.75      0.77      0.75      5938\n",
            "\n",
            "Accuracy: 0.7681037386325362\n",
            "Precision: 0.7541094735218522\n",
            "Recall: 0.7681037386325362\n",
            "F score: 0.7458656256750451\n"
          ],
          "name": "stdout"
        },
        {
          "output_type": "display_data",
          "data": {
            "image/png": "[encoded data removed]",
            "text/plain": [
              "<Figure size 432x288 with 2 Axes>"
            ]
          },
          "metadata": {
            "tags": []
          }
        },
        {
          "output_type": "display_data",
          "data": {
            "image/png": "[encoded data removed]",
            "text/plain": [
              "<Figure size 432x288 with 1 Axes>"
            ]
          },
          "metadata": {
            "tags": []
          }
        },
        {
          "output_type": "display_data",
          "data": {
            "image/png": "[encoded data removed]",
            "text/plain": [
              "<Figure size 432x288 with 1 Axes>"
            ]
          },
          "metadata": {
            "tags": []
          }
        }
      ]
    },
    {
      "cell_type": "markdown",
      "metadata": {
        "id": "YgsCuCPqGI2j",
        "colab_type": "text"
      },
      "source": [
        "XGBoost is showing the best performance of all the non neural network models. WE can give NN a try just to see if the performance in any way is way more significant that XGBoost"
      ]
    },
    {
      "cell_type": "code",
      "metadata": {
        "id": "EBpsYsdzG42i",
        "colab_type": "code",
        "colab": {
          "base_uri": "https://localhost:8080/",
          "height": 504
        },
        "outputId": "63deb2f6-f981-4327-c01a-470eb5d64bfe"
      },
      "source": [
        "!pip install keras-tuner"
      ],
      "execution_count": 109,
      "outputs": [
        {
          "output_type": "stream",
          "text": [
            "Collecting keras-tuner\n",
            "\u001b[?25l  Downloading https://files.pythonhosted.org/packages/a7/f7/4b41b6832abf4c9bef71a664dc563adb25afc5812831667c6db572b1a261/keras-tuner-1.0.1.tar.gz (54kB)\n",
            "\r\u001b[K     |██████                          | 10kB 17.4MB/s eta 0:00:01\r\u001b[K     |████████████                    | 20kB 2.2MB/s eta 0:00:01\r\u001b[K     |██████████████████              | 30kB 3.2MB/s eta 0:00:01\r\u001b[K     |████████████████████████        | 40kB 2.1MB/s eta 0:00:01\r\u001b[K     |██████████████████████████████  | 51kB 2.6MB/s eta 0:00:01\r\u001b[K     |████████████████████████████████| 61kB 2.4MB/s \n",
            "\u001b[?25hRequirement already satisfied: future in /usr/local/lib/python3.6/dist-packages (from keras-tuner) (0.16.0)\n",
            "Requirement already satisfied: numpy in /usr/local/lib/python3.6/dist-packages (from keras-tuner) (1.18.2)\n",
            "Requirement already satisfied: tabulate in /usr/local/lib/python3.6/dist-packages (from keras-tuner) (0.8.7)\n",
            "Collecting terminaltables\n",
            "  Downloading https://files.pythonhosted.org/packages/9b/c4/4a21174f32f8a7e1104798c445dacdc1d4df86f2f26722767034e4de4bff/terminaltables-3.1.0.tar.gz\n",
            "Collecting colorama\n",
            "  Downloading https://files.pythonhosted.org/packages/c9/dc/45cdef1b4d119eb96316b3117e6d5708a08029992b2fee2c143c7a0a5cc5/colorama-0.4.3-py2.py3-none-any.whl\n",
            "Requirement already satisfied: tqdm in /usr/local/lib/python3.6/dist-packages (from keras-tuner) (4.38.0)\n",
            "Requirement already satisfied: requests in /usr/local/lib/python3.6/dist-packages (from keras-tuner) (2.21.0)\n",
            "Requirement already satisfied: scipy in /usr/local/lib/python3.6/dist-packages (from keras-tuner) (1.4.1)\n",
            "Requirement already satisfied: scikit-learn in /usr/local/lib/python3.6/dist-packages (from keras-tuner) (0.22.2.post1)\n",
            "Requirement already satisfied: chardet<3.1.0,>=3.0.2 in /usr/local/lib/python3.6/dist-packages (from requests->keras-tuner) (3.0.4)\n",
            "Requirement already satisfied: urllib3<1.25,>=1.21.1 in /usr/local/lib/python3.6/dist-packages (from requests->keras-tuner) (1.24.3)\n",
            "Requirement already satisfied: certifi>=2017.4.17 in /usr/local/lib/python3.6/dist-packages (from requests->keras-tuner) (2019.11.28)\n",
            "Requirement already satisfied: idna<2.9,>=2.5 in /usr/local/lib/python3.6/dist-packages (from requests->keras-tuner) (2.8)\n",
            "Requirement already satisfied: joblib>=0.11 in /usr/local/lib/python3.6/dist-packages (from scikit-learn->keras-tuner) (0.14.1)\n",
            "Building wheels for collected packages: keras-tuner, terminaltables\n",
            "  Building wheel for keras-tuner (setup.py) ... \u001b[?25l\u001b[?25hdone\n",
            "  Created wheel for keras-tuner: filename=keras_tuner-1.0.1-cp36-none-any.whl size=73200 sha256=959301206330e706faf841dcba4e6f981ffab1d0ba5f609a9f85869c2263bb9b\n",
            "  Stored in directory: /root/.cache/pip/wheels/b9/cc/62/52716b70dd90f3db12519233c3a93a5360bc672da1a10ded43\n",
            "  Building wheel for terminaltables (setup.py) ... \u001b[?25l\u001b[?25hdone\n",
            "  Created wheel for terminaltables: filename=terminaltables-3.1.0-cp36-none-any.whl size=15356 sha256=3a0065bb5b30c9f80ff4e042adf907f19ea323ed7d8635b3bc6a470ad2d64f23\n",
            "  Stored in directory: /root/.cache/pip/wheels/30/6b/50/6c75775b681fb36cdfac7f19799888ef9d8813aff9e379663e\n",
            "Successfully built keras-tuner terminaltables\n",
            "Installing collected packages: terminaltables, colorama, keras-tuner\n",
            "Successfully installed colorama-0.4.3 keras-tuner-1.0.1 terminaltables-3.1.0\n"
          ],
          "name": "stdout"
        }
      ]
    },
    {
      "cell_type": "code",
      "metadata": {
        "id": "KuSvOBxFMbdH",
        "colab_type": "code",
        "colab": {
          "base_uri": "https://localhost:8080/",
          "height": 34
        },
        "outputId": "01cc70ef-d043-4dce-8462-6b5e86b05979"
      },
      "source": [
        "from tensorflow import keras\n",
        "from tensorflow.keras import layers\n",
        "from kerastuner.tuners import RandomSearch\n",
        "from tensorflow.keras.callbacks import EarlyStopping\n",
        "\n",
        "\n",
        "def build_model(hp):\n",
        "    model = keras.Sequential()\n",
        "    for i in range(hp.Int('num_layers', 2, 20)):\n",
        "        model.add(layers.Dense(units=hp.Int('units_' + str(i),\n",
        "                                            min_value=32,\n",
        "                                            max_value=512,\n",
        "                                            step=32),\n",
        "                               activation='elu'))\n",
        "    model.add(layers.Dense(2, activation='sigmoid'))\n",
        "    model.compile(\n",
        "        optimizer=keras.optimizers.Adam(\n",
        "            hp.Choice('learning_rate', [1e-2, 1e-3, 1e-4])),\n",
        "        loss='sparse_categorical_crossentropy',\n",
        "        metrics=['accuracy'])\n",
        "    return model"
      ],
      "execution_count": 110,
      "outputs": [
        {
          "output_type": "stream",
          "text": [
            "Using TensorFlow backend.\n"
          ],
          "name": "stderr"
        }
      ]
    },
    {
      "cell_type": "code",
      "metadata": {
        "id": "CYp2uS3vHckh",
        "colab_type": "code",
        "colab": {}
      },
      "source": [
        "tuner = RandomSearch(\n",
        "    build_model,\n",
        "    objective='val_accuracy',\n",
        "    max_trials=5,\n",
        "    executions_per_trial=3,\n",
        "    directory='/content/drive/My Drive',\n",
        "    project_name='rest_tuner')"
      ],
      "execution_count": 0,
      "outputs": []
    },
    {
      "cell_type": "code",
      "metadata": {
        "id": "urz1xlM5G1Df",
        "colab_type": "code",
        "colab": {
          "base_uri": "https://localhost:8080/",
          "height": 1000
        },
        "outputId": "aed899cb-57d5-41b6-a013-3423a6e4b01d"
      },
      "source": [
        "x, val_x, y, val_y = train_test_split(X_train,Y_train, test_size=0.2, random_state=42)\n",
        "\n",
        "tuner.search(x, y.values,\n",
        "             epochs=5,\n",
        "             validation_data=(val_x, val_y.values))\n",
        "\n",
        "models = tuner.get_best_models(num_models=1)"
      ],
      "execution_count": 113,
      "outputs": [
        {
          "output_type": "stream",
          "text": [
            "Epoch 1/5\n",
            "WARNING:tensorflow:Layer dense is casting an input tensor from dtype float64 to the layer's dtype of float32, which is new behavior in TensorFlow 2.  The layer has dtype float32 because it's dtype defaults to floatx.\n",
            "\n",
            "If you intended to run this layer in float32, you can safely ignore this warning. If in doubt, this warning is likely only an issue if you are porting a TensorFlow 1.X model to TensorFlow 2.\n",
            "\n",
            "To change all layers to have dtype float64 by default, call `tf.keras.backend.set_floatx('float64')`. To change just this layer, pass dtype='float64' to the layer constructor. If you are the author of this layer, you can disable autocasting by passing autocast=False to the base Layer constructor.\n",
            "\n",
            "1336/1336 [==============================] - 4s 3ms/step - loss: 0.6006 - accuracy: 0.7092 - val_loss: 0.5941 - val_accuracy: 0.7111\n",
            "Epoch 2/5\n",
            "1336/1336 [==============================] - 4s 3ms/step - loss: 0.5901 - accuracy: 0.7128 - val_loss: 0.5886 - val_accuracy: 0.7085\n",
            "Epoch 3/5\n",
            "1336/1336 [==============================] - 4s 3ms/step - loss: 0.5759 - accuracy: 0.7141 - val_loss: 0.5912 - val_accuracy: 0.7093\n",
            "Epoch 4/5\n",
            "1336/1336 [==============================] - 4s 3ms/step - loss: 0.5766 - accuracy: 0.7149 - val_loss: 0.5731 - val_accuracy: 0.7112\n",
            "Epoch 5/5\n",
            "1336/1336 [==============================] - 4s 3ms/step - loss: 0.5656 - accuracy: 0.7201 - val_loss: 0.5676 - val_accuracy: 0.7153\n",
            "Epoch 1/5\n",
            "WARNING:tensorflow:Layer dense is casting an input tensor from dtype float64 to the layer's dtype of float32, which is new behavior in TensorFlow 2.  The layer has dtype float32 because it's dtype defaults to floatx.\n",
            "\n",
            "If you intended to run this layer in float32, you can safely ignore this warning. If in doubt, this warning is likely only an issue if you are porting a TensorFlow 1.X model to TensorFlow 2.\n",
            "\n",
            "To change all layers to have dtype float64 by default, call `tf.keras.backend.set_floatx('float64')`. To change just this layer, pass dtype='float64' to the layer constructor. If you are the author of this layer, you can disable autocasting by passing autocast=False to the base Layer constructor.\n",
            "\n",
            "1336/1336 [==============================] - 4s 3ms/step - loss: 0.5998 - accuracy: 0.7123 - val_loss: 0.5844 - val_accuracy: 0.7096\n",
            "Epoch 2/5\n",
            "1336/1336 [==============================] - 4s 3ms/step - loss: 0.5868 - accuracy: 0.7148 - val_loss: 0.6018 - val_accuracy: 0.7101\n",
            "Epoch 3/5\n",
            "1336/1336 [==============================] - 4s 3ms/step - loss: 0.5726 - accuracy: 0.7138 - val_loss: 0.5793 - val_accuracy: 0.7141\n",
            "Epoch 4/5\n",
            "1336/1336 [==============================] - 4s 3ms/step - loss: 0.5620 - accuracy: 0.7227 - val_loss: 0.5624 - val_accuracy: 0.7199\n",
            "Epoch 5/5\n",
            "1336/1336 [==============================] - 4s 3ms/step - loss: 0.5580 - accuracy: 0.7194 - val_loss: 0.5506 - val_accuracy: 0.7215\n",
            "Epoch 1/5\n",
            "WARNING:tensorflow:Layer dense is casting an input tensor from dtype float64 to the layer's dtype of float32, which is new behavior in TensorFlow 2.  The layer has dtype float32 because it's dtype defaults to floatx.\n",
            "\n",
            "If you intended to run this layer in float32, you can safely ignore this warning. If in doubt, this warning is likely only an issue if you are porting a TensorFlow 1.X model to TensorFlow 2.\n",
            "\n",
            "To change all layers to have dtype float64 by default, call `tf.keras.backend.set_floatx('float64')`. To change just this layer, pass dtype='float64' to the layer constructor. If you are the author of this layer, you can disable autocasting by passing autocast=False to the base Layer constructor.\n",
            "\n",
            "1336/1336 [==============================] - 4s 3ms/step - loss: 0.6227 - accuracy: 0.7117 - val_loss: 0.5952 - val_accuracy: 0.7096\n",
            "Epoch 2/5\n",
            "1336/1336 [==============================] - 4s 3ms/step - loss: 0.5986 - accuracy: 0.7112 - val_loss: 0.5937 - val_accuracy: 0.7110\n",
            "Epoch 3/5\n",
            "1336/1336 [==============================] - 4s 3ms/step - loss: 0.5863 - accuracy: 0.7113 - val_loss: 0.5872 - val_accuracy: 0.7102\n",
            "Epoch 4/5\n",
            "1336/1336 [==============================] - 4s 3ms/step - loss: 0.5727 - accuracy: 0.7147 - val_loss: 0.5772 - val_accuracy: 0.7140\n",
            "Epoch 5/5\n",
            "1336/1336 [==============================] - 4s 3ms/step - loss: 0.5698 - accuracy: 0.7186 - val_loss: 0.5693 - val_accuracy: 0.7154\n"
          ],
          "name": "stdout"
        },
        {
          "output_type": "display_data",
          "data": {
            "text/html": [
              "<span style=\"color:#4527A0\"><h1 style=\"font-size:18px\">Trial complete</h1></span>"
            ],
            "text/plain": [
              "<IPython.core.display.HTML object>"
            ]
          },
          "metadata": {
            "tags": []
          }
        },
        {
          "output_type": "display_data",
          "data": {
            "text/html": [
              "<span style=\"color:#4527A0\"><h1 style=\"font-size:18px\">Trial summary</h1></span>"
            ],
            "text/plain": [
              "<IPython.core.display.HTML object>"
            ]
          },
          "metadata": {
            "tags": []
          }
        },
        {
          "output_type": "display_data",
          "data": {
            "text/html": [
              "<span style=\"color:cyan\"> |-Trial ID: d69e41522f1ec43cf0e111c84e58d152</span>"
            ],
            "text/plain": [
              "<IPython.core.display.HTML object>"
            ]
          },
          "metadata": {
            "tags": []
          }
        },
        {
          "output_type": "display_data",
          "data": {
            "text/html": [
              "<span style=\"color:cyan\"> |-Score: 0.7173824906349182</span>"
            ],
            "text/plain": [
              "<IPython.core.display.HTML object>"
            ]
          },
          "metadata": {
            "tags": []
          }
        },
        {
          "output_type": "display_data",
          "data": {
            "text/html": [
              "<span style=\"color:cyan\"> |-Best step: 0</span>"
            ],
            "text/plain": [
              "<IPython.core.display.HTML object>"
            ]
          },
          "metadata": {
            "tags": []
          }
        },
        {
          "output_type": "display_data",
          "data": {
            "text/html": [
              "<span style=\"color:#7E57C2\"><h2 style=\"font-size:16px\">Hyperparameters:</h2></span>"
            ],
            "text/plain": [
              "<IPython.core.display.HTML object>"
            ]
          },
          "metadata": {
            "tags": []
          }
        },
        {
          "output_type": "display_data",
          "data": {
            "text/html": [
              "<span style=\"color:cyan\"> |-learning_rate: 0.0001</span>"
            ],
            "text/plain": [
              "<IPython.core.display.HTML object>"
            ]
          },
          "metadata": {
            "tags": []
          }
        },
        {
          "output_type": "display_data",
          "data": {
            "text/html": [
              "<span style=\"color:blue\"> |-num_layers: 12</span>"
            ],
            "text/plain": [
              "<IPython.core.display.HTML object>"
            ]
          },
          "metadata": {
            "tags": []
          }
        },
        {
          "output_type": "display_data",
          "data": {
            "text/html": [
              "<span style=\"color:cyan\"> |-units_0: 224</span>"
            ],
            "text/plain": [
              "<IPython.core.display.HTML object>"
            ]
          },
          "metadata": {
            "tags": []
          }
        },
        {
          "output_type": "display_data",
          "data": {
            "text/html": [
              "<span style=\"color:blue\"> |-units_1: 224</span>"
            ],
            "text/plain": [
              "<IPython.core.display.HTML object>"
            ]
          },
          "metadata": {
            "tags": []
          }
        },
        {
          "output_type": "display_data",
          "data": {
            "text/html": [
              "<span style=\"color:cyan\"> |-units_10: 32</span>"
            ],
            "text/plain": [
              "<IPython.core.display.HTML object>"
            ]
          },
          "metadata": {
            "tags": []
          }
        },
        {
          "output_type": "display_data",
          "data": {
            "text/html": [
              "<span style=\"color:blue\"> |-units_11: 32</span>"
            ],
            "text/plain": [
              "<IPython.core.display.HTML object>"
            ]
          },
          "metadata": {
            "tags": []
          }
        },
        {
          "output_type": "display_data",
          "data": {
            "text/html": [
              "<span style=\"color:cyan\"> |-units_2: 32</span>"
            ],
            "text/plain": [
              "<IPython.core.display.HTML object>"
            ]
          },
          "metadata": {
            "tags": []
          }
        },
        {
          "output_type": "display_data",
          "data": {
            "text/html": [
              "<span style=\"color:blue\"> |-units_3: 32</span>"
            ],
            "text/plain": [
              "<IPython.core.display.HTML object>"
            ]
          },
          "metadata": {
            "tags": []
          }
        },
        {
          "output_type": "display_data",
          "data": {
            "text/html": [
              "<span style=\"color:cyan\"> |-units_4: 32</span>"
            ],
            "text/plain": [
              "<IPython.core.display.HTML object>"
            ]
          },
          "metadata": {
            "tags": []
          }
        },
        {
          "output_type": "display_data",
          "data": {
            "text/html": [
              "<span style=\"color:blue\"> |-units_5: 32</span>"
            ],
            "text/plain": [
              "<IPython.core.display.HTML object>"
            ]
          },
          "metadata": {
            "tags": []
          }
        },
        {
          "output_type": "display_data",
          "data": {
            "text/html": [
              "<span style=\"color:cyan\"> |-units_6: 32</span>"
            ],
            "text/plain": [
              "<IPython.core.display.HTML object>"
            ]
          },
          "metadata": {
            "tags": []
          }
        },
        {
          "output_type": "display_data",
          "data": {
            "text/html": [
              "<span style=\"color:blue\"> |-units_7: 32</span>"
            ],
            "text/plain": [
              "<IPython.core.display.HTML object>"
            ]
          },
          "metadata": {
            "tags": []
          }
        },
        {
          "output_type": "display_data",
          "data": {
            "text/html": [
              "<span style=\"color:cyan\"> |-units_8: 32</span>"
            ],
            "text/plain": [
              "<IPython.core.display.HTML object>"
            ]
          },
          "metadata": {
            "tags": []
          }
        },
        {
          "output_type": "display_data",
          "data": {
            "text/html": [
              "<span style=\"color:blue\"> |-units_9: 32</span>"
            ],
            "text/plain": [
              "<IPython.core.display.HTML object>"
            ]
          },
          "metadata": {
            "tags": []
          }
        },
        {
          "output_type": "stream",
          "text": [
            "Epoch 1/5\n",
            "WARNING:tensorflow:Layer dense is casting an input tensor from dtype float64 to the layer's dtype of float32, which is new behavior in TensorFlow 2.  The layer has dtype float32 because it's dtype defaults to floatx.\n",
            "\n",
            "If you intended to run this layer in float32, you can safely ignore this warning. If in doubt, this warning is likely only an issue if you are porting a TensorFlow 1.X model to TensorFlow 2.\n",
            "\n",
            "To change all layers to have dtype float64 by default, call `tf.keras.backend.set_floatx('float64')`. To change just this layer, pass dtype='float64' to the layer constructor. If you are the author of this layer, you can disable autocasting by passing autocast=False to the base Layer constructor.\n",
            "\n",
            "1336/1336 [==============================] - 9s 6ms/step - loss: 0.6979 - accuracy: 0.7110 - val_loss: 0.6931 - val_accuracy: 0.7089\n",
            "Epoch 2/5\n",
            "1336/1336 [==============================] - 8s 6ms/step - loss: 0.6932 - accuracy: 0.7117 - val_loss: 0.6931 - val_accuracy: 0.7089\n",
            "Epoch 3/5\n",
            "1336/1336 [==============================] - 8s 6ms/step - loss: 0.6932 - accuracy: 0.7117 - val_loss: 0.6931 - val_accuracy: 0.7089\n",
            "Epoch 4/5\n",
            "1336/1336 [==============================] - 8s 6ms/step - loss: 0.6932 - accuracy: 0.7117 - val_loss: 0.6931 - val_accuracy: 0.7089\n",
            "Epoch 5/5\n",
            "1336/1336 [==============================] - 8s 6ms/step - loss: 0.6932 - accuracy: 0.7117 - val_loss: 0.6931 - val_accuracy: 0.7089\n",
            "Epoch 1/5\n",
            "WARNING:tensorflow:Layer dense is casting an input tensor from dtype float64 to the layer's dtype of float32, which is new behavior in TensorFlow 2.  The layer has dtype float32 because it's dtype defaults to floatx.\n",
            "\n",
            "If you intended to run this layer in float32, you can safely ignore this warning. If in doubt, this warning is likely only an issue if you are porting a TensorFlow 1.X model to TensorFlow 2.\n",
            "\n",
            "To change all layers to have dtype float64 by default, call `tf.keras.backend.set_floatx('float64')`. To change just this layer, pass dtype='float64' to the layer constructor. If you are the author of this layer, you can disable autocasting by passing autocast=False to the base Layer constructor.\n",
            "\n",
            "1336/1336 [==============================] - 8s 6ms/step - loss: 0.6934 - accuracy: 0.7092 - val_loss: 0.6931 - val_accuracy: 0.7067\n",
            "Epoch 2/5\n",
            "1336/1336 [==============================] - 8s 6ms/step - loss: 0.6932 - accuracy: 0.7096 - val_loss: 0.6931 - val_accuracy: 0.7071\n",
            "Epoch 3/5\n",
            "1336/1336 [==============================] - 8s 6ms/step - loss: 0.6932 - accuracy: 0.7100 - val_loss: 0.6931 - val_accuracy: 0.7071\n",
            "Epoch 4/5\n",
            "1336/1336 [==============================] - 9s 7ms/step - loss: 0.6932 - accuracy: 0.7105 - val_loss: 0.6931 - val_accuracy: 0.7075\n",
            "Epoch 5/5\n",
            "1336/1336 [==============================] - 9s 6ms/step - loss: 0.6932 - accuracy: 0.7105 - val_loss: 0.6931 - val_accuracy: 0.7078\n",
            "Epoch 1/5\n",
            "WARNING:tensorflow:Layer dense is casting an input tensor from dtype float64 to the layer's dtype of float32, which is new behavior in TensorFlow 2.  The layer has dtype float32 because it's dtype defaults to floatx.\n",
            "\n",
            "If you intended to run this layer in float32, you can safely ignore this warning. If in doubt, this warning is likely only an issue if you are porting a TensorFlow 1.X model to TensorFlow 2.\n",
            "\n",
            "To change all layers to have dtype float64 by default, call `tf.keras.backend.set_floatx('float64')`. To change just this layer, pass dtype='float64' to the layer constructor. If you are the author of this layer, you can disable autocasting by passing autocast=False to the base Layer constructor.\n",
            "\n",
            "1336/1336 [==============================] - 9s 7ms/step - loss: 0.6959 - accuracy: 0.7118 - val_loss: 0.6931 - val_accuracy: 0.7096\n",
            "Epoch 2/5\n",
            "1336/1336 [==============================] - 9s 6ms/step - loss: 0.6938 - accuracy: 0.7119 - val_loss: 0.6931 - val_accuracy: 0.7096\n",
            "Epoch 3/5\n",
            "1336/1336 [==============================] - 9s 6ms/step - loss: 0.6932 - accuracy: 0.7120 - val_loss: 0.6931 - val_accuracy: 0.7096\n",
            "Epoch 4/5\n",
            "1336/1336 [==============================] - 9s 6ms/step - loss: 0.6932 - accuracy: 0.7120 - val_loss: 0.6931 - val_accuracy: 0.7096\n",
            "Epoch 5/5\n",
            "1336/1336 [==============================] - 8s 6ms/step - loss: 0.6932 - accuracy: 0.7120 - val_loss: 0.6931 - val_accuracy: 0.7096\n"
          ],
          "name": "stdout"
        },
        {
          "output_type": "display_data",
          "data": {
            "text/html": [
              "<span style=\"color:#4527A0\"><h1 style=\"font-size:18px\">Trial complete</h1></span>"
            ],
            "text/plain": [
              "<IPython.core.display.HTML object>"
            ]
          },
          "metadata": {
            "tags": []
          }
        },
        {
          "output_type": "display_data",
          "data": {
            "text/html": [
              "<span style=\"color:#4527A0\"><h1 style=\"font-size:18px\">Trial summary</h1></span>"
            ],
            "text/plain": [
              "<IPython.core.display.HTML object>"
            ]
          },
          "metadata": {
            "tags": []
          }
        },
        {
          "output_type": "display_data",
          "data": {
            "text/html": [
              "<span style=\"color:cyan\"> |-Trial ID: 1d02469ca92725176316994442e5f347</span>"
            ],
            "text/plain": [
              "<IPython.core.display.HTML object>"
            ]
          },
          "metadata": {
            "tags": []
          }
        },
        {
          "output_type": "display_data",
          "data": {
            "text/html": [
              "<span style=\"color:cyan\"> |-Score: 0.7087739109992981</span>"
            ],
            "text/plain": [
              "<IPython.core.display.HTML object>"
            ]
          },
          "metadata": {
            "tags": []
          }
        },
        {
          "output_type": "display_data",
          "data": {
            "text/html": [
              "<span style=\"color:cyan\"> |-Best step: 0</span>"
            ],
            "text/plain": [
              "<IPython.core.display.HTML object>"
            ]
          },
          "metadata": {
            "tags": []
          }
        },
        {
          "output_type": "display_data",
          "data": {
            "text/html": [
              "<span style=\"color:#7E57C2\"><h2 style=\"font-size:16px\">Hyperparameters:</h2></span>"
            ],
            "text/plain": [
              "<IPython.core.display.HTML object>"
            ]
          },
          "metadata": {
            "tags": []
          }
        },
        {
          "output_type": "display_data",
          "data": {
            "text/html": [
              "<span style=\"color:cyan\"> |-learning_rate: 0.001</span>"
            ],
            "text/plain": [
              "<IPython.core.display.HTML object>"
            ]
          },
          "metadata": {
            "tags": []
          }
        },
        {
          "output_type": "display_data",
          "data": {
            "text/html": [
              "<span style=\"color:blue\"> |-num_layers: 9</span>"
            ],
            "text/plain": [
              "<IPython.core.display.HTML object>"
            ]
          },
          "metadata": {
            "tags": []
          }
        },
        {
          "output_type": "display_data",
          "data": {
            "text/html": [
              "<span style=\"color:cyan\"> |-units_0: 256</span>"
            ],
            "text/plain": [
              "<IPython.core.display.HTML object>"
            ]
          },
          "metadata": {
            "tags": []
          }
        },
        {
          "output_type": "display_data",
          "data": {
            "text/html": [
              "<span style=\"color:blue\"> |-units_1: 384</span>"
            ],
            "text/plain": [
              "<IPython.core.display.HTML object>"
            ]
          },
          "metadata": {
            "tags": []
          }
        },
        {
          "output_type": "display_data",
          "data": {
            "text/html": [
              "<span style=\"color:cyan\"> |-units_10: 320</span>"
            ],
            "text/plain": [
              "<IPython.core.display.HTML object>"
            ]
          },
          "metadata": {
            "tags": []
          }
        },
        {
          "output_type": "display_data",
          "data": {
            "text/html": [
              "<span style=\"color:blue\"> |-units_11: 320</span>"
            ],
            "text/plain": [
              "<IPython.core.display.HTML object>"
            ]
          },
          "metadata": {
            "tags": []
          }
        },
        {
          "output_type": "display_data",
          "data": {
            "text/html": [
              "<span style=\"color:cyan\"> |-units_2: 64</span>"
            ],
            "text/plain": [
              "<IPython.core.display.HTML object>"
            ]
          },
          "metadata": {
            "tags": []
          }
        },
        {
          "output_type": "display_data",
          "data": {
            "text/html": [
              "<span style=\"color:blue\"> |-units_3: 96</span>"
            ],
            "text/plain": [
              "<IPython.core.display.HTML object>"
            ]
          },
          "metadata": {
            "tags": []
          }
        },
        {
          "output_type": "display_data",
          "data": {
            "text/html": [
              "<span style=\"color:cyan\"> |-units_4: 480</span>"
            ],
            "text/plain": [
              "<IPython.core.display.HTML object>"
            ]
          },
          "metadata": {
            "tags": []
          }
        },
        {
          "output_type": "display_data",
          "data": {
            "text/html": [
              "<span style=\"color:blue\"> |-units_5: 160</span>"
            ],
            "text/plain": [
              "<IPython.core.display.HTML object>"
            ]
          },
          "metadata": {
            "tags": []
          }
        },
        {
          "output_type": "display_data",
          "data": {
            "text/html": [
              "<span style=\"color:cyan\"> |-units_6: 352</span>"
            ],
            "text/plain": [
              "<IPython.core.display.HTML object>"
            ]
          },
          "metadata": {
            "tags": []
          }
        },
        {
          "output_type": "display_data",
          "data": {
            "text/html": [
              "<span style=\"color:blue\"> |-units_7: 320</span>"
            ],
            "text/plain": [
              "<IPython.core.display.HTML object>"
            ]
          },
          "metadata": {
            "tags": []
          }
        },
        {
          "output_type": "display_data",
          "data": {
            "text/html": [
              "<span style=\"color:cyan\"> |-units_8: 192</span>"
            ],
            "text/plain": [
              "<IPython.core.display.HTML object>"
            ]
          },
          "metadata": {
            "tags": []
          }
        },
        {
          "output_type": "display_data",
          "data": {
            "text/html": [
              "<span style=\"color:blue\"> |-units_9: 64</span>"
            ],
            "text/plain": [
              "<IPython.core.display.HTML object>"
            ]
          },
          "metadata": {
            "tags": []
          }
        },
        {
          "output_type": "stream",
          "text": [
            "Epoch 1/5\n",
            "WARNING:tensorflow:Layer dense is casting an input tensor from dtype float64 to the layer's dtype of float32, which is new behavior in TensorFlow 2.  The layer has dtype float32 because it's dtype defaults to floatx.\n",
            "\n",
            "If you intended to run this layer in float32, you can safely ignore this warning. If in doubt, this warning is likely only an issue if you are porting a TensorFlow 1.X model to TensorFlow 2.\n",
            "\n",
            "To change all layers to have dtype float64 by default, call `tf.keras.backend.set_floatx('float64')`. To change just this layer, pass dtype='float64' to the layer constructor. If you are the author of this layer, you can disable autocasting by passing autocast=False to the base Layer constructor.\n",
            "\n",
            "1336/1336 [==============================] - 15s 11ms/step - loss: 0.6932 - accuracy: 0.7119 - val_loss: 0.6931 - val_accuracy: 0.7096\n",
            "Epoch 2/5\n",
            "1336/1336 [==============================] - 15s 11ms/step - loss: 0.6932 - accuracy: 0.7120 - val_loss: 0.6931 - val_accuracy: 0.7096\n",
            "Epoch 3/5\n",
            "1336/1336 [==============================] - 16s 12ms/step - loss: 0.6932 - accuracy: 0.7120 - val_loss: 0.6931 - val_accuracy: 0.7096\n",
            "Epoch 4/5\n",
            "1336/1336 [==============================] - 15s 11ms/step - loss: 0.6932 - accuracy: 0.7120 - val_loss: 0.6931 - val_accuracy: 0.7096\n",
            "Epoch 5/5\n",
            "1336/1336 [==============================] - 15s 11ms/step - loss: 0.6932 - accuracy: 0.7120 - val_loss: 0.6931 - val_accuracy: 0.7096\n",
            "Epoch 1/5\n",
            "WARNING:tensorflow:Layer dense is casting an input tensor from dtype float64 to the layer's dtype of float32, which is new behavior in TensorFlow 2.  The layer has dtype float32 because it's dtype defaults to floatx.\n",
            "\n",
            "If you intended to run this layer in float32, you can safely ignore this warning. If in doubt, this warning is likely only an issue if you are porting a TensorFlow 1.X model to TensorFlow 2.\n",
            "\n",
            "To change all layers to have dtype float64 by default, call `tf.keras.backend.set_floatx('float64')`. To change just this layer, pass dtype='float64' to the layer constructor. If you are the author of this layer, you can disable autocasting by passing autocast=False to the base Layer constructor.\n",
            "\n",
            "1336/1336 [==============================] - 15s 11ms/step - loss: 4.6384 - accuracy: 0.7119 - val_loss: 4.6800 - val_accuracy: 0.7096\n",
            "Epoch 2/5\n",
            "1336/1336 [==============================] - 15s 11ms/step - loss: 4.6426 - accuracy: 0.7120 - val_loss: 4.6800 - val_accuracy: 0.7096\n",
            "Epoch 3/5\n",
            "1336/1336 [==============================] - 15s 11ms/step - loss: 4.6422 - accuracy: 0.7120 - val_loss: 4.6800 - val_accuracy: 0.7096\n",
            "Epoch 4/5\n",
            "1336/1336 [==============================] - 16s 12ms/step - loss: 4.6424 - accuracy: 0.7120 - val_loss: 4.6800 - val_accuracy: 0.7096\n",
            "Epoch 5/5\n",
            "1336/1336 [==============================] - 15s 11ms/step - loss: 4.6426 - accuracy: 0.7120 - val_loss: 4.6800 - val_accuracy: 0.7096\n",
            "Epoch 1/5\n",
            "WARNING:tensorflow:Layer dense is casting an input tensor from dtype float64 to the layer's dtype of float32, which is new behavior in TensorFlow 2.  The layer has dtype float32 because it's dtype defaults to floatx.\n",
            "\n",
            "If you intended to run this layer in float32, you can safely ignore this warning. If in doubt, this warning is likely only an issue if you are porting a TensorFlow 1.X model to TensorFlow 2.\n",
            "\n",
            "To change all layers to have dtype float64 by default, call `tf.keras.backend.set_floatx('float64')`. To change just this layer, pass dtype='float64' to the layer constructor. If you are the author of this layer, you can disable autocasting by passing autocast=False to the base Layer constructor.\n",
            "\n",
            "1336/1336 [==============================] - 16s 12ms/step - loss: 0.6961 - accuracy: 0.7119 - val_loss: 0.6931 - val_accuracy: 0.7096\n",
            "Epoch 2/5\n",
            "1336/1336 [==============================] - 15s 11ms/step - loss: 0.6932 - accuracy: 0.7120 - val_loss: 0.6931 - val_accuracy: 0.7096\n",
            "Epoch 3/5\n",
            "1336/1336 [==============================] - 15s 11ms/step - loss: 0.6932 - accuracy: 0.7120 - val_loss: 0.6931 - val_accuracy: 0.7096\n",
            "Epoch 4/5\n",
            "1336/1336 [==============================] - 15s 11ms/step - loss: 0.6932 - accuracy: 0.7120 - val_loss: 0.6931 - val_accuracy: 0.7096\n",
            "Epoch 5/5\n",
            "1336/1336 [==============================] - 15s 11ms/step - loss: 0.6932 - accuracy: 0.7120 - val_loss: 0.6931 - val_accuracy: 0.7096\n"
          ],
          "name": "stdout"
        },
        {
          "output_type": "display_data",
          "data": {
            "text/html": [
              "<span style=\"color:#4527A0\"><h1 style=\"font-size:18px\">Trial complete</h1></span>"
            ],
            "text/plain": [
              "<IPython.core.display.HTML object>"
            ]
          },
          "metadata": {
            "tags": []
          }
        },
        {
          "output_type": "display_data",
          "data": {
            "text/html": [
              "<span style=\"color:#4527A0\"><h1 style=\"font-size:18px\">Trial summary</h1></span>"
            ],
            "text/plain": [
              "<IPython.core.display.HTML object>"
            ]
          },
          "metadata": {
            "tags": []
          }
        },
        {
          "output_type": "display_data",
          "data": {
            "text/html": [
              "<span style=\"color:cyan\"> |-Trial ID: 3ba678ed02a5cfc838ea58558ef63957</span>"
            ],
            "text/plain": [
              "<IPython.core.display.HTML object>"
            ]
          },
          "metadata": {
            "tags": []
          }
        },
        {
          "output_type": "display_data",
          "data": {
            "text/html": [
              "<span style=\"color:cyan\"> |-Score: 0.7096472382545471</span>"
            ],
            "text/plain": [
              "<IPython.core.display.HTML object>"
            ]
          },
          "metadata": {
            "tags": []
          }
        },
        {
          "output_type": "display_data",
          "data": {
            "text/html": [
              "<span style=\"color:cyan\"> |-Best step: 0</span>"
            ],
            "text/plain": [
              "<IPython.core.display.HTML object>"
            ]
          },
          "metadata": {
            "tags": []
          }
        },
        {
          "output_type": "display_data",
          "data": {
            "text/html": [
              "<span style=\"color:#7E57C2\"><h2 style=\"font-size:16px\">Hyperparameters:</h2></span>"
            ],
            "text/plain": [
              "<IPython.core.display.HTML object>"
            ]
          },
          "metadata": {
            "tags": []
          }
        },
        {
          "output_type": "display_data",
          "data": {
            "text/html": [
              "<span style=\"color:cyan\"> |-learning_rate: 0.01</span>"
            ],
            "text/plain": [
              "<IPython.core.display.HTML object>"
            ]
          },
          "metadata": {
            "tags": []
          }
        },
        {
          "output_type": "display_data",
          "data": {
            "text/html": [
              "<span style=\"color:blue\"> |-num_layers: 19</span>"
            ],
            "text/plain": [
              "<IPython.core.display.HTML object>"
            ]
          },
          "metadata": {
            "tags": []
          }
        },
        {
          "output_type": "display_data",
          "data": {
            "text/html": [
              "<span style=\"color:cyan\"> |-units_0: 256</span>"
            ],
            "text/plain": [
              "<IPython.core.display.HTML object>"
            ]
          },
          "metadata": {
            "tags": []
          }
        },
        {
          "output_type": "display_data",
          "data": {
            "text/html": [
              "<span style=\"color:blue\"> |-units_1: 416</span>"
            ],
            "text/plain": [
              "<IPython.core.display.HTML object>"
            ]
          },
          "metadata": {
            "tags": []
          }
        },
        {
          "output_type": "display_data",
          "data": {
            "text/html": [
              "<span style=\"color:cyan\"> |-units_10: 384</span>"
            ],
            "text/plain": [
              "<IPython.core.display.HTML object>"
            ]
          },
          "metadata": {
            "tags": []
          }
        },
        {
          "output_type": "display_data",
          "data": {
            "text/html": [
              "<span style=\"color:blue\"> |-units_11: 96</span>"
            ],
            "text/plain": [
              "<IPython.core.display.HTML object>"
            ]
          },
          "metadata": {
            "tags": []
          }
        },
        {
          "output_type": "display_data",
          "data": {
            "text/html": [
              "<span style=\"color:cyan\"> |-units_12: 32</span>"
            ],
            "text/plain": [
              "<IPython.core.display.HTML object>"
            ]
          },
          "metadata": {
            "tags": []
          }
        },
        {
          "output_type": "display_data",
          "data": {
            "text/html": [
              "<span style=\"color:blue\"> |-units_13: 32</span>"
            ],
            "text/plain": [
              "<IPython.core.display.HTML object>"
            ]
          },
          "metadata": {
            "tags": []
          }
        },
        {
          "output_type": "display_data",
          "data": {
            "text/html": [
              "<span style=\"color:cyan\"> |-units_14: 32</span>"
            ],
            "text/plain": [
              "<IPython.core.display.HTML object>"
            ]
          },
          "metadata": {
            "tags": []
          }
        },
        {
          "output_type": "display_data",
          "data": {
            "text/html": [
              "<span style=\"color:blue\"> |-units_15: 32</span>"
            ],
            "text/plain": [
              "<IPython.core.display.HTML object>"
            ]
          },
          "metadata": {
            "tags": []
          }
        },
        {
          "output_type": "display_data",
          "data": {
            "text/html": [
              "<span style=\"color:cyan\"> |-units_16: 32</span>"
            ],
            "text/plain": [
              "<IPython.core.display.HTML object>"
            ]
          },
          "metadata": {
            "tags": []
          }
        },
        {
          "output_type": "display_data",
          "data": {
            "text/html": [
              "<span style=\"color:blue\"> |-units_17: 32</span>"
            ],
            "text/plain": [
              "<IPython.core.display.HTML object>"
            ]
          },
          "metadata": {
            "tags": []
          }
        },
        {
          "output_type": "display_data",
          "data": {
            "text/html": [
              "<span style=\"color:cyan\"> |-units_18: 32</span>"
            ],
            "text/plain": [
              "<IPython.core.display.HTML object>"
            ]
          },
          "metadata": {
            "tags": []
          }
        },
        {
          "output_type": "display_data",
          "data": {
            "text/html": [
              "<span style=\"color:blue\"> |-units_2: 256</span>"
            ],
            "text/plain": [
              "<IPython.core.display.HTML object>"
            ]
          },
          "metadata": {
            "tags": []
          }
        },
        {
          "output_type": "display_data",
          "data": {
            "text/html": [
              "<span style=\"color:cyan\"> |-units_3: 128</span>"
            ],
            "text/plain": [
              "<IPython.core.display.HTML object>"
            ]
          },
          "metadata": {
            "tags": []
          }
        },
        {
          "output_type": "display_data",
          "data": {
            "text/html": [
              "<span style=\"color:blue\"> |-units_4: 512</span>"
            ],
            "text/plain": [
              "<IPython.core.display.HTML object>"
            ]
          },
          "metadata": {
            "tags": []
          }
        },
        {
          "output_type": "display_data",
          "data": {
            "text/html": [
              "<span style=\"color:cyan\"> |-units_5: 320</span>"
            ],
            "text/plain": [
              "<IPython.core.display.HTML object>"
            ]
          },
          "metadata": {
            "tags": []
          }
        },
        {
          "output_type": "display_data",
          "data": {
            "text/html": [
              "<span style=\"color:blue\"> |-units_6: 224</span>"
            ],
            "text/plain": [
              "<IPython.core.display.HTML object>"
            ]
          },
          "metadata": {
            "tags": []
          }
        },
        {
          "output_type": "display_data",
          "data": {
            "text/html": [
              "<span style=\"color:cyan\"> |-units_7: 256</span>"
            ],
            "text/plain": [
              "<IPython.core.display.HTML object>"
            ]
          },
          "metadata": {
            "tags": []
          }
        },
        {
          "output_type": "display_data",
          "data": {
            "text/html": [
              "<span style=\"color:blue\"> |-units_8: 192</span>"
            ],
            "text/plain": [
              "<IPython.core.display.HTML object>"
            ]
          },
          "metadata": {
            "tags": []
          }
        },
        {
          "output_type": "display_data",
          "data": {
            "text/html": [
              "<span style=\"color:cyan\"> |-units_9: 416</span>"
            ],
            "text/plain": [
              "<IPython.core.display.HTML object>"
            ]
          },
          "metadata": {
            "tags": []
          }
        },
        {
          "output_type": "stream",
          "text": [
            "Epoch 1/5\n",
            "WARNING:tensorflow:Layer dense is casting an input tensor from dtype float64 to the layer's dtype of float32, which is new behavior in TensorFlow 2.  The layer has dtype float32 because it's dtype defaults to floatx.\n",
            "\n",
            "If you intended to run this layer in float32, you can safely ignore this warning. If in doubt, this warning is likely only an issue if you are porting a TensorFlow 1.X model to TensorFlow 2.\n",
            "\n",
            "To change all layers to have dtype float64 by default, call `tf.keras.backend.set_floatx('float64')`. To change just this layer, pass dtype='float64' to the layer constructor. If you are the author of this layer, you can disable autocasting by passing autocast=False to the base Layer constructor.\n",
            "\n",
            "1336/1336 [==============================] - 10s 7ms/step - loss: 0.6938 - accuracy: 0.6831 - val_loss: 0.6931 - val_accuracy: 0.7096\n",
            "Epoch 2/5\n",
            "1336/1336 [==============================] - 9s 7ms/step - loss: 0.6932 - accuracy: 0.7090 - val_loss: 0.6931 - val_accuracy: 0.7061\n",
            "Epoch 3/5\n",
            "1336/1336 [==============================] - 9s 7ms/step - loss: 0.6932 - accuracy: 0.7093 - val_loss: 0.6931 - val_accuracy: 0.7067\n",
            "Epoch 4/5\n",
            "1336/1336 [==============================] - 9s 7ms/step - loss: 0.6932 - accuracy: 0.7097 - val_loss: 0.6931 - val_accuracy: 0.7073\n",
            "Epoch 5/5\n",
            "1336/1336 [==============================] - 9s 7ms/step - loss: 0.6932 - accuracy: 0.7103 - val_loss: 0.6931 - val_accuracy: 0.7076\n",
            "Epoch 1/5\n",
            "WARNING:tensorflow:Layer dense is casting an input tensor from dtype float64 to the layer's dtype of float32, which is new behavior in TensorFlow 2.  The layer has dtype float32 because it's dtype defaults to floatx.\n",
            "\n",
            "If you intended to run this layer in float32, you can safely ignore this warning. If in doubt, this warning is likely only an issue if you are porting a TensorFlow 1.X model to TensorFlow 2.\n",
            "\n",
            "To change all layers to have dtype float64 by default, call `tf.keras.backend.set_floatx('float64')`. To change just this layer, pass dtype='float64' to the layer constructor. If you are the author of this layer, you can disable autocasting by passing autocast=False to the base Layer constructor.\n",
            "\n",
            "1336/1336 [==============================] - 10s 7ms/step - loss: 0.6948 - accuracy: 0.6992 - val_loss: 0.6931 - val_accuracy: 0.7041\n",
            "Epoch 2/5\n",
            "1336/1336 [==============================] - 9s 7ms/step - loss: 0.6932 - accuracy: 0.7079 - val_loss: 0.6931 - val_accuracy: 0.7057\n",
            "Epoch 3/5\n",
            "1336/1336 [==============================] - 9s 7ms/step - loss: 0.6932 - accuracy: 0.7089 - val_loss: 0.6931 - val_accuracy: 0.7065\n",
            "Epoch 4/5\n",
            "1336/1336 [==============================] - 9s 7ms/step - loss: 0.6932 - accuracy: 0.7096 - val_loss: 0.6931 - val_accuracy: 0.7067\n",
            "Epoch 5/5\n",
            "1336/1336 [==============================] - 9s 7ms/step - loss: 0.6932 - accuracy: 0.7102 - val_loss: 0.6931 - val_accuracy: 0.7075\n",
            "Epoch 1/5\n",
            "WARNING:tensorflow:Layer dense is casting an input tensor from dtype float64 to the layer's dtype of float32, which is new behavior in TensorFlow 2.  The layer has dtype float32 because it's dtype defaults to floatx.\n",
            "\n",
            "If you intended to run this layer in float32, you can safely ignore this warning. If in doubt, this warning is likely only an issue if you are porting a TensorFlow 1.X model to TensorFlow 2.\n",
            "\n",
            "To change all layers to have dtype float64 by default, call `tf.keras.backend.set_floatx('float64')`. To change just this layer, pass dtype='float64' to the layer constructor. If you are the author of this layer, you can disable autocasting by passing autocast=False to the base Layer constructor.\n",
            "\n",
            "1336/1336 [==============================] - 10s 7ms/step - loss: 0.6960 - accuracy: 0.6891 - val_loss: 0.6931 - val_accuracy: 0.6876\n",
            "Epoch 2/5\n",
            "1336/1336 [==============================] - 10s 8ms/step - loss: 0.6932 - accuracy: 0.6948 - val_loss: 0.6931 - val_accuracy: 0.6943\n",
            "Epoch 3/5\n",
            "1336/1336 [==============================] - 10s 7ms/step - loss: 0.6932 - accuracy: 0.6986 - val_loss: 0.6931 - val_accuracy: 0.6976\n",
            "Epoch 4/5\n",
            "1336/1336 [==============================] - 9s 7ms/step - loss: 0.6932 - accuracy: 0.7023 - val_loss: 0.6931 - val_accuracy: 0.7002\n",
            "Epoch 5/5\n",
            "1336/1336 [==============================] - 9s 7ms/step - loss: 0.6932 - accuracy: 0.7043 - val_loss: 0.6931 - val_accuracy: 0.7027\n"
          ],
          "name": "stdout"
        },
        {
          "output_type": "display_data",
          "data": {
            "text/html": [
              "<span style=\"color:#4527A0\"><h1 style=\"font-size:18px\">Trial complete</h1></span>"
            ],
            "text/plain": [
              "<IPython.core.display.HTML object>"
            ]
          },
          "metadata": {
            "tags": []
          }
        },
        {
          "output_type": "display_data",
          "data": {
            "text/html": [
              "<span style=\"color:#4527A0\"><h1 style=\"font-size:18px\">Trial summary</h1></span>"
            ],
            "text/plain": [
              "<IPython.core.display.HTML object>"
            ]
          },
          "metadata": {
            "tags": []
          }
        },
        {
          "output_type": "display_data",
          "data": {
            "text/html": [
              "<span style=\"color:cyan\"> |-Trial ID: 0ee26b2abac57f97dc1d85fde0871a01</span>"
            ],
            "text/plain": [
              "<IPython.core.display.HTML object>"
            ]
          },
          "metadata": {
            "tags": []
          }
        },
        {
          "output_type": "display_data",
          "data": {
            "text/html": [
              "<span style=\"color:cyan\"> |-Score: 0.7066217462221781</span>"
            ],
            "text/plain": [
              "<IPython.core.display.HTML object>"
            ]
          },
          "metadata": {
            "tags": []
          }
        },
        {
          "output_type": "display_data",
          "data": {
            "text/html": [
              "<span style=\"color:cyan\"> |-Best step: 0</span>"
            ],
            "text/plain": [
              "<IPython.core.display.HTML object>"
            ]
          },
          "metadata": {
            "tags": []
          }
        },
        {
          "output_type": "display_data",
          "data": {
            "text/html": [
              "<span style=\"color:#7E57C2\"><h2 style=\"font-size:16px\">Hyperparameters:</h2></span>"
            ],
            "text/plain": [
              "<IPython.core.display.HTML object>"
            ]
          },
          "metadata": {
            "tags": []
          }
        },
        {
          "output_type": "display_data",
          "data": {
            "text/html": [
              "<span style=\"color:cyan\"> |-learning_rate: 0.001</span>"
            ],
            "text/plain": [
              "<IPython.core.display.HTML object>"
            ]
          },
          "metadata": {
            "tags": []
          }
        },
        {
          "output_type": "display_data",
          "data": {
            "text/html": [
              "<span style=\"color:blue\"> |-num_layers: 12</span>"
            ],
            "text/plain": [
              "<IPython.core.display.HTML object>"
            ]
          },
          "metadata": {
            "tags": []
          }
        },
        {
          "output_type": "display_data",
          "data": {
            "text/html": [
              "<span style=\"color:cyan\"> |-units_0: 320</span>"
            ],
            "text/plain": [
              "<IPython.core.display.HTML object>"
            ]
          },
          "metadata": {
            "tags": []
          }
        },
        {
          "output_type": "display_data",
          "data": {
            "text/html": [
              "<span style=\"color:blue\"> |-units_1: 160</span>"
            ],
            "text/plain": [
              "<IPython.core.display.HTML object>"
            ]
          },
          "metadata": {
            "tags": []
          }
        },
        {
          "output_type": "display_data",
          "data": {
            "text/html": [
              "<span style=\"color:cyan\"> |-units_10: 128</span>"
            ],
            "text/plain": [
              "<IPython.core.display.HTML object>"
            ]
          },
          "metadata": {
            "tags": []
          }
        },
        {
          "output_type": "display_data",
          "data": {
            "text/html": [
              "<span style=\"color:blue\"> |-units_11: 352</span>"
            ],
            "text/plain": [
              "<IPython.core.display.HTML object>"
            ]
          },
          "metadata": {
            "tags": []
          }
        },
        {
          "output_type": "display_data",
          "data": {
            "text/html": [
              "<span style=\"color:cyan\"> |-units_12: 256</span>"
            ],
            "text/plain": [
              "<IPython.core.display.HTML object>"
            ]
          },
          "metadata": {
            "tags": []
          }
        },
        {
          "output_type": "display_data",
          "data": {
            "text/html": [
              "<span style=\"color:blue\"> |-units_13: 128</span>"
            ],
            "text/plain": [
              "<IPython.core.display.HTML object>"
            ]
          },
          "metadata": {
            "tags": []
          }
        },
        {
          "output_type": "display_data",
          "data": {
            "text/html": [
              "<span style=\"color:cyan\"> |-units_14: 224</span>"
            ],
            "text/plain": [
              "<IPython.core.display.HTML object>"
            ]
          },
          "metadata": {
            "tags": []
          }
        },
        {
          "output_type": "display_data",
          "data": {
            "text/html": [
              "<span style=\"color:blue\"> |-units_15: 192</span>"
            ],
            "text/plain": [
              "<IPython.core.display.HTML object>"
            ]
          },
          "metadata": {
            "tags": []
          }
        },
        {
          "output_type": "display_data",
          "data": {
            "text/html": [
              "<span style=\"color:cyan\"> |-units_16: 256</span>"
            ],
            "text/plain": [
              "<IPython.core.display.HTML object>"
            ]
          },
          "metadata": {
            "tags": []
          }
        },
        {
          "output_type": "display_data",
          "data": {
            "text/html": [
              "<span style=\"color:blue\"> |-units_17: 320</span>"
            ],
            "text/plain": [
              "<IPython.core.display.HTML object>"
            ]
          },
          "metadata": {
            "tags": []
          }
        },
        {
          "output_type": "display_data",
          "data": {
            "text/html": [
              "<span style=\"color:cyan\"> |-units_18: 448</span>"
            ],
            "text/plain": [
              "<IPython.core.display.HTML object>"
            ]
          },
          "metadata": {
            "tags": []
          }
        },
        {
          "output_type": "display_data",
          "data": {
            "text/html": [
              "<span style=\"color:blue\"> |-units_2: 352</span>"
            ],
            "text/plain": [
              "<IPython.core.display.HTML object>"
            ]
          },
          "metadata": {
            "tags": []
          }
        },
        {
          "output_type": "display_data",
          "data": {
            "text/html": [
              "<span style=\"color:cyan\"> |-units_3: 96</span>"
            ],
            "text/plain": [
              "<IPython.core.display.HTML object>"
            ]
          },
          "metadata": {
            "tags": []
          }
        },
        {
          "output_type": "display_data",
          "data": {
            "text/html": [
              "<span style=\"color:blue\"> |-units_4: 160</span>"
            ],
            "text/plain": [
              "<IPython.core.display.HTML object>"
            ]
          },
          "metadata": {
            "tags": []
          }
        },
        {
          "output_type": "display_data",
          "data": {
            "text/html": [
              "<span style=\"color:cyan\"> |-units_5: 224</span>"
            ],
            "text/plain": [
              "<IPython.core.display.HTML object>"
            ]
          },
          "metadata": {
            "tags": []
          }
        },
        {
          "output_type": "display_data",
          "data": {
            "text/html": [
              "<span style=\"color:blue\"> |-units_6: 128</span>"
            ],
            "text/plain": [
              "<IPython.core.display.HTML object>"
            ]
          },
          "metadata": {
            "tags": []
          }
        },
        {
          "output_type": "display_data",
          "data": {
            "text/html": [
              "<span style=\"color:cyan\"> |-units_7: 224</span>"
            ],
            "text/plain": [
              "<IPython.core.display.HTML object>"
            ]
          },
          "metadata": {
            "tags": []
          }
        },
        {
          "output_type": "display_data",
          "data": {
            "text/html": [
              "<span style=\"color:blue\"> |-units_8: 448</span>"
            ],
            "text/plain": [
              "<IPython.core.display.HTML object>"
            ]
          },
          "metadata": {
            "tags": []
          }
        },
        {
          "output_type": "display_data",
          "data": {
            "text/html": [
              "<span style=\"color:cyan\"> |-units_9: 32</span>"
            ],
            "text/plain": [
              "<IPython.core.display.HTML object>"
            ]
          },
          "metadata": {
            "tags": []
          }
        },
        {
          "output_type": "stream",
          "text": [
            "Epoch 1/5\n",
            "WARNING:tensorflow:Layer dense is casting an input tensor from dtype float64 to the layer's dtype of float32, which is new behavior in TensorFlow 2.  The layer has dtype float32 because it's dtype defaults to floatx.\n",
            "\n",
            "If you intended to run this layer in float32, you can safely ignore this warning. If in doubt, this warning is likely only an issue if you are porting a TensorFlow 1.X model to TensorFlow 2.\n",
            "\n",
            "To change all layers to have dtype float64 by default, call `tf.keras.backend.set_floatx('float64')`. To change just this layer, pass dtype='float64' to the layer constructor. If you are the author of this layer, you can disable autocasting by passing autocast=False to the base Layer constructor.\n",
            "\n",
            "1336/1336 [==============================] - 16s 12ms/step - loss: 0.5892 - accuracy: 0.7119 - val_loss: 0.5732 - val_accuracy: 0.7096\n",
            "Epoch 2/5\n",
            "1336/1336 [==============================] - 16s 12ms/step - loss: 0.5701 - accuracy: 0.7125 - val_loss: 0.5676 - val_accuracy: 0.7097\n",
            "Epoch 3/5\n",
            "1336/1336 [==============================] - 16s 12ms/step - loss: 0.5575 - accuracy: 0.7200 - val_loss: 0.5550 - val_accuracy: 0.7122\n",
            "Epoch 4/5\n",
            "1336/1336 [==============================] - 16s 12ms/step - loss: 0.5482 - accuracy: 0.7210 - val_loss: 0.5423 - val_accuracy: 0.7324\n",
            "Epoch 5/5\n",
            "1336/1336 [==============================] - 16s 12ms/step - loss: 0.5469 - accuracy: 0.7273 - val_loss: 0.5449 - val_accuracy: 0.7096\n",
            "Epoch 1/5\n",
            "WARNING:tensorflow:Layer dense is casting an input tensor from dtype float64 to the layer's dtype of float32, which is new behavior in TensorFlow 2.  The layer has dtype float32 because it's dtype defaults to floatx.\n",
            "\n",
            "If you intended to run this layer in float32, you can safely ignore this warning. If in doubt, this warning is likely only an issue if you are porting a TensorFlow 1.X model to TensorFlow 2.\n",
            "\n",
            "To change all layers to have dtype float64 by default, call `tf.keras.backend.set_floatx('float64')`. To change just this layer, pass dtype='float64' to the layer constructor. If you are the author of this layer, you can disable autocasting by passing autocast=False to the base Layer constructor.\n",
            "\n",
            "1336/1336 [==============================] - 16s 12ms/step - loss: 0.5908 - accuracy: 0.7130 - val_loss: 0.5740 - val_accuracy: 0.7096\n",
            "Epoch 2/5\n",
            "1336/1336 [==============================] - 16s 12ms/step - loss: 0.5681 - accuracy: 0.7142 - val_loss: 0.5650 - val_accuracy: 0.7177\n",
            "Epoch 3/5\n",
            "1336/1336 [==============================] - 16s 12ms/step - loss: 0.5534 - accuracy: 0.7196 - val_loss: 0.5497 - val_accuracy: 0.7096\n",
            "Epoch 4/5\n",
            "1336/1336 [==============================] - 16s 12ms/step - loss: 0.5479 - accuracy: 0.7239 - val_loss: 0.5594 - val_accuracy: 0.7169\n",
            "Epoch 5/5\n",
            "1336/1336 [==============================] - 16s 12ms/step - loss: 0.5451 - accuracy: 0.7277 - val_loss: 0.5766 - val_accuracy: 0.7329\n",
            "Epoch 1/5\n",
            "WARNING:tensorflow:Layer dense is casting an input tensor from dtype float64 to the layer's dtype of float32, which is new behavior in TensorFlow 2.  The layer has dtype float32 because it's dtype defaults to floatx.\n",
            "\n",
            "If you intended to run this layer in float32, you can safely ignore this warning. If in doubt, this warning is likely only an issue if you are porting a TensorFlow 1.X model to TensorFlow 2.\n",
            "\n",
            "To change all layers to have dtype float64 by default, call `tf.keras.backend.set_floatx('float64')`. To change just this layer, pass dtype='float64' to the layer constructor. If you are the author of this layer, you can disable autocasting by passing autocast=False to the base Layer constructor.\n",
            "\n",
            "1336/1336 [==============================] - 16s 12ms/step - loss: 0.5889 - accuracy: 0.7118 - val_loss: 0.5717 - val_accuracy: 0.7106\n",
            "Epoch 2/5\n",
            "1336/1336 [==============================] - 16s 12ms/step - loss: 0.5673 - accuracy: 0.7160 - val_loss: 0.5697 - val_accuracy: 0.7224\n",
            "Epoch 3/5\n",
            "1336/1336 [==============================] - 16s 12ms/step - loss: 0.5543 - accuracy: 0.7230 - val_loss: 0.5538 - val_accuracy: 0.7179\n",
            "Epoch 4/5\n",
            "1336/1336 [==============================] - 16s 12ms/step - loss: 0.5465 - accuracy: 0.7311 - val_loss: 0.5576 - val_accuracy: 0.7317\n",
            "Epoch 5/5\n",
            "1336/1336 [==============================] - 16s 12ms/step - loss: 0.5434 - accuracy: 0.7316 - val_loss: 0.5571 - val_accuracy: 0.7325\n"
          ],
          "name": "stdout"
        },
        {
          "output_type": "display_data",
          "data": {
            "text/html": [
              "<span style=\"color:#4527A0\"><h1 style=\"font-size:18px\">Trial complete</h1></span>"
            ],
            "text/plain": [
              "<IPython.core.display.HTML object>"
            ]
          },
          "metadata": {
            "tags": []
          }
        },
        {
          "output_type": "display_data",
          "data": {
            "text/html": [
              "<span style=\"color:#4527A0\"><h1 style=\"font-size:18px\">Trial summary</h1></span>"
            ],
            "text/plain": [
              "<IPython.core.display.HTML object>"
            ]
          },
          "metadata": {
            "tags": []
          }
        },
        {
          "output_type": "display_data",
          "data": {
            "text/html": [
              "<span style=\"color:cyan\"> |-Trial ID: 44b7077d18fb01b7c9cb4a7c1ebfd3c4</span>"
            ],
            "text/plain": [
              "<IPython.core.display.HTML object>"
            ]
          },
          "metadata": {
            "tags": []
          }
        },
        {
          "output_type": "display_data",
          "data": {
            "text/html": [
              "<span style=\"color:cyan\"> |-Score: 0.7325722972551981</span>"
            ],
            "text/plain": [
              "<IPython.core.display.HTML object>"
            ]
          },
          "metadata": {
            "tags": []
          }
        },
        {
          "output_type": "display_data",
          "data": {
            "text/html": [
              "<span style=\"color:cyan\"> |-Best step: 0</span>"
            ],
            "text/plain": [
              "<IPython.core.display.HTML object>"
            ]
          },
          "metadata": {
            "tags": []
          }
        },
        {
          "output_type": "display_data",
          "data": {
            "text/html": [
              "<span style=\"color:#7E57C2\"><h2 style=\"font-size:16px\">Hyperparameters:</h2></span>"
            ],
            "text/plain": [
              "<IPython.core.display.HTML object>"
            ]
          },
          "metadata": {
            "tags": []
          }
        },
        {
          "output_type": "display_data",
          "data": {
            "text/html": [
              "<span style=\"color:cyan\"> |-learning_rate: 0.0001</span>"
            ],
            "text/plain": [
              "<IPython.core.display.HTML object>"
            ]
          },
          "metadata": {
            "tags": []
          }
        },
        {
          "output_type": "display_data",
          "data": {
            "text/html": [
              "<span style=\"color:blue\"> |-num_layers: 17</span>"
            ],
            "text/plain": [
              "<IPython.core.display.HTML object>"
            ]
          },
          "metadata": {
            "tags": []
          }
        },
        {
          "output_type": "display_data",
          "data": {
            "text/html": [
              "<span style=\"color:cyan\"> |-units_0: 224</span>"
            ],
            "text/plain": [
              "<IPython.core.display.HTML object>"
            ]
          },
          "metadata": {
            "tags": []
          }
        },
        {
          "output_type": "display_data",
          "data": {
            "text/html": [
              "<span style=\"color:blue\"> |-units_1: 64</span>"
            ],
            "text/plain": [
              "<IPython.core.display.HTML object>"
            ]
          },
          "metadata": {
            "tags": []
          }
        },
        {
          "output_type": "display_data",
          "data": {
            "text/html": [
              "<span style=\"color:cyan\"> |-units_10: 352</span>"
            ],
            "text/plain": [
              "<IPython.core.display.HTML object>"
            ]
          },
          "metadata": {
            "tags": []
          }
        },
        {
          "output_type": "display_data",
          "data": {
            "text/html": [
              "<span style=\"color:blue\"> |-units_11: 192</span>"
            ],
            "text/plain": [
              "<IPython.core.display.HTML object>"
            ]
          },
          "metadata": {
            "tags": []
          }
        },
        {
          "output_type": "display_data",
          "data": {
            "text/html": [
              "<span style=\"color:cyan\"> |-units_12: 192</span>"
            ],
            "text/plain": [
              "<IPython.core.display.HTML object>"
            ]
          },
          "metadata": {
            "tags": []
          }
        },
        {
          "output_type": "display_data",
          "data": {
            "text/html": [
              "<span style=\"color:blue\"> |-units_13: 256</span>"
            ],
            "text/plain": [
              "<IPython.core.display.HTML object>"
            ]
          },
          "metadata": {
            "tags": []
          }
        },
        {
          "output_type": "display_data",
          "data": {
            "text/html": [
              "<span style=\"color:cyan\"> |-units_14: 192</span>"
            ],
            "text/plain": [
              "<IPython.core.display.HTML object>"
            ]
          },
          "metadata": {
            "tags": []
          }
        },
        {
          "output_type": "display_data",
          "data": {
            "text/html": [
              "<span style=\"color:blue\"> |-units_15: 256</span>"
            ],
            "text/plain": [
              "<IPython.core.display.HTML object>"
            ]
          },
          "metadata": {
            "tags": []
          }
        },
        {
          "output_type": "display_data",
          "data": {
            "text/html": [
              "<span style=\"color:cyan\"> |-units_16: 128</span>"
            ],
            "text/plain": [
              "<IPython.core.display.HTML object>"
            ]
          },
          "metadata": {
            "tags": []
          }
        },
        {
          "output_type": "display_data",
          "data": {
            "text/html": [
              "<span style=\"color:blue\"> |-units_17: 384</span>"
            ],
            "text/plain": [
              "<IPython.core.display.HTML object>"
            ]
          },
          "metadata": {
            "tags": []
          }
        },
        {
          "output_type": "display_data",
          "data": {
            "text/html": [
              "<span style=\"color:cyan\"> |-units_18: 160</span>"
            ],
            "text/plain": [
              "<IPython.core.display.HTML object>"
            ]
          },
          "metadata": {
            "tags": []
          }
        },
        {
          "output_type": "display_data",
          "data": {
            "text/html": [
              "<span style=\"color:blue\"> |-units_2: 320</span>"
            ],
            "text/plain": [
              "<IPython.core.display.HTML object>"
            ]
          },
          "metadata": {
            "tags": []
          }
        },
        {
          "output_type": "display_data",
          "data": {
            "text/html": [
              "<span style=\"color:cyan\"> |-units_3: 448</span>"
            ],
            "text/plain": [
              "<IPython.core.display.HTML object>"
            ]
          },
          "metadata": {
            "tags": []
          }
        },
        {
          "output_type": "display_data",
          "data": {
            "text/html": [
              "<span style=\"color:blue\"> |-units_4: 96</span>"
            ],
            "text/plain": [
              "<IPython.core.display.HTML object>"
            ]
          },
          "metadata": {
            "tags": []
          }
        },
        {
          "output_type": "display_data",
          "data": {
            "text/html": [
              "<span style=\"color:cyan\"> |-units_5: 160</span>"
            ],
            "text/plain": [
              "<IPython.core.display.HTML object>"
            ]
          },
          "metadata": {
            "tags": []
          }
        },
        {
          "output_type": "display_data",
          "data": {
            "text/html": [
              "<span style=\"color:blue\"> |-units_6: 320</span>"
            ],
            "text/plain": [
              "<IPython.core.display.HTML object>"
            ]
          },
          "metadata": {
            "tags": []
          }
        },
        {
          "output_type": "display_data",
          "data": {
            "text/html": [
              "<span style=\"color:cyan\"> |-units_7: 352</span>"
            ],
            "text/plain": [
              "<IPython.core.display.HTML object>"
            ]
          },
          "metadata": {
            "tags": []
          }
        },
        {
          "output_type": "display_data",
          "data": {
            "text/html": [
              "<span style=\"color:blue\"> |-units_8: 352</span>"
            ],
            "text/plain": [
              "<IPython.core.display.HTML object>"
            ]
          },
          "metadata": {
            "tags": []
          }
        },
        {
          "output_type": "display_data",
          "data": {
            "text/html": [
              "<span style=\"color:cyan\"> |-units_9: 512</span>"
            ],
            "text/plain": [
              "<IPython.core.display.HTML object>"
            ]
          },
          "metadata": {
            "tags": []
          }
        },
        {
          "output_type": "stream",
          "text": [
            "INFO:tensorflow:Oracle triggered exit\n"
          ],
          "name": "stdout"
        }
      ]
    },
    {
      "cell_type": "code",
      "metadata": {
        "id": "D_nRwXfZHZCB",
        "colab_type": "code",
        "colab": {
          "base_uri": "https://localhost:8080/",
          "height": 138
        },
        "outputId": "2d332573-b1fd-423a-8162-6572b54671aa"
      },
      "source": [
        "from tensorflow.keras.callbacks import EarlyStopping\n",
        "early_stopping_monitor = EarlyStopping(patience=5)\n",
        "History = models[0].fit(X_train, Y_train, validation_split=0.2, batch_size=64,epochs=15, verbose = False,callbacks=[early_stopping_monitor])"
      ],
      "execution_count": 116,
      "outputs": [
        {
          "output_type": "stream",
          "text": [
            "WARNING:tensorflow:Layer dense is casting an input tensor from dtype float64 to the layer's dtype of float32, which is new behavior in TensorFlow 2.  The layer has dtype float32 because it's dtype defaults to floatx.\n",
            "\n",
            "If you intended to run this layer in float32, you can safely ignore this warning. If in doubt, this warning is likely only an issue if you are porting a TensorFlow 1.X model to TensorFlow 2.\n",
            "\n",
            "To change all layers to have dtype float64 by default, call `tf.keras.backend.set_floatx('float64')`. To change just this layer, pass dtype='float64' to the layer constructor. If you are the author of this layer, you can disable autocasting by passing autocast=False to the base Layer constructor.\n",
            "\n"
          ],
          "name": "stdout"
        }
      ]
    },
    {
      "cell_type": "code",
      "metadata": {
        "id": "9YoTX_DKIePP",
        "colab_type": "code",
        "colab": {
          "base_uri": "https://localhost:8080/",
          "height": 34
        },
        "outputId": "a774c0ca-4a02-4070-f098-3b21ad6b2ee6"
      },
      "source": [
        "neural = models[0] \n",
        "neural.evaluate(X_train, Y_train,verbose=False)"
      ],
      "execution_count": 118,
      "outputs": [
        {
          "output_type": "execute_result",
          "data": {
            "text/plain": [
              "[0.5270985960960388, 0.7503602504730225]"
            ]
          },
          "metadata": {
            "tags": []
          },
          "execution_count": 118
        }
      ]
    },
    {
      "cell_type": "code",
      "metadata": {
        "id": "u2iYuCb8MS4d",
        "colab_type": "code",
        "colab": {
          "base_uri": "https://localhost:8080/",
          "height": 1000
        },
        "outputId": "c032acac-93fd-48b0-8272-7167a67a3356"
      },
      "source": [
        "y_pred = neural.predict_classes(X_test)\n",
        "y_probas = neural.predict_proba(X_test)\n",
        "conf_mat = confusion_matrix(Y_test, y_pred)\n",
        "accuracy = accuracy_score(Y_test, y_pred)\n",
        "score = precision_recall_fscore_support(Y_test, y_pred, average='weighted')\n",
        "precision, recall, fscore, k = score\n",
        "skplt.metrics.plot_confusion_matrix(Y_test, y_pred)\n",
        "skplt.metrics.plot_precision_recall_curve(Y_test, y_probas)\n",
        "skplt.metrics.plot_roc(Y_test, y_probas)\n",
        "print(classification_report(Y_test, y_pred))\n",
        "print(\"Accuracy:\",accuracy)\n",
        "print(\"Precision:\",precision)\n",
        "print(\"Recall:\",recall)\n",
        "print(\"F score:\",fscore)"
      ],
      "execution_count": 124,
      "outputs": [
        {
          "output_type": "stream",
          "text": [
            "WARNING:tensorflow:From <ipython-input-124-f2e4fcb8e75c>:1: Sequential.predict_classes (from tensorflow.python.keras.engine.sequential) is deprecated and will be removed after 2021-01-01.\n",
            "Instructions for updating:\n",
            "Please use instead:* `np.argmax(model.predict(x), axis=-1)`,   if your model does multi-class classification   (e.g. if it uses a `softmax` last-layer activation).* `(model.predict(x) > 0.5).astype(\"int32\")`,   if your model does binary classification   (e.g. if it uses a `sigmoid` last-layer activation).\n",
            "              precision    recall  f1-score   support\n",
            "\n",
            "           0       0.76      0.93      0.84      4219\n",
            "           1       0.63      0.28      0.39      1719\n",
            "\n",
            "    accuracy                           0.74      5938\n",
            "   macro avg       0.70      0.61      0.61      5938\n",
            "weighted avg       0.72      0.74      0.71      5938\n",
            "\n",
            "Accuracy: 0.7441899629504883\n",
            "Precision: 0.7234531197878954\n",
            "Recall: 0.7441899629504883\n",
            "F score: 0.7072865654619269\n"
          ],
          "name": "stdout"
        },
        {
          "output_type": "display_data",
          "data": {
            "image/png": "[encoded data removed]",
            "text/plain": [
              "<Figure size 432x288 with 2 Axes>"
            ]
          },
          "metadata": {
            "tags": []
          }
        },
        {
          "output_type": "display_data",
          "data": {
            "image/png": "[encoded data removed]",
            "text/plain": [
              "<Figure size 432x288 with 1 Axes>"
            ]
          },
          "metadata": {
            "tags": []
          }
        },
        {
          "output_type": "display_data",
          "data": {
            "image/png": "[encoded data removed]",
            "text/plain": [
              "<Figure size 432x288 with 1 Axes>"
            ]
          },
          "metadata": {
            "tags": []
          }
        }
      ]
    },
    {
      "cell_type": "markdown",
      "metadata": {
        "id": "9qBRpCVvNnMj",
        "colab_type": "text"
      },
      "source": [
        "Finally XGBoost is doing a better job at classification for this dataset."
      ]
    }
  ]
}