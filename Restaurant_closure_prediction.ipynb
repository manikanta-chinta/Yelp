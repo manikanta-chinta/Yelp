{
  "nbformat": 4,
  "nbformat_minor": 0,
  "metadata": {
    "colab": {
      "name": "Restaurant closure prediction.ipynb",
      "provenance": [],
      "collapsed_sections": [],
      "machine_shape": "hm"
    },
    "kernelspec": {
      "name": "python3",
      "display_name": "Python 3"
    },
    "accelerator": "TPU"
  },
  "cells": [
    {
      "cell_type": "code",
      "metadata": {
        "id": "VqFtXa82gxWu",
        "colab_type": "code",
        "outputId": "b97817e3-33b9-4163-8167-f4d4cc0c3bf9",
        "colab": {
          "base_uri": "https://localhost:8080/",
          "height": 121
        }
      },
      "source": [
        "from google.colab import drive\n",
        "drive.mount('/content/drive')"
      ],
      "execution_count": 1,
      "outputs": [
        {
          "output_type": "stream",
          "text": [
            "Go to this URL in a browser: https://accounts.google.com/o/oauth2/auth?client_id=947318989803-6bn6qk8qdgf4n4g3pfee6491hc0brc4i.apps.googleusercontent.com&redirect_uri=urn%3aietf%3awg%3aoauth%3a2.0%3aoob&response_type=code&scope=email%20https%3a%2f%2fwww.googleapis.com%2fauth%2fdocs.test%20https%3a%2f%2fwww.googleapis.com%2fauth%2fdrive%20https%3a%2f%2fwww.googleapis.com%2fauth%2fdrive.photos.readonly%20https%3a%2f%2fwww.googleapis.com%2fauth%2fpeopleapi.readonly\n",
            "\n",
            "Enter your authorization code:\n",
            "··········\n",
            "Mounted at /content/drive\n"
          ],
          "name": "stdout"
        }
      ]
    },
    {
      "cell_type": "code",
      "metadata": {
        "id": "a1fGglDwgxGF",
        "colab_type": "code",
        "outputId": "16fbc204-bf32-4ee9-a0fc-6fd47205bcaf",
        "colab": {
          "base_uri": "https://localhost:8080/",
          "height": 151
        }
      },
      "source": [
        "!tar -xvf /content/drive/My\\ Drive/yelp_dataset.tar"
      ],
      "execution_count": 2,
      "outputs": [
        {
          "output_type": "stream",
          "text": [
            "business.json\n",
            "checkin.json\n",
            "review.json\n",
            "tip.json\n",
            "user.json\n",
            "photo.json\n",
            "Dataset_Challenge_Dataset_Agreement.pdf\n",
            "Yelp_Dataset_Challenge_Round_13.pdf\n"
          ],
          "name": "stdout"
        }
      ]
    },
    {
      "cell_type": "code",
      "metadata": {
        "id": "5QITZxG8gw9D",
        "colab_type": "code",
        "colab": {}
      },
      "source": [
        "import pandas as pd\n",
        "import numpy as np\n",
        "import datetime\n",
        "import matplotlib.pyplot as plt\n",
        "import seaborn as sns\n",
        "import warnings\n",
        "warnings.filterwarnings('ignore')"
      ],
      "execution_count": 0,
      "outputs": []
    },
    {
      "cell_type": "code",
      "metadata": {
        "id": "axiKuyCwgwuL",
        "colab_type": "code",
        "colab": {}
      },
      "source": [
        "business = pd.read_json('business.json',lines=True)"
      ],
      "execution_count": 0,
      "outputs": []
    },
    {
      "cell_type": "code",
      "metadata": {
        "id": "UXQUfQhzkRqC",
        "colab_type": "code",
        "outputId": "76747a62-f4be-43e6-bc57-5a41cc08626a",
        "colab": {
          "base_uri": "https://localhost:8080/",
          "height": 224
        }
      },
      "source": [
        "business.head(2)"
      ],
      "execution_count": 5,
      "outputs": [
        {
          "output_type": "execute_result",
          "data": {
            "text/html": [
              "<div>\n",
              "<style scoped>\n",
              "    .dataframe tbody tr th:only-of-type {\n",
              "        vertical-align: middle;\n",
              "    }\n",
              "\n",
              "    .dataframe tbody tr th {\n",
              "        vertical-align: top;\n",
              "    }\n",
              "\n",
              "    .dataframe thead th {\n",
              "        text-align: right;\n",
              "    }\n",
              "</style>\n",
              "<table border=\"1\" class=\"dataframe\">\n",
              "  <thead>\n",
              "    <tr style=\"text-align: right;\">\n",
              "      <th></th>\n",
              "      <th>business_id</th>\n",
              "      <th>name</th>\n",
              "      <th>address</th>\n",
              "      <th>city</th>\n",
              "      <th>state</th>\n",
              "      <th>postal_code</th>\n",
              "      <th>latitude</th>\n",
              "      <th>longitude</th>\n",
              "      <th>stars</th>\n",
              "      <th>review_count</th>\n",
              "      <th>is_open</th>\n",
              "      <th>attributes</th>\n",
              "      <th>categories</th>\n",
              "      <th>hours</th>\n",
              "    </tr>\n",
              "  </thead>\n",
              "  <tbody>\n",
              "    <tr>\n",
              "      <th>0</th>\n",
              "      <td>1SWheh84yJXfytovILXOAQ</td>\n",
              "      <td>Arizona Biltmore Golf Club</td>\n",
              "      <td>2818 E Camino Acequia Drive</td>\n",
              "      <td>Phoenix</td>\n",
              "      <td>AZ</td>\n",
              "      <td>85016</td>\n",
              "      <td>33.522143</td>\n",
              "      <td>-112.018481</td>\n",
              "      <td>3.0</td>\n",
              "      <td>5</td>\n",
              "      <td>0</td>\n",
              "      <td>{'GoodForKids': 'False'}</td>\n",
              "      <td>Golf, Active Life</td>\n",
              "      <td>None</td>\n",
              "    </tr>\n",
              "    <tr>\n",
              "      <th>1</th>\n",
              "      <td>QXAEGFB4oINsVuTFxEYKFQ</td>\n",
              "      <td>Emerald Chinese Restaurant</td>\n",
              "      <td>30 Eglinton Avenue W</td>\n",
              "      <td>Mississauga</td>\n",
              "      <td>ON</td>\n",
              "      <td>L5R 3E7</td>\n",
              "      <td>43.605499</td>\n",
              "      <td>-79.652289</td>\n",
              "      <td>2.5</td>\n",
              "      <td>128</td>\n",
              "      <td>1</td>\n",
              "      <td>{'RestaurantsReservations': 'True', 'GoodForMe...</td>\n",
              "      <td>Specialty Food, Restaurants, Dim Sum, Imported...</td>\n",
              "      <td>{'Monday': '9:0-0:0', 'Tuesday': '9:0-0:0', 'W...</td>\n",
              "    </tr>\n",
              "  </tbody>\n",
              "</table>\n",
              "</div>"
            ],
            "text/plain": [
              "              business_id  ...                                              hours\n",
              "0  1SWheh84yJXfytovILXOAQ  ...                                               None\n",
              "1  QXAEGFB4oINsVuTFxEYKFQ  ...  {'Monday': '9:0-0:0', 'Tuesday': '9:0-0:0', 'W...\n",
              "\n",
              "[2 rows x 14 columns]"
            ]
          },
          "metadata": {
            "tags": []
          },
          "execution_count": 5
        }
      ]
    },
    {
      "cell_type": "code",
      "metadata": {
        "id": "81GLb1F0tG12",
        "colab_type": "code",
        "colab": {}
      },
      "source": [
        "business = business[['business_id','postal_code','stars','review_count','is_open','categories']]"
      ],
      "execution_count": 0,
      "outputs": []
    },
    {
      "cell_type": "code",
      "metadata": {
        "id": "CpcIC8itkWaf",
        "colab_type": "code",
        "colab": {}
      },
      "source": [
        "business = business[~business['categories'].isna()]"
      ],
      "execution_count": 0,
      "outputs": []
    },
    {
      "cell_type": "code",
      "metadata": {
        "id": "sE3tWPzdkoD_",
        "colab_type": "code",
        "colab": {}
      },
      "source": [
        "business = business[business['categories'].str.contains('Restaurants')]"
      ],
      "execution_count": 0,
      "outputs": []
    },
    {
      "cell_type": "code",
      "metadata": {
        "id": "l_AtjdEzlaeY",
        "colab_type": "code",
        "outputId": "3c45717d-23b6-4318-b430-33f3a70eec81",
        "colab": {
          "base_uri": "https://localhost:8080/",
          "height": 106
        }
      },
      "source": [
        "business.head(2)"
      ],
      "execution_count": 9,
      "outputs": [
        {
          "output_type": "execute_result",
          "data": {
            "text/html": [
              "<div>\n",
              "<style scoped>\n",
              "    .dataframe tbody tr th:only-of-type {\n",
              "        vertical-align: middle;\n",
              "    }\n",
              "\n",
              "    .dataframe tbody tr th {\n",
              "        vertical-align: top;\n",
              "    }\n",
              "\n",
              "    .dataframe thead th {\n",
              "        text-align: right;\n",
              "    }\n",
              "</style>\n",
              "<table border=\"1\" class=\"dataframe\">\n",
              "  <thead>\n",
              "    <tr style=\"text-align: right;\">\n",
              "      <th></th>\n",
              "      <th>business_id</th>\n",
              "      <th>postal_code</th>\n",
              "      <th>stars</th>\n",
              "      <th>review_count</th>\n",
              "      <th>is_open</th>\n",
              "      <th>categories</th>\n",
              "    </tr>\n",
              "  </thead>\n",
              "  <tbody>\n",
              "    <tr>\n",
              "      <th>1</th>\n",
              "      <td>QXAEGFB4oINsVuTFxEYKFQ</td>\n",
              "      <td>L5R 3E7</td>\n",
              "      <td>2.5</td>\n",
              "      <td>128</td>\n",
              "      <td>1</td>\n",
              "      <td>Specialty Food, Restaurants, Dim Sum, Imported...</td>\n",
              "    </tr>\n",
              "    <tr>\n",
              "      <th>2</th>\n",
              "      <td>gnKjwL_1w79qoiV3IC_xQQ</td>\n",
              "      <td>28210</td>\n",
              "      <td>4.0</td>\n",
              "      <td>170</td>\n",
              "      <td>1</td>\n",
              "      <td>Sushi Bars, Restaurants, Japanese</td>\n",
              "    </tr>\n",
              "  </tbody>\n",
              "</table>\n",
              "</div>"
            ],
            "text/plain": [
              "              business_id  ...                                         categories\n",
              "1  QXAEGFB4oINsVuTFxEYKFQ  ...  Specialty Food, Restaurants, Dim Sum, Imported...\n",
              "2  gnKjwL_1w79qoiV3IC_xQQ  ...                  Sushi Bars, Restaurants, Japanese\n",
              "\n",
              "[2 rows x 6 columns]"
            ]
          },
          "metadata": {
            "tags": []
          },
          "execution_count": 9
        }
      ]
    },
    {
      "cell_type": "code",
      "metadata": {
        "id": "sXsP3m4D29pD",
        "colab_type": "code",
        "colab": {}
      },
      "source": [
        "user = pd.read_json('user.json',lines=True)"
      ],
      "execution_count": 0,
      "outputs": []
    },
    {
      "cell_type": "code",
      "metadata": {
        "id": "vZL07n-CmAhb",
        "colab_type": "code",
        "outputId": "1ef4a010-ab8a-4e6e-e60a-116ffd565412",
        "colab": {
          "base_uri": "https://localhost:8080/",
          "height": 299
        }
      },
      "source": [
        "user.head()"
      ],
      "execution_count": 11,
      "outputs": [
        {
          "output_type": "execute_result",
          "data": {
            "text/html": [
              "<div>\n",
              "<style scoped>\n",
              "    .dataframe tbody tr th:only-of-type {\n",
              "        vertical-align: middle;\n",
              "    }\n",
              "\n",
              "    .dataframe tbody tr th {\n",
              "        vertical-align: top;\n",
              "    }\n",
              "\n",
              "    .dataframe thead th {\n",
              "        text-align: right;\n",
              "    }\n",
              "</style>\n",
              "<table border=\"1\" class=\"dataframe\">\n",
              "  <thead>\n",
              "    <tr style=\"text-align: right;\">\n",
              "      <th></th>\n",
              "      <th>user_id</th>\n",
              "      <th>name</th>\n",
              "      <th>review_count</th>\n",
              "      <th>yelping_since</th>\n",
              "      <th>useful</th>\n",
              "      <th>funny</th>\n",
              "      <th>cool</th>\n",
              "      <th>elite</th>\n",
              "      <th>friends</th>\n",
              "      <th>fans</th>\n",
              "      <th>average_stars</th>\n",
              "      <th>compliment_hot</th>\n",
              "      <th>compliment_more</th>\n",
              "      <th>compliment_profile</th>\n",
              "      <th>compliment_cute</th>\n",
              "      <th>compliment_list</th>\n",
              "      <th>compliment_note</th>\n",
              "      <th>compliment_plain</th>\n",
              "      <th>compliment_cool</th>\n",
              "      <th>compliment_funny</th>\n",
              "      <th>compliment_writer</th>\n",
              "      <th>compliment_photos</th>\n",
              "    </tr>\n",
              "  </thead>\n",
              "  <tbody>\n",
              "    <tr>\n",
              "      <th>0</th>\n",
              "      <td>l6BmjZMeQD3rDxWUbiAiow</td>\n",
              "      <td>Rashmi</td>\n",
              "      <td>95</td>\n",
              "      <td>2013-10-08 23:11:33</td>\n",
              "      <td>84</td>\n",
              "      <td>17</td>\n",
              "      <td>25</td>\n",
              "      <td>2015,2016,2017</td>\n",
              "      <td>c78V-rj8NQcQjOI8KP3UEA, alRMgPcngYSCJ5naFRBz5g...</td>\n",
              "      <td>5</td>\n",
              "      <td>4.03</td>\n",
              "      <td>2</td>\n",
              "      <td>0</td>\n",
              "      <td>0</td>\n",
              "      <td>0</td>\n",
              "      <td>0</td>\n",
              "      <td>1</td>\n",
              "      <td>1</td>\n",
              "      <td>1</td>\n",
              "      <td>1</td>\n",
              "      <td>2</td>\n",
              "      <td>0</td>\n",
              "    </tr>\n",
              "    <tr>\n",
              "      <th>1</th>\n",
              "      <td>4XChL029mKr5hydo79Ljxg</td>\n",
              "      <td>Jenna</td>\n",
              "      <td>33</td>\n",
              "      <td>2013-02-21 22:29:06</td>\n",
              "      <td>48</td>\n",
              "      <td>22</td>\n",
              "      <td>16</td>\n",
              "      <td></td>\n",
              "      <td>kEBTgDvFX754S68FllfCaA, aB2DynOxNOJK9st2ZeGTPg...</td>\n",
              "      <td>4</td>\n",
              "      <td>3.63</td>\n",
              "      <td>1</td>\n",
              "      <td>0</td>\n",
              "      <td>0</td>\n",
              "      <td>0</td>\n",
              "      <td>0</td>\n",
              "      <td>0</td>\n",
              "      <td>0</td>\n",
              "      <td>1</td>\n",
              "      <td>1</td>\n",
              "      <td>0</td>\n",
              "      <td>0</td>\n",
              "    </tr>\n",
              "    <tr>\n",
              "      <th>2</th>\n",
              "      <td>bc8C_eETBWL0olvFSJJd0w</td>\n",
              "      <td>David</td>\n",
              "      <td>16</td>\n",
              "      <td>2013-10-04 00:16:10</td>\n",
              "      <td>28</td>\n",
              "      <td>8</td>\n",
              "      <td>10</td>\n",
              "      <td></td>\n",
              "      <td>4N-HU_T32hLENLntsNKNBg, pSY2vwWLgWfGVAAiKQzMng...</td>\n",
              "      <td>0</td>\n",
              "      <td>3.71</td>\n",
              "      <td>0</td>\n",
              "      <td>0</td>\n",
              "      <td>0</td>\n",
              "      <td>0</td>\n",
              "      <td>0</td>\n",
              "      <td>1</td>\n",
              "      <td>0</td>\n",
              "      <td>0</td>\n",
              "      <td>0</td>\n",
              "      <td>0</td>\n",
              "      <td>0</td>\n",
              "    </tr>\n",
              "    <tr>\n",
              "      <th>3</th>\n",
              "      <td>dD0gZpBctWGdWo9WlGuhlA</td>\n",
              "      <td>Angela</td>\n",
              "      <td>17</td>\n",
              "      <td>2014-05-22 15:57:30</td>\n",
              "      <td>30</td>\n",
              "      <td>4</td>\n",
              "      <td>14</td>\n",
              "      <td></td>\n",
              "      <td>RZ6wS38wnlXyj-OOdTzBxA, l5jxZh1KsgI8rMunm-GN6A...</td>\n",
              "      <td>5</td>\n",
              "      <td>4.85</td>\n",
              "      <td>1</td>\n",
              "      <td>0</td>\n",
              "      <td>0</td>\n",
              "      <td>0</td>\n",
              "      <td>0</td>\n",
              "      <td>0</td>\n",
              "      <td>2</td>\n",
              "      <td>0</td>\n",
              "      <td>0</td>\n",
              "      <td>1</td>\n",
              "      <td>0</td>\n",
              "    </tr>\n",
              "    <tr>\n",
              "      <th>4</th>\n",
              "      <td>MM4RJAeH6yuaN8oZDSt0RA</td>\n",
              "      <td>Nancy</td>\n",
              "      <td>361</td>\n",
              "      <td>2013-10-23 07:02:50</td>\n",
              "      <td>1114</td>\n",
              "      <td>279</td>\n",
              "      <td>665</td>\n",
              "      <td>2015,2016,2017,2018</td>\n",
              "      <td>mbwrZ-RS76V1HoJ0bF_Geg, g64lOV39xSLRZO0aQQ6DeQ...</td>\n",
              "      <td>39</td>\n",
              "      <td>4.08</td>\n",
              "      <td>28</td>\n",
              "      <td>1</td>\n",
              "      <td>0</td>\n",
              "      <td>0</td>\n",
              "      <td>1</td>\n",
              "      <td>16</td>\n",
              "      <td>57</td>\n",
              "      <td>80</td>\n",
              "      <td>80</td>\n",
              "      <td>25</td>\n",
              "      <td>5</td>\n",
              "    </tr>\n",
              "  </tbody>\n",
              "</table>\n",
              "</div>"
            ],
            "text/plain": [
              "                  user_id    name  ...  compliment_writer compliment_photos\n",
              "0  l6BmjZMeQD3rDxWUbiAiow  Rashmi  ...                  2                 0\n",
              "1  4XChL029mKr5hydo79Ljxg   Jenna  ...                  0                 0\n",
              "2  bc8C_eETBWL0olvFSJJd0w   David  ...                  0                 0\n",
              "3  dD0gZpBctWGdWo9WlGuhlA  Angela  ...                  1                 0\n",
              "4  MM4RJAeH6yuaN8oZDSt0RA   Nancy  ...                 25                 5\n",
              "\n",
              "[5 rows x 22 columns]"
            ]
          },
          "metadata": {
            "tags": []
          },
          "execution_count": 11
        }
      ]
    },
    {
      "cell_type": "code",
      "metadata": {
        "id": "Bkj-pjpTtRd0",
        "colab_type": "code",
        "colab": {}
      },
      "source": [
        "user = user[['user_id','review_count','elite','fans']]"
      ],
      "execution_count": 0,
      "outputs": []
    },
    {
      "cell_type": "code",
      "metadata": {
        "colab_type": "code",
        "id": "zgPdj7t-hNnH",
        "colab": {}
      },
      "source": [
        "review = pd.read_json('review.json',lines=True,chunksize=1000000)"
      ],
      "execution_count": 0,
      "outputs": []
    },
    {
      "cell_type": "code",
      "metadata": {
        "id": "JtyqMzdqt1A3",
        "colab_type": "code",
        "colab": {}
      },
      "source": [
        "review1 = pd.DataFrame()"
      ],
      "execution_count": 0,
      "outputs": []
    },
    {
      "cell_type": "code",
      "metadata": {
        "id": "94K9O5LUt4Zl",
        "colab_type": "code",
        "colab": {}
      },
      "source": [
        "for record in review:\n",
        "    review1 = review1.append(pd.DataFrame(record))"
      ],
      "execution_count": 0,
      "outputs": []
    },
    {
      "cell_type": "code",
      "metadata": {
        "id": "ojUK3P3kqtWr",
        "colab_type": "code",
        "colab": {}
      },
      "source": [
        "review1 = review1[['review_id','user_id','business_id','stars']]"
      ],
      "execution_count": 0,
      "outputs": []
    },
    {
      "cell_type": "code",
      "metadata": {
        "id": "qg6nyZg-uQQz",
        "colab_type": "code",
        "colab": {}
      },
      "source": [
        "user_review = pd.merge(review1,user,how='left',on='user_id')"
      ],
      "execution_count": 0,
      "outputs": []
    },
    {
      "cell_type": "code",
      "metadata": {
        "id": "62-x_3UoxDmV",
        "colab_type": "code",
        "outputId": "7ea43a39-0af3-4be5-8b96-a55435361e7a",
        "colab": {
          "base_uri": "https://localhost:8080/",
          "height": 195
        }
      },
      "source": [
        "user_review.head()"
      ],
      "execution_count": 18,
      "outputs": [
        {
          "output_type": "execute_result",
          "data": {
            "text/html": [
              "<div>\n",
              "<style scoped>\n",
              "    .dataframe tbody tr th:only-of-type {\n",
              "        vertical-align: middle;\n",
              "    }\n",
              "\n",
              "    .dataframe tbody tr th {\n",
              "        vertical-align: top;\n",
              "    }\n",
              "\n",
              "    .dataframe thead th {\n",
              "        text-align: right;\n",
              "    }\n",
              "</style>\n",
              "<table border=\"1\" class=\"dataframe\">\n",
              "  <thead>\n",
              "    <tr style=\"text-align: right;\">\n",
              "      <th></th>\n",
              "      <th>review_id</th>\n",
              "      <th>user_id</th>\n",
              "      <th>business_id</th>\n",
              "      <th>stars</th>\n",
              "      <th>review_count</th>\n",
              "      <th>elite</th>\n",
              "      <th>fans</th>\n",
              "    </tr>\n",
              "  </thead>\n",
              "  <tbody>\n",
              "    <tr>\n",
              "      <th>0</th>\n",
              "      <td>Q1sbwvVQXV2734tPgoKj4Q</td>\n",
              "      <td>hG7b0MtEbXx5QzbzE6C_VA</td>\n",
              "      <td>ujmEBvifdJM6h6RLv4wQIg</td>\n",
              "      <td>1</td>\n",
              "      <td>10</td>\n",
              "      <td></td>\n",
              "      <td>0</td>\n",
              "    </tr>\n",
              "    <tr>\n",
              "      <th>1</th>\n",
              "      <td>GJXCdrto3ASJOqKeVWPi6Q</td>\n",
              "      <td>yXQM5uF2jS6es16SJzNHfg</td>\n",
              "      <td>NZnhc2sEQy3RmzKTZnqtwQ</td>\n",
              "      <td>5</td>\n",
              "      <td>68</td>\n",
              "      <td>2009</td>\n",
              "      <td>3</td>\n",
              "    </tr>\n",
              "    <tr>\n",
              "      <th>2</th>\n",
              "      <td>2TzJjDVDEuAW6MR5Vuc1ug</td>\n",
              "      <td>n6-Gk65cPZL6Uz8qRm3NYw</td>\n",
              "      <td>WTqjgwHlXbSFevF32_DJVw</td>\n",
              "      <td>5</td>\n",
              "      <td>10</td>\n",
              "      <td></td>\n",
              "      <td>1</td>\n",
              "    </tr>\n",
              "    <tr>\n",
              "      <th>3</th>\n",
              "      <td>yi0R0Ugj_xUx_Nek0-_Qig</td>\n",
              "      <td>dacAIZ6fTM6mqwW5uxkskg</td>\n",
              "      <td>ikCg8xy5JIg_NGPx-MSIDA</td>\n",
              "      <td>5</td>\n",
              "      <td>4</td>\n",
              "      <td></td>\n",
              "      <td>0</td>\n",
              "    </tr>\n",
              "    <tr>\n",
              "      <th>4</th>\n",
              "      <td>11a8sVPMUFtaC7_ABRkmtw</td>\n",
              "      <td>ssoyf2_x0EQMed6fgHeMyQ</td>\n",
              "      <td>b1b1eb3uo-w561D0ZfCEiQ</td>\n",
              "      <td>1</td>\n",
              "      <td>2</td>\n",
              "      <td></td>\n",
              "      <td>0</td>\n",
              "    </tr>\n",
              "  </tbody>\n",
              "</table>\n",
              "</div>"
            ],
            "text/plain": [
              "                review_id                 user_id  ... elite  fans\n",
              "0  Q1sbwvVQXV2734tPgoKj4Q  hG7b0MtEbXx5QzbzE6C_VA  ...           0\n",
              "1  GJXCdrto3ASJOqKeVWPi6Q  yXQM5uF2jS6es16SJzNHfg  ...  2009     3\n",
              "2  2TzJjDVDEuAW6MR5Vuc1ug  n6-Gk65cPZL6Uz8qRm3NYw  ...           1\n",
              "3  yi0R0Ugj_xUx_Nek0-_Qig  dacAIZ6fTM6mqwW5uxkskg  ...           0\n",
              "4  11a8sVPMUFtaC7_ABRkmtw  ssoyf2_x0EQMed6fgHeMyQ  ...           0\n",
              "\n",
              "[5 rows x 7 columns]"
            ]
          },
          "metadata": {
            "tags": []
          },
          "execution_count": 18
        }
      ]
    },
    {
      "cell_type": "code",
      "metadata": {
        "id": "ybRTf84ixKcE",
        "colab_type": "code",
        "colab": {}
      },
      "source": [
        "user_review['elite_user'] = np.where(user_review['elite'] != '',1,0)"
      ],
      "execution_count": 0,
      "outputs": []
    },
    {
      "cell_type": "code",
      "metadata": {
        "id": "F7K2ps3_xVwl",
        "colab_type": "code",
        "colab": {}
      },
      "source": [
        "user_review = user_review.drop(['review_id','elite'],axis=1)"
      ],
      "execution_count": 0,
      "outputs": []
    },
    {
      "cell_type": "code",
      "metadata": {
        "id": "Rku1ZAGjxjvO",
        "colab_type": "code",
        "colab": {}
      },
      "source": [
        "user_review = user_review.groupby(['business_id','elite_user']).agg({'user_id':'count','stars':'mean','review_count':'sum','fans':'sum'})"
      ],
      "execution_count": 0,
      "outputs": []
    },
    {
      "cell_type": "code",
      "metadata": {
        "id": "pL-I0jnXy8sm",
        "colab_type": "code",
        "colab": {}
      },
      "source": [
        "user_review = user_review.rename(columns={'user_id':'reviews'})"
      ],
      "execution_count": 0,
      "outputs": []
    },
    {
      "cell_type": "code",
      "metadata": {
        "id": "PQOSa_zdxx2D",
        "colab_type": "code",
        "colab": {}
      },
      "source": [
        "user_review = user_review.reset_index()"
      ],
      "execution_count": 0,
      "outputs": []
    },
    {
      "cell_type": "code",
      "metadata": {
        "id": "bwiwjmVmx6yn",
        "colab_type": "code",
        "outputId": "2585a021-3481-4a1d-b90b-748e1d4f52cc",
        "colab": {
          "base_uri": "https://localhost:8080/",
          "height": 195
        }
      },
      "source": [
        "user_review.head()"
      ],
      "execution_count": 24,
      "outputs": [
        {
          "output_type": "execute_result",
          "data": {
            "text/html": [
              "<div>\n",
              "<style scoped>\n",
              "    .dataframe tbody tr th:only-of-type {\n",
              "        vertical-align: middle;\n",
              "    }\n",
              "\n",
              "    .dataframe tbody tr th {\n",
              "        vertical-align: top;\n",
              "    }\n",
              "\n",
              "    .dataframe thead th {\n",
              "        text-align: right;\n",
              "    }\n",
              "</style>\n",
              "<table border=\"1\" class=\"dataframe\">\n",
              "  <thead>\n",
              "    <tr style=\"text-align: right;\">\n",
              "      <th></th>\n",
              "      <th>business_id</th>\n",
              "      <th>elite_user</th>\n",
              "      <th>reviews</th>\n",
              "      <th>stars</th>\n",
              "      <th>review_count</th>\n",
              "      <th>fans</th>\n",
              "    </tr>\n",
              "  </thead>\n",
              "  <tbody>\n",
              "    <tr>\n",
              "      <th>0</th>\n",
              "      <td>--1UhMGODdWsrMastO9DZw</td>\n",
              "      <td>0</td>\n",
              "      <td>21</td>\n",
              "      <td>4.000000</td>\n",
              "      <td>446</td>\n",
              "      <td>9</td>\n",
              "    </tr>\n",
              "    <tr>\n",
              "      <th>1</th>\n",
              "      <td>--1UhMGODdWsrMastO9DZw</td>\n",
              "      <td>1</td>\n",
              "      <td>5</td>\n",
              "      <td>4.400000</td>\n",
              "      <td>1021</td>\n",
              "      <td>38</td>\n",
              "    </tr>\n",
              "    <tr>\n",
              "      <th>2</th>\n",
              "      <td>--6MefnULPED_I942VcFNA</td>\n",
              "      <td>0</td>\n",
              "      <td>22</td>\n",
              "      <td>2.636364</td>\n",
              "      <td>1618</td>\n",
              "      <td>48</td>\n",
              "    </tr>\n",
              "    <tr>\n",
              "      <th>3</th>\n",
              "      <td>--6MefnULPED_I942VcFNA</td>\n",
              "      <td>1</td>\n",
              "      <td>24</td>\n",
              "      <td>3.666667</td>\n",
              "      <td>12567</td>\n",
              "      <td>1968</td>\n",
              "    </tr>\n",
              "    <tr>\n",
              "      <th>4</th>\n",
              "      <td>--7zmmkVg-IMGaXbuVd0SQ</td>\n",
              "      <td>0</td>\n",
              "      <td>33</td>\n",
              "      <td>3.909091</td>\n",
              "      <td>592</td>\n",
              "      <td>17</td>\n",
              "    </tr>\n",
              "  </tbody>\n",
              "</table>\n",
              "</div>"
            ],
            "text/plain": [
              "              business_id  elite_user  reviews     stars  review_count  fans\n",
              "0  --1UhMGODdWsrMastO9DZw           0       21  4.000000           446     9\n",
              "1  --1UhMGODdWsrMastO9DZw           1        5  4.400000          1021    38\n",
              "2  --6MefnULPED_I942VcFNA           0       22  2.636364          1618    48\n",
              "3  --6MefnULPED_I942VcFNA           1       24  3.666667         12567  1968\n",
              "4  --7zmmkVg-IMGaXbuVd0SQ           0       33  3.909091           592    17"
            ]
          },
          "metadata": {
            "tags": []
          },
          "execution_count": 24
        }
      ]
    },
    {
      "cell_type": "code",
      "metadata": {
        "id": "00jO3JMZ0O0I",
        "colab_type": "code",
        "colab": {}
      },
      "source": [
        "user_review = pd.pivot_table(user_review,values = ['reviews','stars','review_count','fans'],index='business_id',columns='elite_user')"
      ],
      "execution_count": 0,
      "outputs": []
    },
    {
      "cell_type": "code",
      "metadata": {
        "id": "65gQto2h0t7J",
        "colab_type": "code",
        "outputId": "d4359725-aa83-4522-a6f7-18520c7e30ae",
        "colab": {
          "base_uri": "https://localhost:8080/",
          "height": 254
        }
      },
      "source": [
        "user_review.head()"
      ],
      "execution_count": 26,
      "outputs": [
        {
          "output_type": "execute_result",
          "data": {
            "text/html": [
              "<div>\n",
              "<style scoped>\n",
              "    .dataframe tbody tr th:only-of-type {\n",
              "        vertical-align: middle;\n",
              "    }\n",
              "\n",
              "    .dataframe tbody tr th {\n",
              "        vertical-align: top;\n",
              "    }\n",
              "\n",
              "    .dataframe thead tr th {\n",
              "        text-align: left;\n",
              "    }\n",
              "\n",
              "    .dataframe thead tr:last-of-type th {\n",
              "        text-align: right;\n",
              "    }\n",
              "</style>\n",
              "<table border=\"1\" class=\"dataframe\">\n",
              "  <thead>\n",
              "    <tr>\n",
              "      <th></th>\n",
              "      <th colspan=\"2\" halign=\"left\">fans</th>\n",
              "      <th colspan=\"2\" halign=\"left\">review_count</th>\n",
              "      <th colspan=\"2\" halign=\"left\">reviews</th>\n",
              "      <th colspan=\"2\" halign=\"left\">stars</th>\n",
              "    </tr>\n",
              "    <tr>\n",
              "      <th>elite_user</th>\n",
              "      <th>0</th>\n",
              "      <th>1</th>\n",
              "      <th>0</th>\n",
              "      <th>1</th>\n",
              "      <th>0</th>\n",
              "      <th>1</th>\n",
              "      <th>0</th>\n",
              "      <th>1</th>\n",
              "    </tr>\n",
              "    <tr>\n",
              "      <th>business_id</th>\n",
              "      <th></th>\n",
              "      <th></th>\n",
              "      <th></th>\n",
              "      <th></th>\n",
              "      <th></th>\n",
              "      <th></th>\n",
              "      <th></th>\n",
              "      <th></th>\n",
              "    </tr>\n",
              "  </thead>\n",
              "  <tbody>\n",
              "    <tr>\n",
              "      <th>--1UhMGODdWsrMastO9DZw</th>\n",
              "      <td>9.0</td>\n",
              "      <td>38.0</td>\n",
              "      <td>446.0</td>\n",
              "      <td>1021.0</td>\n",
              "      <td>21.0</td>\n",
              "      <td>5.0</td>\n",
              "      <td>4.000000</td>\n",
              "      <td>4.400000</td>\n",
              "    </tr>\n",
              "    <tr>\n",
              "      <th>--6MefnULPED_I942VcFNA</th>\n",
              "      <td>48.0</td>\n",
              "      <td>1968.0</td>\n",
              "      <td>1618.0</td>\n",
              "      <td>12567.0</td>\n",
              "      <td>22.0</td>\n",
              "      <td>24.0</td>\n",
              "      <td>2.636364</td>\n",
              "      <td>3.666667</td>\n",
              "    </tr>\n",
              "    <tr>\n",
              "      <th>--7zmmkVg-IMGaXbuVd0SQ</th>\n",
              "      <td>17.0</td>\n",
              "      <td>1150.0</td>\n",
              "      <td>592.0</td>\n",
              "      <td>11518.0</td>\n",
              "      <td>33.0</td>\n",
              "      <td>26.0</td>\n",
              "      <td>3.909091</td>\n",
              "      <td>3.884615</td>\n",
              "    </tr>\n",
              "    <tr>\n",
              "      <th>--8LPVSo5i0Oo61X01sV9A</th>\n",
              "      <td>2.0</td>\n",
              "      <td>NaN</td>\n",
              "      <td>30.0</td>\n",
              "      <td>NaN</td>\n",
              "      <td>4.0</td>\n",
              "      <td>NaN</td>\n",
              "      <td>3.500000</td>\n",
              "      <td>NaN</td>\n",
              "    </tr>\n",
              "    <tr>\n",
              "      <th>--9QQLMTbFzLJ_oT-ON3Xw</th>\n",
              "      <td>8.0</td>\n",
              "      <td>5.0</td>\n",
              "      <td>328.0</td>\n",
              "      <td>139.0</td>\n",
              "      <td>12.0</td>\n",
              "      <td>1.0</td>\n",
              "      <td>3.250000</td>\n",
              "      <td>4.000000</td>\n",
              "    </tr>\n",
              "  </tbody>\n",
              "</table>\n",
              "</div>"
            ],
            "text/plain": [
              "                        fans         review_count  ... reviews     stars          \n",
              "elite_user                 0       1            0  ...       1         0         1\n",
              "business_id                                        ...                            \n",
              "--1UhMGODdWsrMastO9DZw   9.0    38.0        446.0  ...     5.0  4.000000  4.400000\n",
              "--6MefnULPED_I942VcFNA  48.0  1968.0       1618.0  ...    24.0  2.636364  3.666667\n",
              "--7zmmkVg-IMGaXbuVd0SQ  17.0  1150.0        592.0  ...    26.0  3.909091  3.884615\n",
              "--8LPVSo5i0Oo61X01sV9A   2.0     NaN         30.0  ...     NaN  3.500000       NaN\n",
              "--9QQLMTbFzLJ_oT-ON3Xw   8.0     5.0        328.0  ...     1.0  3.250000  4.000000\n",
              "\n",
              "[5 rows x 8 columns]"
            ]
          },
          "metadata": {
            "tags": []
          },
          "execution_count": 26
        }
      ]
    },
    {
      "cell_type": "code",
      "metadata": {
        "id": "ROVGJOAR1nvL",
        "colab_type": "code",
        "colab": {}
      },
      "source": [
        "user_review = user_review.reset_index()"
      ],
      "execution_count": 0,
      "outputs": []
    },
    {
      "cell_type": "code",
      "metadata": {
        "id": "FnncSnw775-5",
        "colab_type": "code",
        "colab": {}
      },
      "source": [
        "user_review.columns = ['business_id','Non_elite_fans','elite_fans','Non_elite_total_reviews','elite_total_reviews','Non_elite_rest_reviews','elite_rest_reviews','Non_elite_rating','elite_rating']"
      ],
      "execution_count": 0,
      "outputs": []
    },
    {
      "cell_type": "code",
      "metadata": {
        "id": "qytsDhrvCQX1",
        "colab_type": "code",
        "outputId": "589b29ed-92c2-4e8c-b28d-48a228d42bd3",
        "colab": {
          "base_uri": "https://localhost:8080/",
          "height": 195
        }
      },
      "source": [
        "user_review.head()"
      ],
      "execution_count": 29,
      "outputs": [
        {
          "output_type": "execute_result",
          "data": {
            "text/html": [
              "<div>\n",
              "<style scoped>\n",
              "    .dataframe tbody tr th:only-of-type {\n",
              "        vertical-align: middle;\n",
              "    }\n",
              "\n",
              "    .dataframe tbody tr th {\n",
              "        vertical-align: top;\n",
              "    }\n",
              "\n",
              "    .dataframe thead th {\n",
              "        text-align: right;\n",
              "    }\n",
              "</style>\n",
              "<table border=\"1\" class=\"dataframe\">\n",
              "  <thead>\n",
              "    <tr style=\"text-align: right;\">\n",
              "      <th></th>\n",
              "      <th>business_id</th>\n",
              "      <th>Non_elite_fans</th>\n",
              "      <th>elite_fans</th>\n",
              "      <th>Non_elite_total_reviews</th>\n",
              "      <th>elite_total_reviews</th>\n",
              "      <th>Non_elite_rest_reviews</th>\n",
              "      <th>elite_rest_reviews</th>\n",
              "      <th>Non_elite_rating</th>\n",
              "      <th>elite_rating</th>\n",
              "    </tr>\n",
              "  </thead>\n",
              "  <tbody>\n",
              "    <tr>\n",
              "      <th>0</th>\n",
              "      <td>--1UhMGODdWsrMastO9DZw</td>\n",
              "      <td>9.0</td>\n",
              "      <td>38.0</td>\n",
              "      <td>446.0</td>\n",
              "      <td>1021.0</td>\n",
              "      <td>21.0</td>\n",
              "      <td>5.0</td>\n",
              "      <td>4.000000</td>\n",
              "      <td>4.400000</td>\n",
              "    </tr>\n",
              "    <tr>\n",
              "      <th>1</th>\n",
              "      <td>--6MefnULPED_I942VcFNA</td>\n",
              "      <td>48.0</td>\n",
              "      <td>1968.0</td>\n",
              "      <td>1618.0</td>\n",
              "      <td>12567.0</td>\n",
              "      <td>22.0</td>\n",
              "      <td>24.0</td>\n",
              "      <td>2.636364</td>\n",
              "      <td>3.666667</td>\n",
              "    </tr>\n",
              "    <tr>\n",
              "      <th>2</th>\n",
              "      <td>--7zmmkVg-IMGaXbuVd0SQ</td>\n",
              "      <td>17.0</td>\n",
              "      <td>1150.0</td>\n",
              "      <td>592.0</td>\n",
              "      <td>11518.0</td>\n",
              "      <td>33.0</td>\n",
              "      <td>26.0</td>\n",
              "      <td>3.909091</td>\n",
              "      <td>3.884615</td>\n",
              "    </tr>\n",
              "    <tr>\n",
              "      <th>3</th>\n",
              "      <td>--8LPVSo5i0Oo61X01sV9A</td>\n",
              "      <td>2.0</td>\n",
              "      <td>NaN</td>\n",
              "      <td>30.0</td>\n",
              "      <td>NaN</td>\n",
              "      <td>4.0</td>\n",
              "      <td>NaN</td>\n",
              "      <td>3.500000</td>\n",
              "      <td>NaN</td>\n",
              "    </tr>\n",
              "    <tr>\n",
              "      <th>4</th>\n",
              "      <td>--9QQLMTbFzLJ_oT-ON3Xw</td>\n",
              "      <td>8.0</td>\n",
              "      <td>5.0</td>\n",
              "      <td>328.0</td>\n",
              "      <td>139.0</td>\n",
              "      <td>12.0</td>\n",
              "      <td>1.0</td>\n",
              "      <td>3.250000</td>\n",
              "      <td>4.000000</td>\n",
              "    </tr>\n",
              "  </tbody>\n",
              "</table>\n",
              "</div>"
            ],
            "text/plain": [
              "              business_id  Non_elite_fans  ...  Non_elite_rating  elite_rating\n",
              "0  --1UhMGODdWsrMastO9DZw             9.0  ...          4.000000      4.400000\n",
              "1  --6MefnULPED_I942VcFNA            48.0  ...          2.636364      3.666667\n",
              "2  --7zmmkVg-IMGaXbuVd0SQ            17.0  ...          3.909091      3.884615\n",
              "3  --8LPVSo5i0Oo61X01sV9A             2.0  ...          3.500000           NaN\n",
              "4  --9QQLMTbFzLJ_oT-ON3Xw             8.0  ...          3.250000      4.000000\n",
              "\n",
              "[5 rows x 9 columns]"
            ]
          },
          "metadata": {
            "tags": []
          },
          "execution_count": 29
        }
      ]
    },
    {
      "cell_type": "code",
      "metadata": {
        "id": "Z09sWHWbhm8a",
        "colab_type": "code",
        "colab": {}
      },
      "source": [
        "checkin = pd.read_json('checkin.json',lines=True)"
      ],
      "execution_count": 0,
      "outputs": []
    },
    {
      "cell_type": "code",
      "metadata": {
        "id": "MNbWqKAEvT8d",
        "colab_type": "code",
        "outputId": "1e579d0b-ec92-459d-84a8-81d6ca32389b",
        "colab": {
          "base_uri": "https://localhost:8080/",
          "height": 195
        }
      },
      "source": [
        "checkin.head()"
      ],
      "execution_count": 31,
      "outputs": [
        {
          "output_type": "execute_result",
          "data": {
            "text/html": [
              "<div>\n",
              "<style scoped>\n",
              "    .dataframe tbody tr th:only-of-type {\n",
              "        vertical-align: middle;\n",
              "    }\n",
              "\n",
              "    .dataframe tbody tr th {\n",
              "        vertical-align: top;\n",
              "    }\n",
              "\n",
              "    .dataframe thead th {\n",
              "        text-align: right;\n",
              "    }\n",
              "</style>\n",
              "<table border=\"1\" class=\"dataframe\">\n",
              "  <thead>\n",
              "    <tr style=\"text-align: right;\">\n",
              "      <th></th>\n",
              "      <th>business_id</th>\n",
              "      <th>date</th>\n",
              "    </tr>\n",
              "  </thead>\n",
              "  <tbody>\n",
              "    <tr>\n",
              "      <th>0</th>\n",
              "      <td>--1UhMGODdWsrMastO9DZw</td>\n",
              "      <td>2016-04-26 19:49:16, 2016-08-30 18:36:57, 2016...</td>\n",
              "    </tr>\n",
              "    <tr>\n",
              "      <th>1</th>\n",
              "      <td>--6MefnULPED_I942VcFNA</td>\n",
              "      <td>2011-06-04 18:22:23, 2011-07-23 23:51:33, 2012...</td>\n",
              "    </tr>\n",
              "    <tr>\n",
              "      <th>2</th>\n",
              "      <td>--7zmmkVg-IMGaXbuVd0SQ</td>\n",
              "      <td>2014-12-29 19:25:50, 2015-01-17 01:49:14, 2015...</td>\n",
              "    </tr>\n",
              "    <tr>\n",
              "      <th>3</th>\n",
              "      <td>--8LPVSo5i0Oo61X01sV9A</td>\n",
              "      <td>2016-07-08 16:43:30</td>\n",
              "    </tr>\n",
              "    <tr>\n",
              "      <th>4</th>\n",
              "      <td>--9QQLMTbFzLJ_oT-ON3Xw</td>\n",
              "      <td>2010-06-26 17:39:07, 2010-08-01 20:06:21, 2010...</td>\n",
              "    </tr>\n",
              "  </tbody>\n",
              "</table>\n",
              "</div>"
            ],
            "text/plain": [
              "              business_id                                               date\n",
              "0  --1UhMGODdWsrMastO9DZw  2016-04-26 19:49:16, 2016-08-30 18:36:57, 2016...\n",
              "1  --6MefnULPED_I942VcFNA  2011-06-04 18:22:23, 2011-07-23 23:51:33, 2012...\n",
              "2  --7zmmkVg-IMGaXbuVd0SQ  2014-12-29 19:25:50, 2015-01-17 01:49:14, 2015...\n",
              "3  --8LPVSo5i0Oo61X01sV9A                                2016-07-08 16:43:30\n",
              "4  --9QQLMTbFzLJ_oT-ON3Xw  2010-06-26 17:39:07, 2010-08-01 20:06:21, 2010..."
            ]
          },
          "metadata": {
            "tags": []
          },
          "execution_count": 31
        }
      ]
    },
    {
      "cell_type": "code",
      "metadata": {
        "colab_type": "code",
        "id": "SWvSF86qhNAE",
        "colab": {}
      },
      "source": [
        "checkin['date'] = checkin['date'].str.split(',').tolist()"
      ],
      "execution_count": 0,
      "outputs": []
    },
    {
      "cell_type": "code",
      "metadata": {
        "colab_type": "code",
        "id": "ZTuK64UGhMQC",
        "colab": {}
      },
      "source": [
        "checkin = checkin.explode('date')"
      ],
      "execution_count": 0,
      "outputs": []
    },
    {
      "cell_type": "code",
      "metadata": {
        "colab_type": "code",
        "id": "AXRbilzshLrU",
        "colab": {}
      },
      "source": [
        "checkin['date'] = pd.to_datetime(checkin['date'])\n",
        "checkin['year'] = pd.DatetimeIndex(checkin['date']).year"
      ],
      "execution_count": 0,
      "outputs": []
    },
    {
      "cell_type": "code",
      "metadata": {
        "id": "ULyTkxtQ9rmP",
        "colab_type": "code",
        "outputId": "e9d6dee5-3614-414a-a4d2-74c2b3616f83",
        "colab": {
          "base_uri": "https://localhost:8080/",
          "height": 195
        }
      },
      "source": [
        "checkin.head()"
      ],
      "execution_count": 35,
      "outputs": [
        {
          "output_type": "execute_result",
          "data": {
            "text/html": [
              "<div>\n",
              "<style scoped>\n",
              "    .dataframe tbody tr th:only-of-type {\n",
              "        vertical-align: middle;\n",
              "    }\n",
              "\n",
              "    .dataframe tbody tr th {\n",
              "        vertical-align: top;\n",
              "    }\n",
              "\n",
              "    .dataframe thead th {\n",
              "        text-align: right;\n",
              "    }\n",
              "</style>\n",
              "<table border=\"1\" class=\"dataframe\">\n",
              "  <thead>\n",
              "    <tr style=\"text-align: right;\">\n",
              "      <th></th>\n",
              "      <th>business_id</th>\n",
              "      <th>date</th>\n",
              "      <th>year</th>\n",
              "    </tr>\n",
              "  </thead>\n",
              "  <tbody>\n",
              "    <tr>\n",
              "      <th>0</th>\n",
              "      <td>--1UhMGODdWsrMastO9DZw</td>\n",
              "      <td>2016-04-26 19:49:16</td>\n",
              "      <td>2016</td>\n",
              "    </tr>\n",
              "    <tr>\n",
              "      <th>0</th>\n",
              "      <td>--1UhMGODdWsrMastO9DZw</td>\n",
              "      <td>2016-08-30 18:36:57</td>\n",
              "      <td>2016</td>\n",
              "    </tr>\n",
              "    <tr>\n",
              "      <th>0</th>\n",
              "      <td>--1UhMGODdWsrMastO9DZw</td>\n",
              "      <td>2016-10-15 02:45:18</td>\n",
              "      <td>2016</td>\n",
              "    </tr>\n",
              "    <tr>\n",
              "      <th>0</th>\n",
              "      <td>--1UhMGODdWsrMastO9DZw</td>\n",
              "      <td>2016-11-18 01:54:50</td>\n",
              "      <td>2016</td>\n",
              "    </tr>\n",
              "    <tr>\n",
              "      <th>0</th>\n",
              "      <td>--1UhMGODdWsrMastO9DZw</td>\n",
              "      <td>2017-04-20 18:39:06</td>\n",
              "      <td>2017</td>\n",
              "    </tr>\n",
              "  </tbody>\n",
              "</table>\n",
              "</div>"
            ],
            "text/plain": [
              "              business_id                date  year\n",
              "0  --1UhMGODdWsrMastO9DZw 2016-04-26 19:49:16  2016\n",
              "0  --1UhMGODdWsrMastO9DZw 2016-08-30 18:36:57  2016\n",
              "0  --1UhMGODdWsrMastO9DZw 2016-10-15 02:45:18  2016\n",
              "0  --1UhMGODdWsrMastO9DZw 2016-11-18 01:54:50  2016\n",
              "0  --1UhMGODdWsrMastO9DZw 2017-04-20 18:39:06  2017"
            ]
          },
          "metadata": {
            "tags": []
          },
          "execution_count": 35
        }
      ]
    },
    {
      "cell_type": "code",
      "metadata": {
        "id": "j-GV8kHovheO",
        "colab_type": "code",
        "colab": {}
      },
      "source": [
        "checkin = checkin.groupby(['business_id','year']).count().reset_index()"
      ],
      "execution_count": 0,
      "outputs": []
    },
    {
      "cell_type": "code",
      "metadata": {
        "id": "5WNKNjz1voJM",
        "colab_type": "code",
        "colab": {}
      },
      "source": [
        "checkin = checkin.groupby('business_id').mean().reset_index()"
      ],
      "execution_count": 0,
      "outputs": []
    },
    {
      "cell_type": "code",
      "metadata": {
        "id": "mUMHv9Ipv_GJ",
        "colab_type": "code",
        "outputId": "8dd47436-7330-4158-edef-5a8c8b934bbb",
        "colab": {
          "base_uri": "https://localhost:8080/",
          "height": 195
        }
      },
      "source": [
        "checkin.head()"
      ],
      "execution_count": 38,
      "outputs": [
        {
          "output_type": "execute_result",
          "data": {
            "text/html": [
              "<div>\n",
              "<style scoped>\n",
              "    .dataframe tbody tr th:only-of-type {\n",
              "        vertical-align: middle;\n",
              "    }\n",
              "\n",
              "    .dataframe tbody tr th {\n",
              "        vertical-align: top;\n",
              "    }\n",
              "\n",
              "    .dataframe thead th {\n",
              "        text-align: right;\n",
              "    }\n",
              "</style>\n",
              "<table border=\"1\" class=\"dataframe\">\n",
              "  <thead>\n",
              "    <tr style=\"text-align: right;\">\n",
              "      <th></th>\n",
              "      <th>business_id</th>\n",
              "      <th>year</th>\n",
              "      <th>date</th>\n",
              "    </tr>\n",
              "  </thead>\n",
              "  <tbody>\n",
              "    <tr>\n",
              "      <th>0</th>\n",
              "      <td>--1UhMGODdWsrMastO9DZw</td>\n",
              "      <td>2016.5</td>\n",
              "      <td>3.000000</td>\n",
              "    </tr>\n",
              "    <tr>\n",
              "      <th>1</th>\n",
              "      <td>--6MefnULPED_I942VcFNA</td>\n",
              "      <td>2014.5</td>\n",
              "      <td>20.875000</td>\n",
              "    </tr>\n",
              "    <tr>\n",
              "      <th>2</th>\n",
              "      <td>--7zmmkVg-IMGaXbuVd0SQ</td>\n",
              "      <td>2016.0</td>\n",
              "      <td>36.000000</td>\n",
              "    </tr>\n",
              "    <tr>\n",
              "      <th>3</th>\n",
              "      <td>--8LPVSo5i0Oo61X01sV9A</td>\n",
              "      <td>2016.0</td>\n",
              "      <td>1.000000</td>\n",
              "    </tr>\n",
              "    <tr>\n",
              "      <th>4</th>\n",
              "      <td>--9QQLMTbFzLJ_oT-ON3Xw</td>\n",
              "      <td>2014.0</td>\n",
              "      <td>4.111111</td>\n",
              "    </tr>\n",
              "  </tbody>\n",
              "</table>\n",
              "</div>"
            ],
            "text/plain": [
              "              business_id    year       date\n",
              "0  --1UhMGODdWsrMastO9DZw  2016.5   3.000000\n",
              "1  --6MefnULPED_I942VcFNA  2014.5  20.875000\n",
              "2  --7zmmkVg-IMGaXbuVd0SQ  2016.0  36.000000\n",
              "3  --8LPVSo5i0Oo61X01sV9A  2016.0   1.000000\n",
              "4  --9QQLMTbFzLJ_oT-ON3Xw  2014.0   4.111111"
            ]
          },
          "metadata": {
            "tags": []
          },
          "execution_count": 38
        }
      ]
    },
    {
      "cell_type": "code",
      "metadata": {
        "id": "nmDOIQu51G1_",
        "colab_type": "code",
        "colab": {}
      },
      "source": [
        "checkin = checkin.rename(columns={'date':'avg_checkins_peryear'})"
      ],
      "execution_count": 0,
      "outputs": []
    },
    {
      "cell_type": "code",
      "metadata": {
        "id": "yQDvSPTywIYs",
        "colab_type": "code",
        "colab": {}
      },
      "source": [
        "checkin = checkin.drop('year',axis=1)"
      ],
      "execution_count": 0,
      "outputs": []
    },
    {
      "cell_type": "code",
      "metadata": {
        "id": "XS4xYkZw9sij",
        "colab_type": "code",
        "outputId": "09e88687-d832-4fe4-cf25-944fb9cdb1be",
        "colab": {
          "base_uri": "https://localhost:8080/",
          "height": 195
        }
      },
      "source": [
        "checkin.head()"
      ],
      "execution_count": 41,
      "outputs": [
        {
          "output_type": "execute_result",
          "data": {
            "text/html": [
              "<div>\n",
              "<style scoped>\n",
              "    .dataframe tbody tr th:only-of-type {\n",
              "        vertical-align: middle;\n",
              "    }\n",
              "\n",
              "    .dataframe tbody tr th {\n",
              "        vertical-align: top;\n",
              "    }\n",
              "\n",
              "    .dataframe thead th {\n",
              "        text-align: right;\n",
              "    }\n",
              "</style>\n",
              "<table border=\"1\" class=\"dataframe\">\n",
              "  <thead>\n",
              "    <tr style=\"text-align: right;\">\n",
              "      <th></th>\n",
              "      <th>business_id</th>\n",
              "      <th>avg_checkins_peryear</th>\n",
              "    </tr>\n",
              "  </thead>\n",
              "  <tbody>\n",
              "    <tr>\n",
              "      <th>0</th>\n",
              "      <td>--1UhMGODdWsrMastO9DZw</td>\n",
              "      <td>3.000000</td>\n",
              "    </tr>\n",
              "    <tr>\n",
              "      <th>1</th>\n",
              "      <td>--6MefnULPED_I942VcFNA</td>\n",
              "      <td>20.875000</td>\n",
              "    </tr>\n",
              "    <tr>\n",
              "      <th>2</th>\n",
              "      <td>--7zmmkVg-IMGaXbuVd0SQ</td>\n",
              "      <td>36.000000</td>\n",
              "    </tr>\n",
              "    <tr>\n",
              "      <th>3</th>\n",
              "      <td>--8LPVSo5i0Oo61X01sV9A</td>\n",
              "      <td>1.000000</td>\n",
              "    </tr>\n",
              "    <tr>\n",
              "      <th>4</th>\n",
              "      <td>--9QQLMTbFzLJ_oT-ON3Xw</td>\n",
              "      <td>4.111111</td>\n",
              "    </tr>\n",
              "  </tbody>\n",
              "</table>\n",
              "</div>"
            ],
            "text/plain": [
              "              business_id  avg_checkins_peryear\n",
              "0  --1UhMGODdWsrMastO9DZw              3.000000\n",
              "1  --6MefnULPED_I942VcFNA             20.875000\n",
              "2  --7zmmkVg-IMGaXbuVd0SQ             36.000000\n",
              "3  --8LPVSo5i0Oo61X01sV9A              1.000000\n",
              "4  --9QQLMTbFzLJ_oT-ON3Xw              4.111111"
            ]
          },
          "metadata": {
            "tags": []
          },
          "execution_count": 41
        }
      ]
    },
    {
      "cell_type": "code",
      "metadata": {
        "id": "d_AxN23FFieb",
        "colab_type": "code",
        "colab": {}
      },
      "source": [
        "restaurants_postal = business[business['postal_code'].notnull()]"
      ],
      "execution_count": 0,
      "outputs": []
    },
    {
      "cell_type": "code",
      "metadata": {
        "id": "yBjo4rW8B6zd",
        "colab_type": "code",
        "outputId": "859fb542-6167-40e8-8a83-2fec1c7b88c6",
        "colab": {
          "base_uri": "https://localhost:8080/",
          "height": 195
        }
      },
      "source": [
        "restaurants_postal.head()"
      ],
      "execution_count": 43,
      "outputs": [
        {
          "output_type": "execute_result",
          "data": {
            "text/html": [
              "<div>\n",
              "<style scoped>\n",
              "    .dataframe tbody tr th:only-of-type {\n",
              "        vertical-align: middle;\n",
              "    }\n",
              "\n",
              "    .dataframe tbody tr th {\n",
              "        vertical-align: top;\n",
              "    }\n",
              "\n",
              "    .dataframe thead th {\n",
              "        text-align: right;\n",
              "    }\n",
              "</style>\n",
              "<table border=\"1\" class=\"dataframe\">\n",
              "  <thead>\n",
              "    <tr style=\"text-align: right;\">\n",
              "      <th></th>\n",
              "      <th>business_id</th>\n",
              "      <th>postal_code</th>\n",
              "      <th>stars</th>\n",
              "      <th>review_count</th>\n",
              "      <th>is_open</th>\n",
              "      <th>categories</th>\n",
              "    </tr>\n",
              "  </thead>\n",
              "  <tbody>\n",
              "    <tr>\n",
              "      <th>1</th>\n",
              "      <td>QXAEGFB4oINsVuTFxEYKFQ</td>\n",
              "      <td>L5R 3E7</td>\n",
              "      <td>2.5</td>\n",
              "      <td>128</td>\n",
              "      <td>1</td>\n",
              "      <td>Specialty Food, Restaurants, Dim Sum, Imported...</td>\n",
              "    </tr>\n",
              "    <tr>\n",
              "      <th>2</th>\n",
              "      <td>gnKjwL_1w79qoiV3IC_xQQ</td>\n",
              "      <td>28210</td>\n",
              "      <td>4.0</td>\n",
              "      <td>170</td>\n",
              "      <td>1</td>\n",
              "      <td>Sushi Bars, Restaurants, Japanese</td>\n",
              "    </tr>\n",
              "    <tr>\n",
              "      <th>11</th>\n",
              "      <td>1Dfx3zM-rW4n-31KeC8sJg</td>\n",
              "      <td>85016</td>\n",
              "      <td>3.0</td>\n",
              "      <td>18</td>\n",
              "      <td>1</td>\n",
              "      <td>Restaurants, Breakfast &amp; Brunch, Mexican, Taco...</td>\n",
              "    </tr>\n",
              "    <tr>\n",
              "      <th>13</th>\n",
              "      <td>fweCYi8FmbJXHCqLnwuk8w</td>\n",
              "      <td>44060</td>\n",
              "      <td>4.0</td>\n",
              "      <td>16</td>\n",
              "      <td>1</td>\n",
              "      <td>Italian, Restaurants, Pizza, Chicken Wings</td>\n",
              "    </tr>\n",
              "    <tr>\n",
              "      <th>17</th>\n",
              "      <td>PZ-LZzSlhSe9utkQYU8pFg</td>\n",
              "      <td>89119</td>\n",
              "      <td>4.0</td>\n",
              "      <td>40</td>\n",
              "      <td>0</td>\n",
              "      <td>Restaurants, Italian</td>\n",
              "    </tr>\n",
              "  </tbody>\n",
              "</table>\n",
              "</div>"
            ],
            "text/plain": [
              "               business_id  ...                                         categories\n",
              "1   QXAEGFB4oINsVuTFxEYKFQ  ...  Specialty Food, Restaurants, Dim Sum, Imported...\n",
              "2   gnKjwL_1w79qoiV3IC_xQQ  ...                  Sushi Bars, Restaurants, Japanese\n",
              "11  1Dfx3zM-rW4n-31KeC8sJg  ...  Restaurants, Breakfast & Brunch, Mexican, Taco...\n",
              "13  fweCYi8FmbJXHCqLnwuk8w  ...         Italian, Restaurants, Pizza, Chicken Wings\n",
              "17  PZ-LZzSlhSe9utkQYU8pFg  ...                               Restaurants, Italian\n",
              "\n",
              "[5 rows x 6 columns]"
            ]
          },
          "metadata": {
            "tags": []
          },
          "execution_count": 43
        }
      ]
    },
    {
      "cell_type": "code",
      "metadata": {
        "id": "KtGFY00fEuIg",
        "colab_type": "code",
        "colab": {}
      },
      "source": [
        "restaurants_postal = restaurants_postal.groupby(['postal_code'])['business_id'].count()"
      ],
      "execution_count": 0,
      "outputs": []
    },
    {
      "cell_type": "code",
      "metadata": {
        "id": "_ZpynnfeE8FH",
        "colab_type": "code",
        "colab": {}
      },
      "source": [
        "restaurants_postal = restaurants_postal.reset_index()"
      ],
      "execution_count": 0,
      "outputs": []
    },
    {
      "cell_type": "code",
      "metadata": {
        "id": "RrwF6OR7CTgS",
        "colab_type": "code",
        "colab": {}
      },
      "source": [
        "restaurants_postal = restaurants_postal.rename(columns={'business_id':'total_restaurants'})"
      ],
      "execution_count": 0,
      "outputs": []
    },
    {
      "cell_type": "code",
      "metadata": {
        "id": "ZSZx5OLsBlhf",
        "colab_type": "code",
        "outputId": "c019e75c-bdec-4f6f-ebdc-a3bc47f27b35",
        "colab": {
          "base_uri": "https://localhost:8080/",
          "height": 195
        }
      },
      "source": [
        "restaurants_postal.head()"
      ],
      "execution_count": 47,
      "outputs": [
        {
          "output_type": "execute_result",
          "data": {
            "text/html": [
              "<div>\n",
              "<style scoped>\n",
              "    .dataframe tbody tr th:only-of-type {\n",
              "        vertical-align: middle;\n",
              "    }\n",
              "\n",
              "    .dataframe tbody tr th {\n",
              "        vertical-align: top;\n",
              "    }\n",
              "\n",
              "    .dataframe thead th {\n",
              "        text-align: right;\n",
              "    }\n",
              "</style>\n",
              "<table border=\"1\" class=\"dataframe\">\n",
              "  <thead>\n",
              "    <tr style=\"text-align: right;\">\n",
              "      <th></th>\n",
              "      <th>postal_code</th>\n",
              "      <th>total_restaurants</th>\n",
              "    </tr>\n",
              "  </thead>\n",
              "  <tbody>\n",
              "    <tr>\n",
              "      <th>0</th>\n",
              "      <td></td>\n",
              "      <td>102</td>\n",
              "    </tr>\n",
              "    <tr>\n",
              "      <th>1</th>\n",
              "      <td>05440</td>\n",
              "      <td>1</td>\n",
              "    </tr>\n",
              "    <tr>\n",
              "      <th>2</th>\n",
              "      <td>12919</td>\n",
              "      <td>5</td>\n",
              "    </tr>\n",
              "    <tr>\n",
              "      <th>3</th>\n",
              "      <td>12958</td>\n",
              "      <td>1</td>\n",
              "    </tr>\n",
              "    <tr>\n",
              "      <th>4</th>\n",
              "      <td>12979</td>\n",
              "      <td>6</td>\n",
              "    </tr>\n",
              "  </tbody>\n",
              "</table>\n",
              "</div>"
            ],
            "text/plain": [
              "  postal_code  total_restaurants\n",
              "0                            102\n",
              "1       05440                  1\n",
              "2       12919                  5\n",
              "3       12958                  1\n",
              "4       12979                  6"
            ]
          },
          "metadata": {
            "tags": []
          },
          "execution_count": 47
        }
      ]
    },
    {
      "cell_type": "code",
      "metadata": {
        "id": "1hY1DDlfMQt5",
        "colab_type": "code",
        "colab": {}
      },
      "source": [
        "photo = pd.read_json('photo.json',lines=True)"
      ],
      "execution_count": 0,
      "outputs": []
    },
    {
      "cell_type": "code",
      "metadata": {
        "id": "tDxYN1GkMV2r",
        "colab_type": "code",
        "colab": {}
      },
      "source": [
        "photo = photo.groupby(['business_id','label'])['photo_id'].count()"
      ],
      "execution_count": 0,
      "outputs": []
    },
    {
      "cell_type": "code",
      "metadata": {
        "id": "4R3-W_lsMk-_",
        "colab_type": "code",
        "colab": {}
      },
      "source": [
        "photo = photo.reset_index()"
      ],
      "execution_count": 0,
      "outputs": []
    },
    {
      "cell_type": "code",
      "metadata": {
        "id": "Qm0dhlWnM7mr",
        "colab_type": "code",
        "outputId": "cef5c2f6-0b5a-4622-8224-00a929c99349",
        "colab": {
          "base_uri": "https://localhost:8080/",
          "height": 195
        }
      },
      "source": [
        "photo.head()"
      ],
      "execution_count": 51,
      "outputs": [
        {
          "output_type": "execute_result",
          "data": {
            "text/html": [
              "<div>\n",
              "<style scoped>\n",
              "    .dataframe tbody tr th:only-of-type {\n",
              "        vertical-align: middle;\n",
              "    }\n",
              "\n",
              "    .dataframe tbody tr th {\n",
              "        vertical-align: top;\n",
              "    }\n",
              "\n",
              "    .dataframe thead th {\n",
              "        text-align: right;\n",
              "    }\n",
              "</style>\n",
              "<table border=\"1\" class=\"dataframe\">\n",
              "  <thead>\n",
              "    <tr style=\"text-align: right;\">\n",
              "      <th></th>\n",
              "      <th>business_id</th>\n",
              "      <th>label</th>\n",
              "      <th>photo_id</th>\n",
              "    </tr>\n",
              "  </thead>\n",
              "  <tbody>\n",
              "    <tr>\n",
              "      <th>0</th>\n",
              "      <td>--6MefnULPED_I942VcFNA</td>\n",
              "      <td>food</td>\n",
              "      <td>3</td>\n",
              "    </tr>\n",
              "    <tr>\n",
              "      <th>1</th>\n",
              "      <td>--9e1ONYQuAa-CB_Rrw7Tw</td>\n",
              "      <td>drink</td>\n",
              "      <td>5</td>\n",
              "    </tr>\n",
              "    <tr>\n",
              "      <th>2</th>\n",
              "      <td>--9e1ONYQuAa-CB_Rrw7Tw</td>\n",
              "      <td>food</td>\n",
              "      <td>59</td>\n",
              "    </tr>\n",
              "    <tr>\n",
              "      <th>3</th>\n",
              "      <td>--9e1ONYQuAa-CB_Rrw7Tw</td>\n",
              "      <td>inside</td>\n",
              "      <td>7</td>\n",
              "    </tr>\n",
              "    <tr>\n",
              "      <th>4</th>\n",
              "      <td>--9e1ONYQuAa-CB_Rrw7Tw</td>\n",
              "      <td>menu</td>\n",
              "      <td>1</td>\n",
              "    </tr>\n",
              "  </tbody>\n",
              "</table>\n",
              "</div>"
            ],
            "text/plain": [
              "              business_id   label  photo_id\n",
              "0  --6MefnULPED_I942VcFNA    food         3\n",
              "1  --9e1ONYQuAa-CB_Rrw7Tw   drink         5\n",
              "2  --9e1ONYQuAa-CB_Rrw7Tw    food        59\n",
              "3  --9e1ONYQuAa-CB_Rrw7Tw  inside         7\n",
              "4  --9e1ONYQuAa-CB_Rrw7Tw    menu         1"
            ]
          },
          "metadata": {
            "tags": []
          },
          "execution_count": 51
        }
      ]
    },
    {
      "cell_type": "code",
      "metadata": {
        "id": "h6weRxWBNRvZ",
        "colab_type": "code",
        "colab": {}
      },
      "source": [
        "photo = photo.pivot(index='business_id',columns='label',values='photo_id')"
      ],
      "execution_count": 0,
      "outputs": []
    },
    {
      "cell_type": "code",
      "metadata": {
        "id": "cQn4PKBgNboQ",
        "colab_type": "code",
        "outputId": "7d4ec74e-9c39-41d8-9bc4-c4a065c79797",
        "colab": {
          "base_uri": "https://localhost:8080/",
          "height": 225
        }
      },
      "source": [
        "photo.head()"
      ],
      "execution_count": 53,
      "outputs": [
        {
          "output_type": "execute_result",
          "data": {
            "text/html": [
              "<div>\n",
              "<style scoped>\n",
              "    .dataframe tbody tr th:only-of-type {\n",
              "        vertical-align: middle;\n",
              "    }\n",
              "\n",
              "    .dataframe tbody tr th {\n",
              "        vertical-align: top;\n",
              "    }\n",
              "\n",
              "    .dataframe thead th {\n",
              "        text-align: right;\n",
              "    }\n",
              "</style>\n",
              "<table border=\"1\" class=\"dataframe\">\n",
              "  <thead>\n",
              "    <tr style=\"text-align: right;\">\n",
              "      <th>label</th>\n",
              "      <th>drink</th>\n",
              "      <th>food</th>\n",
              "      <th>inside</th>\n",
              "      <th>menu</th>\n",
              "      <th>outside</th>\n",
              "    </tr>\n",
              "    <tr>\n",
              "      <th>business_id</th>\n",
              "      <th></th>\n",
              "      <th></th>\n",
              "      <th></th>\n",
              "      <th></th>\n",
              "      <th></th>\n",
              "    </tr>\n",
              "  </thead>\n",
              "  <tbody>\n",
              "    <tr>\n",
              "      <th>--6MefnULPED_I942VcFNA</th>\n",
              "      <td>NaN</td>\n",
              "      <td>3.0</td>\n",
              "      <td>NaN</td>\n",
              "      <td>NaN</td>\n",
              "      <td>NaN</td>\n",
              "    </tr>\n",
              "    <tr>\n",
              "      <th>--9e1ONYQuAa-CB_Rrw7Tw</th>\n",
              "      <td>5.0</td>\n",
              "      <td>59.0</td>\n",
              "      <td>7.0</td>\n",
              "      <td>1.0</td>\n",
              "      <td>2.0</td>\n",
              "    </tr>\n",
              "    <tr>\n",
              "      <th>--DaPTJW3-tB1vP-PfdTEg</th>\n",
              "      <td>NaN</td>\n",
              "      <td>NaN</td>\n",
              "      <td>NaN</td>\n",
              "      <td>NaN</td>\n",
              "      <td>1.0</td>\n",
              "    </tr>\n",
              "    <tr>\n",
              "      <th>--FBCX-N37CMYDfs790Bnw</th>\n",
              "      <td>NaN</td>\n",
              "      <td>1.0</td>\n",
              "      <td>NaN</td>\n",
              "      <td>NaN</td>\n",
              "      <td>NaN</td>\n",
              "    </tr>\n",
              "    <tr>\n",
              "      <th>--KCl2FvVQpvjzmZSPyviA</th>\n",
              "      <td>NaN</td>\n",
              "      <td>2.0</td>\n",
              "      <td>NaN</td>\n",
              "      <td>NaN</td>\n",
              "      <td>NaN</td>\n",
              "    </tr>\n",
              "  </tbody>\n",
              "</table>\n",
              "</div>"
            ],
            "text/plain": [
              "label                   drink  food  inside  menu  outside\n",
              "business_id                                               \n",
              "--6MefnULPED_I942VcFNA    NaN   3.0     NaN   NaN      NaN\n",
              "--9e1ONYQuAa-CB_Rrw7Tw    5.0  59.0     7.0   1.0      2.0\n",
              "--DaPTJW3-tB1vP-PfdTEg    NaN   NaN     NaN   NaN      1.0\n",
              "--FBCX-N37CMYDfs790Bnw    NaN   1.0     NaN   NaN      NaN\n",
              "--KCl2FvVQpvjzmZSPyviA    NaN   2.0     NaN   NaN      NaN"
            ]
          },
          "metadata": {
            "tags": []
          },
          "execution_count": 53
        }
      ]
    },
    {
      "cell_type": "code",
      "metadata": {
        "id": "VSaUU3YiNry6",
        "colab_type": "code",
        "colab": {}
      },
      "source": [
        "photo = photo.replace(np.nan,0)"
      ],
      "execution_count": 0,
      "outputs": []
    },
    {
      "cell_type": "code",
      "metadata": {
        "id": "o-XUhlRGN9_J",
        "colab_type": "code",
        "colab": {}
      },
      "source": [
        "photo = photo.reset_index()"
      ],
      "execution_count": 0,
      "outputs": []
    },
    {
      "cell_type": "code",
      "metadata": {
        "id": "x--pistxBHW3",
        "colab_type": "code",
        "outputId": "f273cbd3-c41e-4119-bc5f-1a840a8446e0",
        "colab": {
          "base_uri": "https://localhost:8080/",
          "height": 195
        }
      },
      "source": [
        "photo.head()"
      ],
      "execution_count": 56,
      "outputs": [
        {
          "output_type": "execute_result",
          "data": {
            "text/html": [
              "<div>\n",
              "<style scoped>\n",
              "    .dataframe tbody tr th:only-of-type {\n",
              "        vertical-align: middle;\n",
              "    }\n",
              "\n",
              "    .dataframe tbody tr th {\n",
              "        vertical-align: top;\n",
              "    }\n",
              "\n",
              "    .dataframe thead th {\n",
              "        text-align: right;\n",
              "    }\n",
              "</style>\n",
              "<table border=\"1\" class=\"dataframe\">\n",
              "  <thead>\n",
              "    <tr style=\"text-align: right;\">\n",
              "      <th>label</th>\n",
              "      <th>business_id</th>\n",
              "      <th>drink</th>\n",
              "      <th>food</th>\n",
              "      <th>inside</th>\n",
              "      <th>menu</th>\n",
              "      <th>outside</th>\n",
              "    </tr>\n",
              "  </thead>\n",
              "  <tbody>\n",
              "    <tr>\n",
              "      <th>0</th>\n",
              "      <td>--6MefnULPED_I942VcFNA</td>\n",
              "      <td>0.0</td>\n",
              "      <td>3.0</td>\n",
              "      <td>0.0</td>\n",
              "      <td>0.0</td>\n",
              "      <td>0.0</td>\n",
              "    </tr>\n",
              "    <tr>\n",
              "      <th>1</th>\n",
              "      <td>--9e1ONYQuAa-CB_Rrw7Tw</td>\n",
              "      <td>5.0</td>\n",
              "      <td>59.0</td>\n",
              "      <td>7.0</td>\n",
              "      <td>1.0</td>\n",
              "      <td>2.0</td>\n",
              "    </tr>\n",
              "    <tr>\n",
              "      <th>2</th>\n",
              "      <td>--DaPTJW3-tB1vP-PfdTEg</td>\n",
              "      <td>0.0</td>\n",
              "      <td>0.0</td>\n",
              "      <td>0.0</td>\n",
              "      <td>0.0</td>\n",
              "      <td>1.0</td>\n",
              "    </tr>\n",
              "    <tr>\n",
              "      <th>3</th>\n",
              "      <td>--FBCX-N37CMYDfs790Bnw</td>\n",
              "      <td>0.0</td>\n",
              "      <td>1.0</td>\n",
              "      <td>0.0</td>\n",
              "      <td>0.0</td>\n",
              "      <td>0.0</td>\n",
              "    </tr>\n",
              "    <tr>\n",
              "      <th>4</th>\n",
              "      <td>--KCl2FvVQpvjzmZSPyviA</td>\n",
              "      <td>0.0</td>\n",
              "      <td>2.0</td>\n",
              "      <td>0.0</td>\n",
              "      <td>0.0</td>\n",
              "      <td>0.0</td>\n",
              "    </tr>\n",
              "  </tbody>\n",
              "</table>\n",
              "</div>"
            ],
            "text/plain": [
              "label             business_id  drink  food  inside  menu  outside\n",
              "0      --6MefnULPED_I942VcFNA    0.0   3.0     0.0   0.0      0.0\n",
              "1      --9e1ONYQuAa-CB_Rrw7Tw    5.0  59.0     7.0   1.0      2.0\n",
              "2      --DaPTJW3-tB1vP-PfdTEg    0.0   0.0     0.0   0.0      1.0\n",
              "3      --FBCX-N37CMYDfs790Bnw    0.0   1.0     0.0   0.0      0.0\n",
              "4      --KCl2FvVQpvjzmZSPyviA    0.0   2.0     0.0   0.0      0.0"
            ]
          },
          "metadata": {
            "tags": []
          },
          "execution_count": 56
        }
      ]
    },
    {
      "cell_type": "markdown",
      "metadata": {
        "id": "vJRUTdmG9M86",
        "colab_type": "text"
      },
      "source": [
        "Need to merge all the datasets together with the main business file\n",
        "\n",
        "1) user_review\n",
        "\n",
        "2) restaurants_postal\n",
        "\n",
        "3) checkin\n",
        "\n",
        "4) photo"
      ]
    },
    {
      "cell_type": "code",
      "metadata": {
        "id": "y6aBeoKxBLhf",
        "colab_type": "code",
        "colab": {}
      },
      "source": [
        "final = pd.merge(business, restaurants_postal, how='left',on='postal_code')"
      ],
      "execution_count": 0,
      "outputs": []
    },
    {
      "cell_type": "code",
      "metadata": {
        "id": "Njy5Y2oWBs_5",
        "colab_type": "code",
        "colab": {}
      },
      "source": [
        "final = pd.merge(final,user_review,how='left',on='business_id')"
      ],
      "execution_count": 0,
      "outputs": []
    },
    {
      "cell_type": "code",
      "metadata": {
        "id": "IWq-yo5r9mBB",
        "colab_type": "code",
        "colab": {}
      },
      "source": [
        "final = pd.merge(final,checkin,how='left',on='business_id')"
      ],
      "execution_count": 0,
      "outputs": []
    },
    {
      "cell_type": "code",
      "metadata": {
        "id": "G9eKW5U6Chq0",
        "colab_type": "code",
        "colab": {}
      },
      "source": [
        "final = pd.merge(final,photo,how='left',on='business_id')"
      ],
      "execution_count": 0,
      "outputs": []
    },
    {
      "cell_type": "code",
      "metadata": {
        "id": "5-h7CeKECklp",
        "colab_type": "code",
        "outputId": "944473b9-5d6b-47a6-93f3-3483291f0510",
        "colab": {
          "base_uri": "https://localhost:8080/",
          "height": 467
        }
      },
      "source": [
        "final.head()"
      ],
      "execution_count": 61,
      "outputs": [
        {
          "output_type": "execute_result",
          "data": {
            "text/html": [
              "<div>\n",
              "<style scoped>\n",
              "    .dataframe tbody tr th:only-of-type {\n",
              "        vertical-align: middle;\n",
              "    }\n",
              "\n",
              "    .dataframe tbody tr th {\n",
              "        vertical-align: top;\n",
              "    }\n",
              "\n",
              "    .dataframe thead th {\n",
              "        text-align: right;\n",
              "    }\n",
              "</style>\n",
              "<table border=\"1\" class=\"dataframe\">\n",
              "  <thead>\n",
              "    <tr style=\"text-align: right;\">\n",
              "      <th></th>\n",
              "      <th>business_id</th>\n",
              "      <th>postal_code</th>\n",
              "      <th>stars</th>\n",
              "      <th>review_count</th>\n",
              "      <th>is_open</th>\n",
              "      <th>categories</th>\n",
              "      <th>total_restaurants</th>\n",
              "      <th>Non_elite_fans</th>\n",
              "      <th>elite_fans</th>\n",
              "      <th>Non_elite_total_reviews</th>\n",
              "      <th>elite_total_reviews</th>\n",
              "      <th>Non_elite_rest_reviews</th>\n",
              "      <th>elite_rest_reviews</th>\n",
              "      <th>Non_elite_rating</th>\n",
              "      <th>elite_rating</th>\n",
              "      <th>avg_checkins_peryear</th>\n",
              "      <th>drink</th>\n",
              "      <th>food</th>\n",
              "      <th>inside</th>\n",
              "      <th>menu</th>\n",
              "      <th>outside</th>\n",
              "    </tr>\n",
              "  </thead>\n",
              "  <tbody>\n",
              "    <tr>\n",
              "      <th>0</th>\n",
              "      <td>QXAEGFB4oINsVuTFxEYKFQ</td>\n",
              "      <td>L5R 3E7</td>\n",
              "      <td>2.5</td>\n",
              "      <td>128</td>\n",
              "      <td>1</td>\n",
              "      <td>Specialty Food, Restaurants, Dim Sum, Imported...</td>\n",
              "      <td>6</td>\n",
              "      <td>37.0</td>\n",
              "      <td>1654.0</td>\n",
              "      <td>2287.0</td>\n",
              "      <td>16991.0</td>\n",
              "      <td>72.0</td>\n",
              "      <td>62.0</td>\n",
              "      <td>2.444444</td>\n",
              "      <td>3.080645</td>\n",
              "      <td>50.555556</td>\n",
              "      <td>0.0</td>\n",
              "      <td>1.0</td>\n",
              "      <td>1.0</td>\n",
              "      <td>0.0</td>\n",
              "      <td>1.0</td>\n",
              "    </tr>\n",
              "    <tr>\n",
              "      <th>1</th>\n",
              "      <td>gnKjwL_1w79qoiV3IC_xQQ</td>\n",
              "      <td>28210</td>\n",
              "      <td>4.0</td>\n",
              "      <td>170</td>\n",
              "      <td>1</td>\n",
              "      <td>Sushi Bars, Restaurants, Japanese</td>\n",
              "      <td>88</td>\n",
              "      <td>119.0</td>\n",
              "      <td>1072.0</td>\n",
              "      <td>4428.0</td>\n",
              "      <td>12168.0</td>\n",
              "      <td>135.0</td>\n",
              "      <td>43.0</td>\n",
              "      <td>4.140741</td>\n",
              "      <td>3.860465</td>\n",
              "      <td>80.111111</td>\n",
              "      <td>0.0</td>\n",
              "      <td>6.0</td>\n",
              "      <td>2.0</td>\n",
              "      <td>0.0</td>\n",
              "      <td>0.0</td>\n",
              "    </tr>\n",
              "    <tr>\n",
              "      <th>2</th>\n",
              "      <td>1Dfx3zM-rW4n-31KeC8sJg</td>\n",
              "      <td>85016</td>\n",
              "      <td>3.0</td>\n",
              "      <td>18</td>\n",
              "      <td>1</td>\n",
              "      <td>Restaurants, Breakfast &amp; Brunch, Mexican, Taco...</td>\n",
              "      <td>294</td>\n",
              "      <td>78.0</td>\n",
              "      <td>167.0</td>\n",
              "      <td>1152.0</td>\n",
              "      <td>920.0</td>\n",
              "      <td>15.0</td>\n",
              "      <td>4.0</td>\n",
              "      <td>2.600000</td>\n",
              "      <td>4.000000</td>\n",
              "      <td>10.000000</td>\n",
              "      <td>NaN</td>\n",
              "      <td>NaN</td>\n",
              "      <td>NaN</td>\n",
              "      <td>NaN</td>\n",
              "      <td>NaN</td>\n",
              "    </tr>\n",
              "    <tr>\n",
              "      <th>3</th>\n",
              "      <td>fweCYi8FmbJXHCqLnwuk8w</td>\n",
              "      <td>44060</td>\n",
              "      <td>4.0</td>\n",
              "      <td>16</td>\n",
              "      <td>1</td>\n",
              "      <td>Italian, Restaurants, Pizza, Chicken Wings</td>\n",
              "      <td>199</td>\n",
              "      <td>6.0</td>\n",
              "      <td>232.0</td>\n",
              "      <td>255.0</td>\n",
              "      <td>883.0</td>\n",
              "      <td>15.0</td>\n",
              "      <td>3.0</td>\n",
              "      <td>4.533333</td>\n",
              "      <td>3.333333</td>\n",
              "      <td>1.666667</td>\n",
              "      <td>NaN</td>\n",
              "      <td>NaN</td>\n",
              "      <td>NaN</td>\n",
              "      <td>NaN</td>\n",
              "      <td>NaN</td>\n",
              "    </tr>\n",
              "    <tr>\n",
              "      <th>4</th>\n",
              "      <td>PZ-LZzSlhSe9utkQYU8pFg</td>\n",
              "      <td>89119</td>\n",
              "      <td>4.0</td>\n",
              "      <td>40</td>\n",
              "      <td>0</td>\n",
              "      <td>Restaurants, Italian</td>\n",
              "      <td>470</td>\n",
              "      <td>165.0</td>\n",
              "      <td>301.0</td>\n",
              "      <td>3436.0</td>\n",
              "      <td>4646.0</td>\n",
              "      <td>31.0</td>\n",
              "      <td>10.0</td>\n",
              "      <td>3.967742</td>\n",
              "      <td>4.500000</td>\n",
              "      <td>8.500000</td>\n",
              "      <td>0.0</td>\n",
              "      <td>0.0</td>\n",
              "      <td>1.0</td>\n",
              "      <td>0.0</td>\n",
              "      <td>1.0</td>\n",
              "    </tr>\n",
              "  </tbody>\n",
              "</table>\n",
              "</div>"
            ],
            "text/plain": [
              "              business_id postal_code  stars  ...  inside  menu outside\n",
              "0  QXAEGFB4oINsVuTFxEYKFQ     L5R 3E7    2.5  ...     1.0   0.0     1.0\n",
              "1  gnKjwL_1w79qoiV3IC_xQQ       28210    4.0  ...     2.0   0.0     0.0\n",
              "2  1Dfx3zM-rW4n-31KeC8sJg       85016    3.0  ...     NaN   NaN     NaN\n",
              "3  fweCYi8FmbJXHCqLnwuk8w       44060    4.0  ...     NaN   NaN     NaN\n",
              "4  PZ-LZzSlhSe9utkQYU8pFg       89119    4.0  ...     1.0   0.0     1.0\n",
              "\n",
              "[5 rows x 21 columns]"
            ]
          },
          "metadata": {
            "tags": []
          },
          "execution_count": 61
        }
      ]
    },
    {
      "cell_type": "code",
      "metadata": {
        "id": "BOcFPmcICvjL",
        "colab_type": "code",
        "colab": {}
      },
      "source": [
        "final2 = final.drop(['business_id','postal_code','categories'],axis=1)"
      ],
      "execution_count": 0,
      "outputs": []
    },
    {
      "cell_type": "code",
      "metadata": {
        "id": "0PtcQaSG-Xls",
        "colab_type": "code",
        "colab": {}
      },
      "source": [
        "values = {'drink': 0, 'food': 0, 'inside': 0, 'menu': 0,'outside': 0,'Non_elite_fans':0,'elite_fans':0,'Non_elite_total_reviews':0,'elite_total_reviews':0, 'Non_elite_rest_reviews':0, 'elite_rest_reviews':0,'avg_checkins_peryear':0}\n",
        "final2 = final2.fillna(value=values)"
      ],
      "execution_count": 0,
      "outputs": []
    },
    {
      "cell_type": "code",
      "metadata": {
        "id": "gfbtBmhFDWGa",
        "colab_type": "code",
        "outputId": "a68e68dd-d9b5-4d57-af35-5ab3644cdfbc",
        "colab": {
          "base_uri": "https://localhost:8080/",
          "height": 304
        }
      },
      "source": [
        "final2.describe()"
      ],
      "execution_count": 64,
      "outputs": [
        {
          "output_type": "execute_result",
          "data": {
            "text/html": [
              "<div>\n",
              "<style scoped>\n",
              "    .dataframe tbody tr th:only-of-type {\n",
              "        vertical-align: middle;\n",
              "    }\n",
              "\n",
              "    .dataframe tbody tr th {\n",
              "        vertical-align: top;\n",
              "    }\n",
              "\n",
              "    .dataframe thead th {\n",
              "        text-align: right;\n",
              "    }\n",
              "</style>\n",
              "<table border=\"1\" class=\"dataframe\">\n",
              "  <thead>\n",
              "    <tr style=\"text-align: right;\">\n",
              "      <th></th>\n",
              "      <th>stars</th>\n",
              "      <th>review_count</th>\n",
              "      <th>is_open</th>\n",
              "      <th>total_restaurants</th>\n",
              "      <th>Non_elite_fans</th>\n",
              "      <th>elite_fans</th>\n",
              "      <th>Non_elite_total_reviews</th>\n",
              "      <th>elite_total_reviews</th>\n",
              "      <th>Non_elite_rest_reviews</th>\n",
              "      <th>elite_rest_reviews</th>\n",
              "      <th>Non_elite_rating</th>\n",
              "      <th>elite_rating</th>\n",
              "      <th>avg_checkins_peryear</th>\n",
              "      <th>drink</th>\n",
              "      <th>food</th>\n",
              "      <th>inside</th>\n",
              "      <th>menu</th>\n",
              "      <th>outside</th>\n",
              "    </tr>\n",
              "  </thead>\n",
              "  <tbody>\n",
              "    <tr>\n",
              "      <th>count</th>\n",
              "      <td>59371.000000</td>\n",
              "      <td>59371.000000</td>\n",
              "      <td>59371.000000</td>\n",
              "      <td>59371.000000</td>\n",
              "      <td>59371.000000</td>\n",
              "      <td>59371.000000</td>\n",
              "      <td>59371.000000</td>\n",
              "      <td>5.937100e+04</td>\n",
              "      <td>59371.000000</td>\n",
              "      <td>59371.000000</td>\n",
              "      <td>58947.000000</td>\n",
              "      <td>54463.000000</td>\n",
              "      <td>59371.000000</td>\n",
              "      <td>59371.000000</td>\n",
              "      <td>59371.000000</td>\n",
              "      <td>59371.000000</td>\n",
              "      <td>59371.000000</td>\n",
              "      <td>59371.000000</td>\n",
              "    </tr>\n",
              "    <tr>\n",
              "      <th>mean</th>\n",
              "      <td>3.441790</td>\n",
              "      <td>68.456452</td>\n",
              "      <td>0.711408</td>\n",
              "      <td>106.555979</td>\n",
              "      <td>80.445807</td>\n",
              "      <td>791.995250</td>\n",
              "      <td>2110.114467</td>\n",
              "      <td>6.793487e+03</td>\n",
              "      <td>52.515824</td>\n",
              "      <td>18.254148</td>\n",
              "      <td>3.404865</td>\n",
              "      <td>3.565957</td>\n",
              "      <td>32.346721</td>\n",
              "      <td>0.287379</td>\n",
              "      <td>1.927658</td>\n",
              "      <td>0.825133</td>\n",
              "      <td>0.050008</td>\n",
              "      <td>0.182985</td>\n",
              "    </tr>\n",
              "    <tr>\n",
              "      <th>std</th>\n",
              "      <td>0.803304</td>\n",
              "      <td>176.636132</td>\n",
              "      <td>0.453112</td>\n",
              "      <td>157.568255</td>\n",
              "      <td>276.481661</td>\n",
              "      <td>2894.959626</td>\n",
              "      <td>6620.529497</td>\n",
              "      <td>2.260784e+04</td>\n",
              "      <td>133.974232</td>\n",
              "      <td>52.624538</td>\n",
              "      <td>0.908476</td>\n",
              "      <td>0.770053</td>\n",
              "      <td>108.533152</td>\n",
              "      <td>1.246594</td>\n",
              "      <td>6.514746</td>\n",
              "      <td>3.541126</td>\n",
              "      <td>0.374002</td>\n",
              "      <td>0.820099</td>\n",
              "    </tr>\n",
              "    <tr>\n",
              "      <th>min</th>\n",
              "      <td>1.000000</td>\n",
              "      <td>3.000000</td>\n",
              "      <td>0.000000</td>\n",
              "      <td>1.000000</td>\n",
              "      <td>0.000000</td>\n",
              "      <td>0.000000</td>\n",
              "      <td>0.000000</td>\n",
              "      <td>0.000000e+00</td>\n",
              "      <td>0.000000</td>\n",
              "      <td>0.000000</td>\n",
              "      <td>1.000000</td>\n",
              "      <td>1.000000</td>\n",
              "      <td>0.000000</td>\n",
              "      <td>0.000000</td>\n",
              "      <td>0.000000</td>\n",
              "      <td>0.000000</td>\n",
              "      <td>0.000000</td>\n",
              "      <td>0.000000</td>\n",
              "    </tr>\n",
              "    <tr>\n",
              "      <th>25%</th>\n",
              "      <td>3.000000</td>\n",
              "      <td>7.000000</td>\n",
              "      <td>0.000000</td>\n",
              "      <td>5.000000</td>\n",
              "      <td>3.000000</td>\n",
              "      <td>30.000000</td>\n",
              "      <td>134.000000</td>\n",
              "      <td>4.670000e+02</td>\n",
              "      <td>5.000000</td>\n",
              "      <td>2.000000</td>\n",
              "      <td>2.846154</td>\n",
              "      <td>3.087596</td>\n",
              "      <td>2.750000</td>\n",
              "      <td>0.000000</td>\n",
              "      <td>0.000000</td>\n",
              "      <td>0.000000</td>\n",
              "      <td>0.000000</td>\n",
              "      <td>0.000000</td>\n",
              "    </tr>\n",
              "    <tr>\n",
              "      <th>50%</th>\n",
              "      <td>3.500000</td>\n",
              "      <td>21.000000</td>\n",
              "      <td>1.000000</td>\n",
              "      <td>55.000000</td>\n",
              "      <td>14.000000</td>\n",
              "      <td>151.000000</td>\n",
              "      <td>510.000000</td>\n",
              "      <td>1.805000e+03</td>\n",
              "      <td>15.000000</td>\n",
              "      <td>5.000000</td>\n",
              "      <td>3.500000</td>\n",
              "      <td>3.666667</td>\n",
              "      <td>7.500000</td>\n",
              "      <td>0.000000</td>\n",
              "      <td>0.000000</td>\n",
              "      <td>0.000000</td>\n",
              "      <td>0.000000</td>\n",
              "      <td>0.000000</td>\n",
              "    </tr>\n",
              "    <tr>\n",
              "      <th>75%</th>\n",
              "      <td>4.000000</td>\n",
              "      <td>62.000000</td>\n",
              "      <td>1.000000</td>\n",
              "      <td>136.000000</td>\n",
              "      <td>56.000000</td>\n",
              "      <td>675.000000</td>\n",
              "      <td>1723.500000</td>\n",
              "      <td>6.228500e+03</td>\n",
              "      <td>47.000000</td>\n",
              "      <td>16.000000</td>\n",
              "      <td>4.050000</td>\n",
              "      <td>4.000000</td>\n",
              "      <td>24.250000</td>\n",
              "      <td>0.000000</td>\n",
              "      <td>2.000000</td>\n",
              "      <td>1.000000</td>\n",
              "      <td>0.000000</td>\n",
              "      <td>0.000000</td>\n",
              "    </tr>\n",
              "    <tr>\n",
              "      <th>max</th>\n",
              "      <td>5.000000</td>\n",
              "      <td>8348.000000</td>\n",
              "      <td>1.000000</td>\n",
              "      <td>965.000000</td>\n",
              "      <td>13130.000000</td>\n",
              "      <td>140212.000000</td>\n",
              "      <td>341940.000000</td>\n",
              "      <td>1.118966e+06</td>\n",
              "      <td>6005.000000</td>\n",
              "      <td>2707.000000</td>\n",
              "      <td>5.000000</td>\n",
              "      <td>5.000000</td>\n",
              "      <td>7655.400000</td>\n",
              "      <td>55.000000</td>\n",
              "      <td>590.000000</td>\n",
              "      <td>327.000000</td>\n",
              "      <td>32.000000</td>\n",
              "      <td>61.000000</td>\n",
              "    </tr>\n",
              "  </tbody>\n",
              "</table>\n",
              "</div>"
            ],
            "text/plain": [
              "              stars  review_count  ...          menu       outside\n",
              "count  59371.000000  59371.000000  ...  59371.000000  59371.000000\n",
              "mean       3.441790     68.456452  ...      0.050008      0.182985\n",
              "std        0.803304    176.636132  ...      0.374002      0.820099\n",
              "min        1.000000      3.000000  ...      0.000000      0.000000\n",
              "25%        3.000000      7.000000  ...      0.000000      0.000000\n",
              "50%        3.500000     21.000000  ...      0.000000      0.000000\n",
              "75%        4.000000     62.000000  ...      0.000000      0.000000\n",
              "max        5.000000   8348.000000  ...     32.000000     61.000000\n",
              "\n",
              "[8 rows x 18 columns]"
            ]
          },
          "metadata": {
            "tags": []
          },
          "execution_count": 64
        }
      ]
    },
    {
      "cell_type": "code",
      "metadata": {
        "id": "7qBbGrU5C9bh",
        "colab_type": "code",
        "outputId": "50b5b51c-40e9-42b7-f920-8c4e6006e7dd",
        "colab": {
          "base_uri": "https://localhost:8080/",
          "height": 297
        }
      },
      "source": [
        "sns.distplot(final2['Non_elite_rating'])"
      ],
      "execution_count": 65,
      "outputs": [
        {
          "output_type": "execute_result",
          "data": {
            "text/plain": [
              "<matplotlib.axes._subplots.AxesSubplot at 0x7f5bc42ff4e0>"
            ]
          },
          "metadata": {
            "tags": []
          },
          "execution_count": 65
        },
        {
          "output_type": "display_data",
          "data": {
            "image/png": "[encoded data removed]",
            "text/plain": [
              "<Figure size 432x288 with 1 Axes>"
            ]
          },
          "metadata": {
            "tags": []
          }
        }
      ]
    },
    {
      "cell_type": "code",
      "metadata": {
        "id": "AuwROe3oDlFk",
        "colab_type": "code",
        "colab": {}
      },
      "source": [
        "final2.loc[final2['Non_elite_rating'].isna(),'Non_elite_rating'] = final2['Non_elite_rating'].mean()"
      ],
      "execution_count": 0,
      "outputs": []
    },
    {
      "cell_type": "code",
      "metadata": {
        "id": "-8rKH6msDYC9",
        "colab_type": "code",
        "outputId": "a2679806-8335-4878-c1e3-a5c8dc0c2816",
        "colab": {
          "base_uri": "https://localhost:8080/",
          "height": 297
        }
      },
      "source": [
        "sns.distplot(final2['elite_rating'])"
      ],
      "execution_count": 67,
      "outputs": [
        {
          "output_type": "execute_result",
          "data": {
            "text/plain": [
              "<matplotlib.axes._subplots.AxesSubplot at 0x7f5bc42f3c18>"
            ]
          },
          "metadata": {
            "tags": []
          },
          "execution_count": 67
        },
        {
          "output_type": "display_data",
          "data": {
            "image/png": "[encoded data removed]",
            "text/plain": [
              "<Figure size 432x288 with 1 Axes>"
            ]
          },
          "metadata": {
            "tags": []
          }
        }
      ]
    },
    {
      "cell_type": "code",
      "metadata": {
        "id": "KtTp9gJ1DzM_",
        "colab_type": "code",
        "colab": {}
      },
      "source": [
        "final2.loc[final2['elite_rating'].isna(),'elite_rating']= final2['elite_rating'].mean()"
      ],
      "execution_count": 0,
      "outputs": []
    },
    {
      "cell_type": "code",
      "metadata": {
        "id": "vOjMMavuD3TE",
        "colab_type": "code",
        "outputId": "1f90164d-1a67-4f51-8088-2d348a9abcb6",
        "colab": {
          "base_uri": "https://localhost:8080/",
          "height": 304
        }
      },
      "source": [
        "final2.describe()"
      ],
      "execution_count": 69,
      "outputs": [
        {
          "output_type": "execute_result",
          "data": {
            "text/html": [
              "<div>\n",
              "<style scoped>\n",
              "    .dataframe tbody tr th:only-of-type {\n",
              "        vertical-align: middle;\n",
              "    }\n",
              "\n",
              "    .dataframe tbody tr th {\n",
              "        vertical-align: top;\n",
              "    }\n",
              "\n",
              "    .dataframe thead th {\n",
              "        text-align: right;\n",
              "    }\n",
              "</style>\n",
              "<table border=\"1\" class=\"dataframe\">\n",
              "  <thead>\n",
              "    <tr style=\"text-align: right;\">\n",
              "      <th></th>\n",
              "      <th>stars</th>\n",
              "      <th>review_count</th>\n",
              "      <th>is_open</th>\n",
              "      <th>total_restaurants</th>\n",
              "      <th>Non_elite_fans</th>\n",
              "      <th>elite_fans</th>\n",
              "      <th>Non_elite_total_reviews</th>\n",
              "      <th>elite_total_reviews</th>\n",
              "      <th>Non_elite_rest_reviews</th>\n",
              "      <th>elite_rest_reviews</th>\n",
              "      <th>Non_elite_rating</th>\n",
              "      <th>elite_rating</th>\n",
              "      <th>avg_checkins_peryear</th>\n",
              "      <th>drink</th>\n",
              "      <th>food</th>\n",
              "      <th>inside</th>\n",
              "      <th>menu</th>\n",
              "      <th>outside</th>\n",
              "    </tr>\n",
              "  </thead>\n",
              "  <tbody>\n",
              "    <tr>\n",
              "      <th>count</th>\n",
              "      <td>59371.000000</td>\n",
              "      <td>59371.000000</td>\n",
              "      <td>59371.000000</td>\n",
              "      <td>59371.000000</td>\n",
              "      <td>59371.000000</td>\n",
              "      <td>59371.000000</td>\n",
              "      <td>59371.000000</td>\n",
              "      <td>5.937100e+04</td>\n",
              "      <td>59371.000000</td>\n",
              "      <td>59371.000000</td>\n",
              "      <td>59371.000000</td>\n",
              "      <td>59371.000000</td>\n",
              "      <td>59371.000000</td>\n",
              "      <td>59371.000000</td>\n",
              "      <td>59371.000000</td>\n",
              "      <td>59371.000000</td>\n",
              "      <td>59371.000000</td>\n",
              "      <td>59371.000000</td>\n",
              "    </tr>\n",
              "    <tr>\n",
              "      <th>mean</th>\n",
              "      <td>3.441790</td>\n",
              "      <td>68.456452</td>\n",
              "      <td>0.711408</td>\n",
              "      <td>106.555979</td>\n",
              "      <td>80.445807</td>\n",
              "      <td>791.995250</td>\n",
              "      <td>2110.114467</td>\n",
              "      <td>6.793487e+03</td>\n",
              "      <td>52.515824</td>\n",
              "      <td>18.254148</td>\n",
              "      <td>3.404865</td>\n",
              "      <td>3.565957</td>\n",
              "      <td>32.346721</td>\n",
              "      <td>0.287379</td>\n",
              "      <td>1.927658</td>\n",
              "      <td>0.825133</td>\n",
              "      <td>0.050008</td>\n",
              "      <td>0.182985</td>\n",
              "    </tr>\n",
              "    <tr>\n",
              "      <th>std</th>\n",
              "      <td>0.803304</td>\n",
              "      <td>176.636132</td>\n",
              "      <td>0.453112</td>\n",
              "      <td>157.568255</td>\n",
              "      <td>276.481661</td>\n",
              "      <td>2894.959626</td>\n",
              "      <td>6620.529497</td>\n",
              "      <td>2.260784e+04</td>\n",
              "      <td>133.974232</td>\n",
              "      <td>52.624538</td>\n",
              "      <td>0.905226</td>\n",
              "      <td>0.737537</td>\n",
              "      <td>108.533152</td>\n",
              "      <td>1.246594</td>\n",
              "      <td>6.514746</td>\n",
              "      <td>3.541126</td>\n",
              "      <td>0.374002</td>\n",
              "      <td>0.820099</td>\n",
              "    </tr>\n",
              "    <tr>\n",
              "      <th>min</th>\n",
              "      <td>1.000000</td>\n",
              "      <td>3.000000</td>\n",
              "      <td>0.000000</td>\n",
              "      <td>1.000000</td>\n",
              "      <td>0.000000</td>\n",
              "      <td>0.000000</td>\n",
              "      <td>0.000000</td>\n",
              "      <td>0.000000e+00</td>\n",
              "      <td>0.000000</td>\n",
              "      <td>0.000000</td>\n",
              "      <td>1.000000</td>\n",
              "      <td>1.000000</td>\n",
              "      <td>0.000000</td>\n",
              "      <td>0.000000</td>\n",
              "      <td>0.000000</td>\n",
              "      <td>0.000000</td>\n",
              "      <td>0.000000</td>\n",
              "      <td>0.000000</td>\n",
              "    </tr>\n",
              "    <tr>\n",
              "      <th>25%</th>\n",
              "      <td>3.000000</td>\n",
              "      <td>7.000000</td>\n",
              "      <td>0.000000</td>\n",
              "      <td>5.000000</td>\n",
              "      <td>3.000000</td>\n",
              "      <td>30.000000</td>\n",
              "      <td>134.000000</td>\n",
              "      <td>4.670000e+02</td>\n",
              "      <td>5.000000</td>\n",
              "      <td>2.000000</td>\n",
              "      <td>2.857143</td>\n",
              "      <td>3.181818</td>\n",
              "      <td>2.750000</td>\n",
              "      <td>0.000000</td>\n",
              "      <td>0.000000</td>\n",
              "      <td>0.000000</td>\n",
              "      <td>0.000000</td>\n",
              "      <td>0.000000</td>\n",
              "    </tr>\n",
              "    <tr>\n",
              "      <th>50%</th>\n",
              "      <td>3.500000</td>\n",
              "      <td>21.000000</td>\n",
              "      <td>1.000000</td>\n",
              "      <td>55.000000</td>\n",
              "      <td>14.000000</td>\n",
              "      <td>151.000000</td>\n",
              "      <td>510.000000</td>\n",
              "      <td>1.805000e+03</td>\n",
              "      <td>15.000000</td>\n",
              "      <td>5.000000</td>\n",
              "      <td>3.500000</td>\n",
              "      <td>3.578947</td>\n",
              "      <td>7.500000</td>\n",
              "      <td>0.000000</td>\n",
              "      <td>0.000000</td>\n",
              "      <td>0.000000</td>\n",
              "      <td>0.000000</td>\n",
              "      <td>0.000000</td>\n",
              "    </tr>\n",
              "    <tr>\n",
              "      <th>75%</th>\n",
              "      <td>4.000000</td>\n",
              "      <td>62.000000</td>\n",
              "      <td>1.000000</td>\n",
              "      <td>136.000000</td>\n",
              "      <td>56.000000</td>\n",
              "      <td>675.000000</td>\n",
              "      <td>1723.500000</td>\n",
              "      <td>6.228500e+03</td>\n",
              "      <td>47.000000</td>\n",
              "      <td>16.000000</td>\n",
              "      <td>4.044346</td>\n",
              "      <td>4.000000</td>\n",
              "      <td>24.250000</td>\n",
              "      <td>0.000000</td>\n",
              "      <td>2.000000</td>\n",
              "      <td>1.000000</td>\n",
              "      <td>0.000000</td>\n",
              "      <td>0.000000</td>\n",
              "    </tr>\n",
              "    <tr>\n",
              "      <th>max</th>\n",
              "      <td>5.000000</td>\n",
              "      <td>8348.000000</td>\n",
              "      <td>1.000000</td>\n",
              "      <td>965.000000</td>\n",
              "      <td>13130.000000</td>\n",
              "      <td>140212.000000</td>\n",
              "      <td>341940.000000</td>\n",
              "      <td>1.118966e+06</td>\n",
              "      <td>6005.000000</td>\n",
              "      <td>2707.000000</td>\n",
              "      <td>5.000000</td>\n",
              "      <td>5.000000</td>\n",
              "      <td>7655.400000</td>\n",
              "      <td>55.000000</td>\n",
              "      <td>590.000000</td>\n",
              "      <td>327.000000</td>\n",
              "      <td>32.000000</td>\n",
              "      <td>61.000000</td>\n",
              "    </tr>\n",
              "  </tbody>\n",
              "</table>\n",
              "</div>"
            ],
            "text/plain": [
              "              stars  review_count  ...          menu       outside\n",
              "count  59371.000000  59371.000000  ...  59371.000000  59371.000000\n",
              "mean       3.441790     68.456452  ...      0.050008      0.182985\n",
              "std        0.803304    176.636132  ...      0.374002      0.820099\n",
              "min        1.000000      3.000000  ...      0.000000      0.000000\n",
              "25%        3.000000      7.000000  ...      0.000000      0.000000\n",
              "50%        3.500000     21.000000  ...      0.000000      0.000000\n",
              "75%        4.000000     62.000000  ...      0.000000      0.000000\n",
              "max        5.000000   8348.000000  ...     32.000000     61.000000\n",
              "\n",
              "[8 rows x 18 columns]"
            ]
          },
          "metadata": {
            "tags": []
          },
          "execution_count": 69
        }
      ]
    },
    {
      "cell_type": "code",
      "metadata": {
        "id": "LH1DhM-aDb_j",
        "colab_type": "code",
        "outputId": "aaf8e505-f72e-4794-bce1-499bc1ce3b04",
        "colab": {
          "base_uri": "https://localhost:8080/",
          "height": 297
        }
      },
      "source": [
        "sns.distplot(final2['is_open'])"
      ],
      "execution_count": 70,
      "outputs": [
        {
          "output_type": "execute_result",
          "data": {
            "text/plain": [
              "<matplotlib.axes._subplots.AxesSubplot at 0x7f5bc4183a90>"
            ]
          },
          "metadata": {
            "tags": []
          },
          "execution_count": 70
        },
        {
          "output_type": "display_data",
          "data": {
            "image/png": "[encoded data removed]",
            "text/plain": [
              "<Figure size 432x288 with 1 Axes>"
            ]
          },
          "metadata": {
            "tags": []
          }
        }
      ]
    },
    {
      "cell_type": "code",
      "metadata": {
        "id": "OtPRrZJID9eD",
        "colab_type": "code",
        "colab": {}
      },
      "source": [
        "Y = final2['is_open']\n",
        "X = final2.drop('is_open',axis=1)"
      ],
      "execution_count": 0,
      "outputs": []
    },
    {
      "cell_type": "code",
      "metadata": {
        "id": "0fsRvL2OEH8G",
        "colab_type": "code",
        "colab": {}
      },
      "source": [
        "from sklearn.model_selection import cross_val_score, train_test_split, cross_val_predict, KFold\n",
        "from sklearn.model_selection import GridSearchCV\n",
        "from sklearn.metrics import accuracy_score,roc_curve, roc_auc_score,auc\n",
        "from sklearn.metrics import confusion_matrix, precision_recall_fscore_support\n",
        "from sklearn.metrics import precision_score, recall_score,classification_report"
      ],
      "execution_count": 0,
      "outputs": []
    },
    {
      "cell_type": "code",
      "metadata": {
        "id": "O2_1r3zREYna",
        "colab_type": "code",
        "colab": {}
      },
      "source": [
        "X_train, X_test, Y_train, Y_test = train_test_split(X,Y, test_size=0.2, random_state=42)\n",
        "\n",
        "\n",
        "Y_train=Y_train.astype('int')\n",
        "Y_test=Y_test.astype('int')"
      ],
      "execution_count": 0,
      "outputs": []
    },
    {
      "cell_type": "code",
      "metadata": {
        "id": "IQUxYnKOEd9-",
        "colab_type": "code",
        "outputId": "ae7ce797-6d48-416a-e642-221cebe473ba",
        "colab": {
          "base_uri": "https://localhost:8080/",
          "height": 712
        }
      },
      "source": [
        "f = plt.figure(figsize=(12, 10))\n",
        "plt.matshow(final2.corr(), fignum=f.number)\n",
        "plt.xticks(range(final2.shape[1]), final2.columns, fontsize=14, rotation=45)\n",
        "plt.yticks(range(final2.shape[1]), final2.columns, fontsize=14)\n",
        "cb = plt.colorbar()\n",
        "cb.ax.tick_params(labelsize=14)\n",
        "plt.title('Correlation Matrix', fontsize=16);"
      ],
      "execution_count": 74,
      "outputs": [
        {
          "output_type": "display_data",
          "data": {
            "image/png": "[encoded data removed]",
            "text/plain": [
              "<Figure size 864x720 with 2 Axes>"
            ]
          },
          "metadata": {
            "tags": []
          }
        }
      ]
    },
    {
      "cell_type": "code",
      "metadata": {
        "id": "mMVSyrp7E5PR",
        "colab_type": "code",
        "colab": {}
      },
      "source": [
        "# standardizing the data\n",
        "from sklearn.preprocessing import StandardScaler\n",
        "scaler = StandardScaler()\n",
        "X_train_scaled = scaler.fit_transform(X_train)\n",
        "X_test_scaled = scaler.fit_transform(X_test)"
      ],
      "execution_count": 0,
      "outputs": []
    },
    {
      "cell_type": "code",
      "metadata": {
        "id": "YKg59KicE6yv",
        "colab_type": "code",
        "outputId": "293b4aa7-7454-4ba4-df16-e428c401c493",
        "colab": {
          "base_uri": "https://localhost:8080/",
          "height": 84
        }
      },
      "source": [
        "# Nested Cv for model selection\n",
        "\n",
        "import numpy as np\n",
        "from sklearn import neighbors\n",
        "from sklearn import linear_model\n",
        "\n",
        "param_grid_k = [{'n_neighbors': range(1,21),'weights': [\"uniform\", \"distance\"]}]\n",
        "param_grid_l = [{'C': range(1,20),'penalty': ['l1', 'l2']}]\n",
        "\n",
        "\n",
        "knn_clf = neighbors.KNeighborsClassifier()\n",
        "Logit_clf = linear_model.LogisticRegression()\n",
        "\n",
        "# knn\n",
        "clf = GridSearchCV(estimator=knn_clf, param_grid=param_grid_k, cv=3, n_jobs=-1,scoring='accuracy')\n",
        "clf.fit(X_train_scaled, Y_train)\n",
        "print('KNN best parameters: 'clf.best_params_)\n",
        "print('KNN best score: ', clf.best_score_)\n",
        "    \n",
        "# logit\n",
        "clf = GridSearchCV(estimator=Logit_clf, param_grid=param_grid_l, cv=3,n_jobs=-1,scoring=\"accuracy\")\n",
        "clf.fit(X_train, Y_train)\n",
        "print('Logistic best parameters: ',clf.best_params_)\n",
        "print('Logistic best score: ',clf.best_score_)"
      ],
      "execution_count": 0,
      "outputs": [
        {
          "output_type": "stream",
          "text": [
            "{'n_neighbors': 19, 'weights': 'distance'}\n",
            "0.723260912783063\n",
            "{'C': 7, 'penalty': 'l2'}\n",
            "0.7231977327253285\n"
          ],
          "name": "stdout"
        }
      ]
    },
    {
      "cell_type": "code",
      "metadata": {
        "id": "G7LfDXoKG4EM",
        "colab_type": "code",
        "outputId": "66b17d7e-1322-4447-ea96-1d2ed4b295be",
        "colab": {
          "base_uri": "https://localhost:8080/",
          "height": 50
        }
      },
      "source": [
        "# Nested Cv for model selection\n",
        "from sklearn.tree import DecisionTreeClassifier\n",
        "\n",
        "param_grid_t = [{'max_depth': range(1,20), 'min_samples_split': range(2,20)}]\n",
        "\n",
        "tree_clf = DecisionTreeClassifier()\n",
        "\n",
        "    # tree\n",
        "clf = GridSearchCV(estimator=tree_clf, param_grid=param_grid_t,n_jobs = -1, cv=5,scoring=\"accuracy\")\n",
        "clf.fit(X_train, Y_train)\n",
        "print('Decision Tree best parameters: ', clf.best_params_)\n",
        "print('Decision Tree best score: ',clf.best_score_)"
      ],
      "execution_count": 0,
      "outputs": [
        {
          "output_type": "stream",
          "text": [
            "{'max_depth': 7, 'min_samples_split': 17}\n",
            "0.7339566735556652\n"
          ],
          "name": "stdout"
        }
      ]
    },
    {
      "cell_type": "code",
      "metadata": {
        "id": "ZgZ1fSmOG8DK",
        "colab_type": "code",
        "colab": {}
      },
      "source": [
        "from sklearn import svm\n",
        "\n",
        "param_grid_sr = [{'kernel': ['rbf'], 'gamma': [1,1e-3,1e-4,1e-5],'C': [1, 10, 100, 1000]}]\n",
        "param_grid_sp = [{'kernel': ['poly'], 'degree': [1,2,3],'C': [1, 10, 100, 1000]}]\n",
        "param_grid_ln = [{'kernel': ['linear'],'C':[1,10,100,1000]}]\n",
        "\n",
        "\n",
        "svm_clf = svm.SVC()\n",
        "\n",
        "\n",
        "    # svm rbf\n",
        "clf = GridSearchCV(estimator=svm_clf, param_grid=param_grid_sr, cv=5,n_jobs=-1,scoring='accuracy')\n",
        "clf.fit(X_train_scaled, Y_train)\n",
        "print('SVM RBF best parameters: ',clf.best_params_)\n",
        "print('SVM RBF best score: ',clf.best_score_)\n",
        "\n",
        "\n",
        "    # svm poly\n",
        "clf = GridSearchCV(estimator=svm_clf, param_grid=param_grid_sp, cv=5,n_jobs=-1,scoring='accuracy')\n",
        "clf.fit(X_train_scaled, Y_train)\n",
        "print('SVM poly best parameters: ',clf.best_params_)\n",
        "print('SVM poly best score: ',clf.best_score_)\n",
        "    \n",
        "    # linearSVC\n",
        "clf = GridSearchCV(estimator=svm_clf, param_grid=param_grid_ln, cv=5,n_jobs=-1,scoring='accuracy')\n",
        "clf.fit(X_train_scaled, Y_train)\n",
        "print('SVM linear best parameters: ',clf.best_params_)\n",
        "print('SVM linear best score: ',clf.best_score_)"
      ],
      "execution_count": 0,
      "outputs": []
    },
    {
      "cell_type": "code",
      "metadata": {
        "id": "FWWNaJUVHASt",
        "colab_type": "code",
        "outputId": "62957cef-8aea-4408-cd25-8378ae6098ce",
        "colab": {
          "base_uri": "https://localhost:8080/",
          "height": 50
        }
      },
      "source": [
        "from sklearn import ensemble\n",
        "\n",
        "param_grid_RF = [{'n_estimators': [250,500,750], 'max_depth': range(1,7), 'min_samples_split': range(2,7)}]\n",
        "\n",
        "enm_RF = ensemble.RandomForestClassifier()\n",
        "\n",
        "    # Gradient Boosting\n",
        "clf = GridSearchCV(estimator=enm_RF, param_grid=param_grid_RF, cv=5, n_jobs=-1,scoring='accuracy')\n",
        "clf.fit(X_train, Y_train)\n",
        "print('Random Forrest best parameters: ',clf.best_params_)\n",
        "print('Random Forrest best score: ',clf.best_score_)"
      ],
      "execution_count": 0,
      "outputs": [
        {
          "output_type": "stream",
          "text": [
            "Random Forrest best parameters:  {'max_depth': 6, 'min_samples_split': 4, 'n_estimators': 750}\n",
            "Random Forrest best score:  0.7341461051301799\n"
          ],
          "name": "stdout"
        }
      ]
    },
    {
      "cell_type": "code",
      "metadata": {
        "id": "2lSeGOZTZA8i",
        "colab_type": "code",
        "outputId": "34fb8ed6-2081-4201-9694-f3682e8a3965",
        "colab": {
          "base_uri": "https://localhost:8080/",
          "height": 151
        }
      },
      "source": [
        "RF = ensemble.RandomForestClassifier(max_depth = 6,min_samples_split=4,n_estimators=750)\n",
        "RF.fit(X_train,Y_train)"
      ],
      "execution_count": 0,
      "outputs": [
        {
          "output_type": "execute_result",
          "data": {
            "text/plain": [
              "RandomForestClassifier(bootstrap=True, ccp_alpha=0.0, class_weight=None,\n",
              "                       criterion='gini', max_depth=6, max_features='auto',\n",
              "                       max_leaf_nodes=None, max_samples=None,\n",
              "                       min_impurity_decrease=0.0, min_impurity_split=None,\n",
              "                       min_samples_leaf=1, min_samples_split=4,\n",
              "                       min_weight_fraction_leaf=0.0, n_estimators=750,\n",
              "                       n_jobs=None, oob_score=False, random_state=None,\n",
              "                       verbose=0, warm_start=False)"
            ]
          },
          "metadata": {
            "tags": []
          },
          "execution_count": 98
        }
      ]
    },
    {
      "cell_type": "code",
      "metadata": {
        "id": "57VZXVj-Zc--",
        "colab_type": "code",
        "outputId": "91615a70-2057-440d-c8ce-78e229a31421",
        "colab": {
          "base_uri": "https://localhost:8080/",
          "height": 118
        }
      },
      "source": [
        "X_train.columns"
      ],
      "execution_count": 0,
      "outputs": [
        {
          "output_type": "execute_result",
          "data": {
            "text/plain": [
              "Index(['stars', 'review_count', 'total_restaurants', 'Non_elite_fans',\n",
              "       'elite_fans', 'Non_elite_total_reviews', 'elite_total_reviews',\n",
              "       'Non_elite_rest_reviews', 'elite_rest_reviews', 'Non_elite_rating',\n",
              "       'elite_rating', 'avg_checkins_peryear', 'drink', 'food', 'inside',\n",
              "       'menu', 'outside'],\n",
              "      dtype='object')"
            ]
          },
          "metadata": {
            "tags": []
          },
          "execution_count": 99
        }
      ]
    },
    {
      "cell_type": "code",
      "metadata": {
        "id": "t2lxNOPRZPfp",
        "colab_type": "code",
        "outputId": "e829be5b-6b9f-423b-a082-ae214ba6b214",
        "colab": {
          "base_uri": "https://localhost:8080/",
          "height": 84
        }
      },
      "source": [
        "RF.feature_importances_"
      ],
      "execution_count": 0,
      "outputs": [
        {
          "output_type": "execute_result",
          "data": {
            "text/plain": [
              "array([0.00911819, 0.11737339, 0.13470554, 0.06969164, 0.05316345,\n",
              "       0.0257144 , 0.02721625, 0.16425389, 0.04283664, 0.02300877,\n",
              "       0.03496509, 0.06942924, 0.02094467, 0.1789917 , 0.02305764,\n",
              "       0.00066462, 0.0048649 ])"
            ]
          },
          "metadata": {
            "tags": []
          },
          "execution_count": 100
        }
      ]
    },
    {
      "cell_type": "code",
      "metadata": {
        "id": "WdxfsbhZK5Dw",
        "colab_type": "code",
        "colab": {}
      },
      "source": [
        "sns.barplot(x=X_train.columns,y=RF.feature_importances_)"
      ],
      "execution_count": 0,
      "outputs": []
    },
    {
      "cell_type": "code",
      "metadata": {
        "id": "LKnzcMe5ZemS",
        "colab_type": "code",
        "colab": {}
      },
      "source": [
        "feature_importance = zip(X_train.columns,RF.feature_importances_)"
      ],
      "execution_count": 0,
      "outputs": []
    },
    {
      "cell_type": "code",
      "metadata": {
        "id": "jGYD9JjsZkYy",
        "colab_type": "code",
        "colab": {}
      },
      "source": [
        "feature_importance = list(feature_importance)"
      ],
      "execution_count": 0,
      "outputs": []
    },
    {
      "cell_type": "code",
      "metadata": {
        "id": "Fox5LTW5Y5Qi",
        "colab_type": "code",
        "colab": {}
      },
      "source": [
        "feature_importance = sorted(feature_importance, key = lambda x: x[1])"
      ],
      "execution_count": 0,
      "outputs": []
    },
    {
      "cell_type": "code",
      "metadata": {
        "id": "hcyP5B0_aQfX",
        "colab_type": "code",
        "outputId": "488e30a2-7e78-4b9f-8da0-54f3dab0a40f",
        "colab": {
          "base_uri": "https://localhost:8080/",
          "height": 302
        }
      },
      "source": [
        "feature_importance"
      ],
      "execution_count": 0,
      "outputs": [
        {
          "output_type": "execute_result",
          "data": {
            "text/plain": [
              "[('menu', 0.0006646184271291933),\n",
              " ('outside', 0.004864902573292504),\n",
              " ('stars', 0.009118189281705645),\n",
              " ('drink', 0.02094466688123134),\n",
              " ('Non_elite_rating', 0.023008773390246817),\n",
              " ('inside', 0.02305763780688431),\n",
              " ('Non_elite_total_reviews', 0.025714396147849764),\n",
              " ('elite_total_reviews', 0.02721625246739476),\n",
              " ('elite_rating', 0.0349650857436977),\n",
              " ('elite_rest_reviews', 0.042836635531792094),\n",
              " ('elite_fans', 0.053163446816678214),\n",
              " ('avg_checkins_peryear', 0.06942923540334894),\n",
              " ('Non_elite_fans', 0.06969163664933693),\n",
              " ('review_count', 0.11737339115125453),\n",
              " ('total_restaurants', 0.13470554188354433),\n",
              " ('Non_elite_rest_reviews', 0.1642538851596887),\n",
              " ('food', 0.17899170468492423)]"
            ]
          },
          "metadata": {
            "tags": []
          },
          "execution_count": 104
        }
      ]
    },
    {
      "cell_type": "code",
      "metadata": {
        "id": "G7qEoEv0G-LV",
        "colab_type": "code",
        "outputId": "986bdc06-6966-4ffe-8467-0ba38925dc7f",
        "colab": {
          "base_uri": "https://localhost:8080/",
          "height": 50
        }
      },
      "source": [
        "from sklearn import ensemble\n",
        "\n",
        "param_grid_GB = [{'n_estimators': [500,750,1000], 'max_depth': range(1,7), 'min_samples_split': range(2,7),\n",
        "          'learning_rate': [0.01,0.1,0.5]}]\n",
        "\n",
        "enm_GB = ensemble.GradientBoostingClassifier()\n",
        "\n",
        "    # Gradient Boosting\n",
        "clf = GridSearchCV(estimator=enm_GB, param_grid=param_grid_GB, cv=5, n_jobs=-1,scoring='accuracy')\n",
        "clf.fit(X_train, Y_train)\n",
        "print('Gradient Boosting best parameters: ',clf.best_params_)\n",
        "print('Gradient Boosting best score: ',clf.best_score_)"
      ],
      "execution_count": 0,
      "outputs": [
        {
          "output_type": "stream",
          "text": [
            "Gradient Boosting best parameters:  {'learning_rate': 0.1, 'max_depth': 3, 'min_samples_split': 4, 'n_estimators': 500}\n",
            "Gradient Boosting best score:  0.7664435236950149\n"
          ],
          "name": "stdout"
        }
      ]
    },
    {
      "cell_type": "code",
      "metadata": {
        "id": "lHQJvo_AGY2h",
        "colab_type": "code",
        "outputId": "63f6dd96-6d50-4983-ed5e-203548effa51",
        "colab": {
          "base_uri": "https://localhost:8080/",
          "height": 50
        }
      },
      "source": [
        "from xgboost import XGBClassifier\n",
        "param_grid_XGB = {'n_estimators':[750,1000],'learning_rate':[0.001,0.01,0.1],'max_depth':[1,2,3,4,5,6]}\n",
        "\n",
        "xgb2 = XGBClassifier(objective='binary:logistic',random_state=42)\n",
        "\n",
        "\n",
        "    # XGBoost\n",
        "clf = GridSearchCV(estimator=xgb2, param_grid=param_grid_XGB, cv=5, n_jobs=-1,scoring='accuracy')\n",
        "clf.fit(X_train, Y_train)\n",
        "print('XGBoost best parameters: ',clf.best_params_)\n",
        "print('XGBoost best score: ',clf.best_score_)"
      ],
      "execution_count": 0,
      "outputs": [
        {
          "output_type": "stream",
          "text": [
            "XGBoost best parameters:  {'learning_rate': 0.1, 'max_depth': 4, 'n_estimators': 750}\n",
            "XGBoost best score:  0.7662750029088935\n"
          ],
          "name": "stdout"
        }
      ]
    },
    {
      "cell_type": "code",
      "metadata": {
        "id": "sU4SlTwfK_MP",
        "colab_type": "code",
        "colab": {}
      },
      "source": [
        "from sklearn.ensemble import GradientBoostingClassifier\n",
        "from xgboost import XGBClassifier\n",
        "from sklearn.linear_model import LogisticRegression\n",
        "from sklearn.tree import DecisionTreeClassifier\n",
        "from mlxtend.classifier import StackingClassifier\n",
        "\n",
        "# Initializing models\n",
        "\n",
        "clf1 = DecisionTreeClassifier()\n",
        "clf2 = GradientBoostingClassifier(random_state=42)\n",
        "clf3 = XGBClassifier(objective='binary:logistic',random_state=42)\n",
        "lr = LogisticRegression()\n",
        "sclf = StackingClassifier(classifiers=[clf1,clf2,clf3], \n",
        "                          meta_classifier=lr)\n",
        "\n",
        "params = {'decisiontreeclassifier__max_depth': [5, 10],\n",
        "          'decisiontreeclassifier__min_samples_split': [10, 20],\n",
        "          'gradientboostingclassifier__n_estimators': [500, 750],\n",
        "          'gradientboostingclassifier__max_depth': [1, 5],\n",
        "          'gradientboostingclassifier__min_samples_split': [1, 5],\n",
        "          'gradientboostingclassifier__learning_rate': [0.1,0.2],\n",
        "          'xgbclassifier__n_estimators': [500,750],\n",
        "          'xgbclassifier__learning_rate': [0.1,0.2],\n",
        "          'xgbclassifier__max_depth': [1,5],\n",
        "          'meta-logisticregression__C': [0.1, 1.0, 10.0]}\n",
        "\n",
        "grid = GridSearchCV(estimator=sclf, \n",
        "                    param_grid=params, \n",
        "                    cv=3,\n",
        "                    refit=True)\n",
        "grid.fit(X_train, Y_train)\n",
        "\n",
        "cv_keys = ('mean_test_score', 'std_test_score', 'params')\n",
        "\n",
        "for r, _ in enumerate(grid.cv_results_['mean_test_score']):\n",
        "    print(\"%0.3f +/- %0.2f %r\"\n",
        "          % (grid.cv_results_[cv_keys[0]][r],\n",
        "             grid.cv_results_[cv_keys[1]][r] / 2.0,\n",
        "             grid.cv_results_[cv_keys[2]][r]))\n",
        "\n",
        "print('Best parameters: %s' % grid.best_params_)\n",
        "print('Accuracy: %.2f' % grid.best_score_)"
      ],
      "execution_count": 0,
      "outputs": []
    },
    {
      "cell_type": "code",
      "metadata": {
        "id": "aOHoBcTiJtv1",
        "colab_type": "code",
        "colab": {}
      },
      "source": [
        ""
      ],
      "execution_count": 0,
      "outputs": []
    }
  ]
}